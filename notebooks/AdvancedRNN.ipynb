{
  "cells": [
    {
      "cell_type": "markdown",
      "metadata": {
        "collapsed": false,
        "id": "tQkvhqutaWTy"
      },
      "source": [
        "# 12 Advanced Recurrent Neural Networks\n",
        "\n",
        "Advanced Neural Network architectures represent significant advancements in the field of deep learning, which are most used in the domain of sequence modeling and processing. These architectures build upon the traditional feedforward neural networks and introduce recurrent connections, allowing them to exhibit temporal dynamics and memory capabilities.\n",
        "\n",
        "* The Elman RNN employs a simple recurrent loop in its hidden layer, enabling it to capture short-term temporal dependencies, making it suitable for applications such as speech recognition and time series analysis.\n",
        "* The Jordan RNN possesses feedback connections from the output layer to the hidden layer, rendering it capable of modeling longer-term dependencies, which finds applications in machine translation and language modeling tasks.\n",
        "* The Bidirectional RNN combines both forward and backward temporal processing, allowing it to consider both past and future context in its predictions, making it effective in natural language processing tasks such as sentiment analysis and named entity recognition.\n",
        "\n",
        "These advanced neural network architectures significantly expand the modeling capabilities of traditional neural networks and have become indispensable tools in various sequential data processing applications."
      ]
    },
    {
      "cell_type": "markdown",
      "metadata": {
        "collapsed": false,
        "id": "X8jVYT9FaWT4"
      },
      "source": [
        "### Exercise\n",
        "Use the IMDB movie reviews dataset to perform sentiment analysis with a Elman, Jordan and Bidirectional RNN.\n",
        "Highlight the differences on the performance of each architecture."
      ]
    },
    {
      "cell_type": "code",
      "execution_count": 16,
      "metadata": {
        "collapsed": true,
        "id": "UkJ8I1uDaWT5"
      },
      "outputs": [],
      "source": [
        "from keras.datasets import imdb\n",
        "#from keras.preprocessing import sequence\n",
        "from keras.utils.data_utils import pad_sequences\n",
        "from keras.models import Sequential\n",
        "from keras.layers import Embedding, SimpleRNN, Dense, Bidirectional\n",
        "from tensorflow.keras.preprocessing.sequence import pad_sequences"
      ]
    },
    {
      "cell_type": "markdown",
      "metadata": {
        "collapsed": false,
        "id": "mmbfX7YmaWT7"
      },
      "source": [
        "1. Load the IMDB movie reviews dataset"
      ]
    },
    {
      "cell_type": "code",
      "execution_count": 17,
      "metadata": {
        "id": "1-hVamJlaWT7"
      },
      "outputs": [],
      "source": [
        "max_features = 5000  # Number of words to consider as features\n",
        "max_len_short = 100  # Maximum sequence length for short sequences\n",
        "max_len_long = 500   # Maximum sequence length for long sequences\n",
        "\n",
        "(x_train, y_train), (x_test, y_test) = imdb.load_data(num_words=max_features)"
      ]
    },
    {
      "cell_type": "markdown",
      "metadata": {
        "collapsed": false,
        "id": "JKC8DMFDaWT8"
      },
      "source": [
        "2. Pad sequences to a fixed length for RNN input"
      ]
    },
    {
      "cell_type": "code",
      "source": [
        "#!pip install --upgrade keras"
      ],
      "metadata": {
        "id": "ly3JPSGdb_0P"
      },
      "execution_count": 18,
      "outputs": []
    },
    {
      "cell_type": "code",
      "execution_count": 19,
      "metadata": {
        "id": "vkTl_VRhaWT8"
      },
      "outputs": [],
      "source": [
        "x_train_short = pad_sequences(x_train, maxlen=max_len_short)\n",
        "x_test_short = pad_sequences(x_test, maxlen=max_len_short)\n",
        "\n",
        "x_train_long = pad_sequences(x_train, maxlen=max_len_long)\n",
        "x_test_long = pad_sequences(x_test, maxlen=max_len_long)"
      ]
    },
    {
      "cell_type": "markdown",
      "metadata": {
        "collapsed": false,
        "id": "GB4l7sIraWT9"
      },
      "source": [
        "3. Build the distinct RNN models"
      ]
    },
    {
      "cell_type": "code",
      "execution_count": 27,
      "metadata": {
        "id": "tqWuogEnaWT-"
      },
      "outputs": [],
      "source": [
        "def build_elman_rnn_model():\n",
        "    model = Sequential()\n",
        "    model.add(Embedding(max_features, 32))\n",
        "    model.add(SimpleRNN(32, activation='relu'))\n",
        "    model.add(Dense(1, activation='sigmoid'))\n",
        "    return model\n",
        "\n",
        "def build_jordan_rnn_model():\n",
        "    model = Sequential()\n",
        "    model.add(Embedding(max_features, 32))\n",
        "    model.add(SimpleRNN(32, activation='relu', return_sequences=False))\n",
        "    model.add(Dense(1, activation='sigmoid'))\n",
        "    return model\n",
        "\n",
        "def build_bidirectional_rnn_model():\n",
        "    model = Sequential()\n",
        "    model.add(Embedding(max_features, 32))\n",
        "    model.add(Bidirectional(SimpleRNN(32, activation='relu')))\n",
        "    model.add(Dense(1, activation='sigmoid'))\n",
        "    return model"
      ]
    },
    {
      "cell_type": "markdown",
      "metadata": {
        "collapsed": false,
        "id": "0R_Dlq2YaWT-"
      },
      "source": [
        "4. Train and evaluate the RNN model"
      ]
    },
    {
      "cell_type": "code",
      "execution_count": 21,
      "metadata": {
        "id": "aqkV0kuYaWT_"
      },
      "outputs": [],
      "source": [
        "def train_and_evaluate_model(model, x_train, y_train, x_test, y_test):\n",
        "    model.compile(optimizer='adam', loss='binary_crossentropy', metrics=['accuracy'])\n",
        "    history = model.fit(x_train, y_train, epochs=5, batch_size=128, validation_split=0.2)\n",
        "    loss, accuracy = model.evaluate(x_test, y_test)\n",
        "    return loss, accuracy, history"
      ]
    },
    {
      "cell_type": "markdown",
      "metadata": {
        "collapsed": false,
        "id": "rb0RFoYDaWT_"
      },
      "source": [
        "5. Train and evaluate the RNN model on short sequences"
      ]
    },
    {
      "cell_type": "code",
      "execution_count": 22,
      "metadata": {
        "id": "b9wdUd2JaWT_",
        "colab": {
          "base_uri": "https://localhost:8080/"
        },
        "outputId": "aac0573b-e8f4-42ce-f34c-fa6429599637"
      },
      "outputs": [
        {
          "output_type": "stream",
          "name": "stdout",
          "text": [
            "\n",
            "Training RNN model on short sequences:\n",
            "Epoch 1/5\n",
            "157/157 [==============================] - 46s 257ms/step - loss: 0.5860 - accuracy: 0.6706 - val_loss: 0.3944 - val_accuracy: 0.8172\n",
            "Epoch 2/5\n",
            "157/157 [==============================] - 26s 164ms/step - loss: 0.3403 - accuracy: 0.8545 - val_loss: 0.3621 - val_accuracy: 0.8362\n",
            "Epoch 3/5\n",
            "157/157 [==============================] - 22s 143ms/step - loss: 0.2735 - accuracy: 0.8888 - val_loss: 0.3543 - val_accuracy: 0.8444\n",
            "Epoch 4/5\n",
            "157/157 [==============================] - 21s 136ms/step - loss: 0.2328 - accuracy: 0.9070 - val_loss: 0.3975 - val_accuracy: 0.8436\n",
            "Epoch 5/5\n",
            "157/157 [==============================] - 22s 142ms/step - loss: 0.2059 - accuracy: 0.9201 - val_loss: 0.3732 - val_accuracy: 0.8350\n",
            "782/782 [==============================] - 10s 13ms/step - loss: 0.3700 - accuracy: 0.8415\n"
          ]
        }
      ],
      "source": [
        "print(\"\\nTraining RNN model on short sequences:\")\n",
        "rnn_model_short = build_elman_rnn_model()\n",
        "loss_short, accuracy_short, history_short = train_and_evaluate_model(\n",
        "    rnn_model_short, x_train_short, y_train, x_test_short, y_test\n",
        ")"
      ]
    },
    {
      "cell_type": "markdown",
      "metadata": {
        "collapsed": false,
        "id": "rBp-LMviaWUA"
      },
      "source": [
        "6. Train and evaluate the RNN model on long sequences"
      ]
    },
    {
      "cell_type": "code",
      "execution_count": 23,
      "metadata": {
        "id": "1wU5uXpNaWUA",
        "colab": {
          "base_uri": "https://localhost:8080/"
        },
        "outputId": "c7d3bc0d-c9b3-4b1b-fa2b-5d6495d61edf"
      },
      "outputs": [
        {
          "output_type": "stream",
          "name": "stdout",
          "text": [
            "\n",
            "Training Elman RNN model on long sequences:\n",
            "Epoch 1/5\n",
            "157/157 [==============================] - 120s 742ms/step - loss: 0.6692 - accuracy: 0.6077 - val_loss: 0.5767 - val_accuracy: 0.7492\n",
            "Epoch 2/5\n",
            "157/157 [==============================] - 106s 674ms/step - loss: 0.4402 - accuracy: 0.8090 - val_loss: 0.4010 - val_accuracy: 0.8364\n",
            "Epoch 3/5\n",
            "157/157 [==============================] - 103s 654ms/step - loss: 0.3359 - accuracy: 0.8608 - val_loss: 0.3628 - val_accuracy: 0.8468\n",
            "Epoch 4/5\n",
            "157/157 [==============================] - 95s 606ms/step - loss: 0.3643 - accuracy: 0.8565 - val_loss: 0.5071 - val_accuracy: 0.7492\n",
            "Epoch 5/5\n",
            "157/157 [==============================] - 95s 608ms/step - loss: 0.3048 - accuracy: 0.8737 - val_loss: 0.3437 - val_accuracy: 0.8648\n",
            "782/782 [==============================] - 38s 49ms/step - loss: 0.3395 - accuracy: 0.8638\n"
          ]
        }
      ],
      "source": [
        "print(\"\\nTraining Elman RNN model on long sequences:\")\n",
        "rnn_model_long = build_elman_rnn_model()\n",
        "loss_long, accuracy_long, history_long = train_and_evaluate_model(\n",
        "    rnn_model_long, x_train_long, y_train, x_test_long, y_test\n",
        ")"
      ]
    },
    {
      "cell_type": "markdown",
      "metadata": {
        "collapsed": false,
        "id": "FrYZqgC1aWUB"
      },
      "source": [
        "7. Compare the results"
      ]
    },
    {
      "cell_type": "code",
      "execution_count": 28,
      "metadata": {
        "id": "6mCl-3FPaWUB",
        "colab": {
          "base_uri": "https://localhost:8080/"
        },
        "outputId": "3bdcad6b-f7f4-4dda-d8f5-beaa5607537f"
      },
      "outputs": [
        {
          "output_type": "stream",
          "name": "stdout",
          "text": [
            "\n",
            "Results on Short Sequences:\n",
            "Loss: 0.3700, Accuracy: 0.8415\n",
            "\n",
            "Results on Long Sequences:\n",
            "Loss: 0.3395, Accuracy: 0.8638\n"
          ]
        }
      ],
      "source": [
        "print(\"\\nResults on Short Sequences:\")\n",
        "print(f\"Loss: {loss_short:.4f}, Accuracy: {accuracy_short:.4f}\")\n",
        "\n",
        "print(\"\\nResults on Long Sequences:\")\n",
        "print(f\"Loss: {loss_long:.4f}, Accuracy: {accuracy_long:.4f}\")"
      ]
    },
    {
      "cell_type": "code",
      "execution_count": 29,
      "metadata": {
        "id": "009814de",
        "colab": {
          "base_uri": "https://localhost:8080/"
        },
        "outputId": "c896f166-8c7d-4558-fee4-3bc932f41765"
      },
      "outputs": [
        {
          "output_type": "stream",
          "name": "stdout",
          "text": [
            "\n",
            "Training Jordan RNN model on short sequences:\n",
            "Epoch 1/5\n",
            "157/157 [==============================] - 38s 232ms/step - loss: 0.6035 - accuracy: 0.6688 - val_loss: 0.4554 - val_accuracy: 0.7834\n",
            "Epoch 2/5\n",
            "157/157 [==============================] - 26s 167ms/step - loss: 0.3758 - accuracy: 0.8339 - val_loss: 0.3614 - val_accuracy: 0.8388\n",
            "Epoch 3/5\n",
            "157/157 [==============================] - 20s 128ms/step - loss: 0.2984 - accuracy: 0.8756 - val_loss: 0.3690 - val_accuracy: 0.8386\n",
            "Epoch 4/5\n",
            "157/157 [==============================] - 23s 144ms/step - loss: 0.2565 - accuracy: 0.8962 - val_loss: 0.4187 - val_accuracy: 0.8364\n",
            "Epoch 5/5\n",
            "157/157 [==============================] - 22s 138ms/step - loss: 0.2269 - accuracy: 0.9100 - val_loss: 0.3766 - val_accuracy: 0.8364\n",
            "782/782 [==============================] - 10s 12ms/step - loss: 0.3751 - accuracy: 0.8391\n"
          ]
        }
      ],
      "source": [
        "\n",
        "print(\"\\nTraining Jordan RNN model on short sequences:\")\n",
        "jordan_rnn_model_short = build_jordan_rnn_model()\n",
        "loss_short_jordan, accuracy_short_jordan, history_short_jordan = train_and_evaluate_model(\n",
        "    jordan_rnn_model_short, x_train_short, y_train, x_test_short, y_test\n",
        ")\n"
      ]
    },
    {
      "cell_type": "code",
      "execution_count": 30,
      "metadata": {
        "id": "d9c19370",
        "colab": {
          "base_uri": "https://localhost:8080/"
        },
        "outputId": "1780c7a4-f9a2-4749-baa8-e66a8bcb5c5f"
      },
      "outputs": [
        {
          "output_type": "stream",
          "name": "stdout",
          "text": [
            "\n",
            "Training Jordan RNN model on long sequences:\n",
            "Epoch 1/5\n",
            "157/157 [==============================] - 111s 697ms/step - loss: 0.6790 - accuracy: 0.5780 - val_loss: 0.6527 - val_accuracy: 0.6322\n",
            "Epoch 2/5\n",
            "157/157 [==============================] - 106s 673ms/step - loss: 0.5649 - accuracy: 0.7149 - val_loss: 0.5236 - val_accuracy: 0.7362\n",
            "Epoch 3/5\n",
            "157/157 [==============================] - 99s 632ms/step - loss: 0.4080 - accuracy: 0.8268 - val_loss: 0.3917 - val_accuracy: 0.8266\n",
            "Epoch 4/5\n",
            "157/157 [==============================] - 99s 633ms/step - loss: 0.2859 - accuracy: 0.8820 - val_loss: 0.3400 - val_accuracy: 0.8508\n",
            "Epoch 5/5\n",
            "157/157 [==============================] - 95s 608ms/step - loss: 0.2486 - accuracy: 0.9022 - val_loss: 0.3653 - val_accuracy: 0.8488\n",
            "782/782 [==============================] - 38s 48ms/step - loss: 0.3672 - accuracy: 0.8475\n"
          ]
        }
      ],
      "source": [
        "\n",
        "print(\"\\nTraining Jordan RNN model on long sequences:\")\n",
        "jordan_rnn_model_long = build_jordan_rnn_model()\n",
        "loss_long_jordan, accuracy_long_jordan, history_long_jordan = train_and_evaluate_model(\n",
        "    jordan_rnn_model_long, x_train_long, y_train, x_test_long, y_test\n",
        ")\n"
      ]
    },
    {
      "cell_type": "code",
      "source": [
        "print(\"\\nResults on Short Sequences:\")\n",
        "print(f\"Loss: {loss_short_jordan:.4f}, Accuracy: {accuracy_short_jordan:.4f}\")\n",
        "\n",
        "print(\"\\nResults on Long Sequences:\")\n",
        "print(f\"Loss: {loss_long_jordan:.4f}, Accuracy: {accuracy_long_jordan:.4f}\")"
      ],
      "metadata": {
        "colab": {
          "base_uri": "https://localhost:8080/"
        },
        "id": "CdBLM10ZmQgv",
        "outputId": "6e3c5e64-2372-4bb4-95d4-1ec52a1a50a5"
      },
      "execution_count": 33,
      "outputs": [
        {
          "output_type": "stream",
          "name": "stdout",
          "text": [
            "\n",
            "Results on Short Sequences:\n",
            "Loss: 0.3751, Accuracy: 0.8391\n",
            "\n",
            "Results on Long Sequences:\n",
            "Loss: 0.3672, Accuracy: 0.8475\n"
          ]
        }
      ]
    },
    {
      "cell_type": "code",
      "execution_count": 31,
      "metadata": {
        "id": "e32e9d70",
        "colab": {
          "base_uri": "https://localhost:8080/"
        },
        "outputId": "b201aa17-b840-4342-c6ab-12ace2b0eb6f"
      },
      "outputs": [
        {
          "output_type": "stream",
          "name": "stdout",
          "text": [
            "\n",
            "Training Bidirectional RNN model on short sequences:\n",
            "Epoch 1/5\n",
            "157/157 [==============================] - 51s 301ms/step - loss: 0.6680 - accuracy: 0.5946 - val_loss: 0.5857 - val_accuracy: 0.7112\n",
            "Epoch 2/5\n",
            "157/157 [==============================] - 39s 250ms/step - loss: 0.3884 - accuracy: 0.8281 - val_loss: 0.3598 - val_accuracy: 0.8416\n",
            "Epoch 3/5\n",
            "157/157 [==============================] - 37s 233ms/step - loss: 0.2768 - accuracy: 0.8884 - val_loss: 0.3552 - val_accuracy: 0.8410\n",
            "Epoch 4/5\n",
            "157/157 [==============================] - 38s 240ms/step - loss: 0.2212 - accuracy: 0.9122 - val_loss: 0.4003 - val_accuracy: 0.8264\n",
            "Epoch 5/5\n",
            "157/157 [==============================] - 35s 224ms/step - loss: 0.1825 - accuracy: 0.9316 - val_loss: 0.4088 - val_accuracy: 0.8380\n",
            "782/782 [==============================] - 17s 21ms/step - loss: 0.4007 - accuracy: 0.8363\n"
          ]
        }
      ],
      "source": [
        "\n",
        "print(\"\\nTraining Bidirectional RNN model on short sequences:\")\n",
        "bidirectional_rnn_model_short = build_bidirectional_rnn_model()\n",
        "loss_short_bidirectional, accuracy_short_bidirectional, history_short_bidirectional = train_and_evaluate_model(\n",
        "    bidirectional_rnn_model_short, x_train_short, y_train, x_test_short, y_test\n",
        ")\n"
      ]
    },
    {
      "cell_type": "code",
      "execution_count": 32,
      "metadata": {
        "id": "3426f2c8",
        "colab": {
          "base_uri": "https://localhost:8080/"
        },
        "outputId": "723d6c2f-caa2-4b55-ce41-c7569e7c8713"
      },
      "outputs": [
        {
          "output_type": "stream",
          "name": "stdout",
          "text": [
            "\n",
            "Training Bidirectional RNN model on long sequences:\n",
            "Epoch 1/5\n",
            "157/157 [==============================] - 189s 1s/step - loss: 0.6113 - accuracy: 0.6618 - val_loss: 0.7538 - val_accuracy: 0.7106\n",
            "Epoch 2/5\n",
            "157/157 [==============================] - 178s 1s/step - loss: 0.5190 - accuracy: 0.7667 - val_loss: 0.5211 - val_accuracy: 0.7560\n",
            "Epoch 3/5\n",
            "157/157 [==============================] - 166s 1s/step - loss: 0.4400 - accuracy: 0.8115 - val_loss: 0.4428 - val_accuracy: 0.8032\n",
            "Epoch 4/5\n",
            "157/157 [==============================] - 160s 1s/step - loss: 0.4030 - accuracy: 0.8275 - val_loss: 0.4095 - val_accuracy: 0.8302\n",
            "Epoch 5/5\n",
            "157/157 [==============================] - 164s 1s/step - loss: 0.3112 - accuracy: 0.8699 - val_loss: 0.3836 - val_accuracy: 0.8360\n",
            "782/782 [==============================] - 73s 93ms/step - loss: 0.3773 - accuracy: 0.8397\n"
          ]
        }
      ],
      "source": [
        "\n",
        "print(\"\\nTraining Bidirectional RNN model on long sequences:\")\n",
        "bidirectional_rnn_model_long = build_bidirectional_rnn_model()\n",
        "loss_long_bidirectional, accuracy_long_bidirectional, history_long_bidirectional = train_and_evaluate_model(\n",
        "    bidirectional_rnn_model_long, x_train_long, y_train, x_test_long, y_test\n",
        ")\n"
      ]
    },
    {
      "cell_type": "code",
      "source": [
        "print(\"\\nResults on Short Sequences:\")\n",
        "print(f\"Loss: {loss_short_bidirectional:.4f}, Accuracy: {accuracy_short_bidirectional:.4f}\")\n",
        "\n",
        "print(\"\\nResults on Long Sequences:\")\n",
        "print(f\"Loss: {loss_long_bidirectional:.4f}, Accuracy: {accuracy_long_bidirectional:.4f}\")"
      ],
      "metadata": {
        "colab": {
          "base_uri": "https://localhost:8080/"
        },
        "id": "nGi1HHiAmo6U",
        "outputId": "09bef2cb-1c18-483f-f5db-04f2aaa9dee1"
      },
      "execution_count": 34,
      "outputs": [
        {
          "output_type": "stream",
          "name": "stdout",
          "text": [
            "\n",
            "Results on Short Sequences:\n",
            "Loss: 0.4007, Accuracy: 0.8363\n",
            "\n",
            "Results on Long Sequences:\n",
            "Loss: 0.3773, Accuracy: 0.8397\n"
          ]
        }
      ]
    },
    {
      "cell_type": "markdown",
      "source": [
        "# RESULTADOS\n",
        "---\n",
        "## Elman RNN model\n",
        "Results on Short Sequences:\n",
        "Loss: 0.3700, Accuracy: 0.8415\n",
        "\n",
        "Results on Long Sequences:\n",
        "Loss: 0.3395, Accuracy: 0.8638\n",
        "\n",
        "----\n",
        "## Jordan RNN model\n",
        "Results on Short Sequences:\n",
        "Loss: 0.3751, Accuracy: 0.8391\n",
        "\n",
        "Results on Long Sequences:\n",
        "Loss: 0.3672, Accuracy: 0.8475\n",
        "\n",
        "----\n",
        "## Bidirectional RNN model\n",
        "\n",
        "Results on Short Sequences:\n",
        "Loss: 0.4007, Accuracy: 0.8363\n",
        "\n",
        "Results on Long Sequences:\n",
        "Loss: 0.3773, Accuracy: 0.8397"
      ],
      "metadata": {
        "id": "cF-XZda5pfTr"
      }
    }
  ],
  "metadata": {
    "kernelspec": {
      "display_name": "Python 3",
      "name": "python3"
    },
    "language_info": {
      "codemirror_mode": {
        "name": "ipython",
        "version": 2
      },
      "file_extension": ".py",
      "mimetype": "text/x-python",
      "name": "python",
      "nbconvert_exporter": "python",
      "pygments_lexer": "ipython2",
      "version": "2.7.6"
    },
    "colab": {
      "provenance": [],
      "gpuType": "T4"
    },
    "accelerator": "GPU"
  },
  "nbformat": 4,
  "nbformat_minor": 0
}