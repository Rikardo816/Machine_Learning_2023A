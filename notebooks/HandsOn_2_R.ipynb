{
 "cells": [
  {
   "attachments": {},
   "cell_type": "markdown",
   "id": "0ab428d1",
   "metadata": {},
   "source": [
    "# Hands On: Data Quality and Pre-Processing"
   ]
  },
  {
   "attachments": {},
   "cell_type": "markdown",
   "id": "d7fa1349",
   "metadata": {},
   "source": [
    "## 1. Assessing Data Quality"
   ]
  },
  {
   "attachments": {},
   "cell_type": "markdown",
   "id": "91b49edd",
   "metadata": {},
   "source": [
    "Load the following packages: dplyr, na.tools, tidyimpute (version from github\n",
    "decisionpatterns/tidyimpute”)\n",
    "\n",
    "Load the carInsurance data set about the insurance risk rating of cars based on several characteristics of \n",
    "each car\n"
   ]
  },
  {
   "cell_type": "code",
   "execution_count": 37,
   "id": "216f5507",
   "metadata": {
    "vscode": {
     "languageId": "r"
    }
   },
   "outputs": [
    {
     "name": "stderr",
     "output_type": "stream",
     "text": [
      "Warning message:\n",
      "\"package 'dplyr' is in use and will not be installed\"\n",
      "Warning message:\n",
      "\"package 'na.tools' is in use and will not be installed\"\n",
      "Warning message:\n",
      "\"package 'devtools' is in use and will not be installed\"\n"
     ]
    },
    {
     "name": "stdout",
     "output_type": "stream",
     "text": [
      "package 'lifecycle' successfully unpacked and MD5 sums checked\n",
      "\n",
      "The downloaded binary packages are in\n",
      "\tC:\\Users\\aleja\\AppData\\Local\\Temp\\RtmpEJsNan\\downloaded_packages\n"
     ]
    }
   ],
   "source": [
    "# Instalar paquete dplyr\n",
    "install.packages(\"dplyr\")\n",
    "# Instalar paquete na.tools\n",
    "install.packages(\"na.tools\")\n",
    "# Instalar paquete devtools\n",
    "install.packages(\"devtools\")\n",
    "\n",
    "#Instalar paquete necesario para dplyr\n",
    "install.packages('lifecycle')\n"
   ]
  },
  {
   "cell_type": "code",
   "execution_count": 38,
   "id": "051111f4",
   "metadata": {
    "vscode": {
     "languageId": "r"
    }
   },
   "outputs": [
    {
     "name": "stderr",
     "output_type": "stream",
     "text": [
      "WARNING: Rtools is required to build R packages, but is not currently installed.\n",
      "\n",
      "Please download and install Rtools 4.0 from https://cran.r-project.org/bin/windows/Rtools/.\n",
      "\n",
      "Skipping install of 'tidyimpute' from a github remote, the SHA1 (9e07748f) has not changed since last install.\n",
      "  Use `force = TRUE` to force installation\n",
      "\n"
     ]
    }
   ],
   "source": [
    "# Cargar paquetes\n",
    "library(dplyr)\n",
    "library(na.tools)\n",
    "library(devtools)\n",
    "\n",
    "# Instalar y cargar tidyimpute desde github\n",
    "devtools::install_github(\"decisionpatterns/tidyimpute\")\n",
    "library(tidyimpute)"
   ]
  },
  {
   "attachments": {},
   "cell_type": "markdown",
   "id": "0f255320",
   "metadata": {},
   "source": [
    "### (a) Check if there are any missing values.\n",
    "Tip: use the function any_na().\n"
   ]
  },
  {
   "cell_type": "code",
   "execution_count": 39,
   "id": "de6b3fd4",
   "metadata": {
    "vscode": {
     "languageId": "r"
    }
   },
   "outputs": [
    {
     "data": {
      "text/html": [
       "<table class=\"dataframe\">\n",
       "<caption>A data.frame: 6 × 26</caption>\n",
       "<thead>\n",
       "\t<tr><th></th><th scope=col>symboling</th><th scope=col>normalized-losses</th><th scope=col>make</th><th scope=col>fuel-type</th><th scope=col>aspiration</th><th scope=col>num-of-doors</th><th scope=col>body-style</th><th scope=col>drive-wheels</th><th scope=col>engine-location</th><th scope=col>wheel-base</th><th scope=col>...</th><th scope=col>engine-size</th><th scope=col>fuel-system</th><th scope=col>bore</th><th scope=col>stroke</th><th scope=col>compression-ratio</th><th scope=col>horsepower</th><th scope=col>peak-rpm</th><th scope=col>city-mpg</th><th scope=col>highway-mpg</th><th scope=col>price</th></tr>\n",
       "\t<tr><th></th><th scope=col>&lt;int&gt;</th><th scope=col>&lt;chr&gt;</th><th scope=col>&lt;chr&gt;</th><th scope=col>&lt;chr&gt;</th><th scope=col>&lt;chr&gt;</th><th scope=col>&lt;chr&gt;</th><th scope=col>&lt;chr&gt;</th><th scope=col>&lt;chr&gt;</th><th scope=col>&lt;chr&gt;</th><th scope=col>&lt;dbl&gt;</th><th scope=col>...</th><th scope=col>&lt;int&gt;</th><th scope=col>&lt;chr&gt;</th><th scope=col>&lt;chr&gt;</th><th scope=col>&lt;chr&gt;</th><th scope=col>&lt;dbl&gt;</th><th scope=col>&lt;chr&gt;</th><th scope=col>&lt;chr&gt;</th><th scope=col>&lt;int&gt;</th><th scope=col>&lt;int&gt;</th><th scope=col>&lt;chr&gt;</th></tr>\n",
       "</thead>\n",
       "<tbody>\n",
       "\t<tr><th scope=row>1</th><td>3</td><td>?  </td><td>alfa-romero</td><td>gas</td><td>std</td><td>two </td><td>convertible</td><td>rwd</td><td>front</td><td> 88.6</td><td>...</td><td>130</td><td>mpfi</td><td>3.47</td><td>2.68</td><td> 9.0</td><td>111</td><td>5000</td><td>21</td><td>27</td><td>16500</td></tr>\n",
       "\t<tr><th scope=row>2</th><td>1</td><td>?  </td><td>alfa-romero</td><td>gas</td><td>std</td><td>two </td><td>hatchback  </td><td>rwd</td><td>front</td><td> 94.5</td><td>...</td><td>152</td><td>mpfi</td><td>2.68</td><td>3.47</td><td> 9.0</td><td>154</td><td>5000</td><td>19</td><td>26</td><td>16500</td></tr>\n",
       "\t<tr><th scope=row>3</th><td>2</td><td>164</td><td>audi       </td><td>gas</td><td>std</td><td>four</td><td>sedan      </td><td>fwd</td><td>front</td><td> 99.8</td><td>...</td><td>109</td><td>mpfi</td><td>3.19</td><td>3.40</td><td>10.0</td><td>102</td><td>5500</td><td>24</td><td>30</td><td>13950</td></tr>\n",
       "\t<tr><th scope=row>4</th><td>2</td><td>164</td><td>audi       </td><td>gas</td><td>std</td><td>four</td><td>sedan      </td><td>4wd</td><td>front</td><td> 99.4</td><td>...</td><td>136</td><td>mpfi</td><td>3.19</td><td>3.40</td><td> 8.0</td><td>115</td><td>5500</td><td>18</td><td>22</td><td>17450</td></tr>\n",
       "\t<tr><th scope=row>5</th><td>2</td><td>?  </td><td>audi       </td><td>gas</td><td>std</td><td>two </td><td>sedan      </td><td>fwd</td><td>front</td><td> 99.8</td><td>...</td><td>136</td><td>mpfi</td><td>3.19</td><td>3.40</td><td> 8.5</td><td>110</td><td>5500</td><td>19</td><td>25</td><td>15250</td></tr>\n",
       "\t<tr><th scope=row>6</th><td>1</td><td>158</td><td>audi       </td><td>gas</td><td>std</td><td>four</td><td>sedan      </td><td>fwd</td><td>front</td><td>105.8</td><td>...</td><td>136</td><td>mpfi</td><td>3.19</td><td>3.40</td><td> 8.5</td><td>110</td><td>5500</td><td>19</td><td>25</td><td>17710</td></tr>\n",
       "</tbody>\n",
       "</table>\n"
      ],
      "text/latex": [
       "A data.frame: 6 × 26\n",
       "\\begin{tabular}{r|lllllllllllllllllllll}\n",
       "  & symboling & normalized-losses & make & fuel-type & aspiration & num-of-doors & body-style & drive-wheels & engine-location & wheel-base & ... & engine-size & fuel-system & bore & stroke & compression-ratio & horsepower & peak-rpm & city-mpg & highway-mpg & price\\\\\n",
       "  & <int> & <chr> & <chr> & <chr> & <chr> & <chr> & <chr> & <chr> & <chr> & <dbl> & ... & <int> & <chr> & <chr> & <chr> & <dbl> & <chr> & <chr> & <int> & <int> & <chr>\\\\\n",
       "\\hline\n",
       "\t1 & 3 & ?   & alfa-romero & gas & std & two  & convertible & rwd & front &  88.6 & ... & 130 & mpfi & 3.47 & 2.68 &  9.0 & 111 & 5000 & 21 & 27 & 16500\\\\\n",
       "\t2 & 1 & ?   & alfa-romero & gas & std & two  & hatchback   & rwd & front &  94.5 & ... & 152 & mpfi & 2.68 & 3.47 &  9.0 & 154 & 5000 & 19 & 26 & 16500\\\\\n",
       "\t3 & 2 & 164 & audi        & gas & std & four & sedan       & fwd & front &  99.8 & ... & 109 & mpfi & 3.19 & 3.40 & 10.0 & 102 & 5500 & 24 & 30 & 13950\\\\\n",
       "\t4 & 2 & 164 & audi        & gas & std & four & sedan       & 4wd & front &  99.4 & ... & 136 & mpfi & 3.19 & 3.40 &  8.0 & 115 & 5500 & 18 & 22 & 17450\\\\\n",
       "\t5 & 2 & ?   & audi        & gas & std & two  & sedan       & fwd & front &  99.8 & ... & 136 & mpfi & 3.19 & 3.40 &  8.5 & 110 & 5500 & 19 & 25 & 15250\\\\\n",
       "\t6 & 1 & 158 & audi        & gas & std & four & sedan       & fwd & front & 105.8 & ... & 136 & mpfi & 3.19 & 3.40 &  8.5 & 110 & 5500 & 19 & 25 & 17710\\\\\n",
       "\\end{tabular}\n"
      ],
      "text/markdown": [
       "\n",
       "A data.frame: 6 × 26\n",
       "\n",
       "| <!--/--> | symboling &lt;int&gt; | normalized-losses &lt;chr&gt; | make &lt;chr&gt; | fuel-type &lt;chr&gt; | aspiration &lt;chr&gt; | num-of-doors &lt;chr&gt; | body-style &lt;chr&gt; | drive-wheels &lt;chr&gt; | engine-location &lt;chr&gt; | wheel-base &lt;dbl&gt; | ... ... | engine-size &lt;int&gt; | fuel-system &lt;chr&gt; | bore &lt;chr&gt; | stroke &lt;chr&gt; | compression-ratio &lt;dbl&gt; | horsepower &lt;chr&gt; | peak-rpm &lt;chr&gt; | city-mpg &lt;int&gt; | highway-mpg &lt;int&gt; | price &lt;chr&gt; |\n",
       "|---|---|---|---|---|---|---|---|---|---|---|---|---|---|---|---|---|---|---|---|---|---|\n",
       "| 1 | 3 | ?   | alfa-romero | gas | std | two  | convertible | rwd | front |  88.6 | ... | 130 | mpfi | 3.47 | 2.68 |  9.0 | 111 | 5000 | 21 | 27 | 16500 |\n",
       "| 2 | 1 | ?   | alfa-romero | gas | std | two  | hatchback   | rwd | front |  94.5 | ... | 152 | mpfi | 2.68 | 3.47 |  9.0 | 154 | 5000 | 19 | 26 | 16500 |\n",
       "| 3 | 2 | 164 | audi        | gas | std | four | sedan       | fwd | front |  99.8 | ... | 109 | mpfi | 3.19 | 3.40 | 10.0 | 102 | 5500 | 24 | 30 | 13950 |\n",
       "| 4 | 2 | 164 | audi        | gas | std | four | sedan       | 4wd | front |  99.4 | ... | 136 | mpfi | 3.19 | 3.40 |  8.0 | 115 | 5500 | 18 | 22 | 17450 |\n",
       "| 5 | 2 | ?   | audi        | gas | std | two  | sedan       | fwd | front |  99.8 | ... | 136 | mpfi | 3.19 | 3.40 |  8.5 | 110 | 5500 | 19 | 25 | 15250 |\n",
       "| 6 | 1 | 158 | audi        | gas | std | four | sedan       | fwd | front | 105.8 | ... | 136 | mpfi | 3.19 | 3.40 |  8.5 | 110 | 5500 | 19 | 25 | 17710 |\n",
       "\n"
      ],
      "text/plain": [
       "  symboling normalized-losses make        fuel-type aspiration num-of-doors\n",
       "1 3         ?                 alfa-romero gas       std        two         \n",
       "2 1         ?                 alfa-romero gas       std        two         \n",
       "3 2         164               audi        gas       std        four        \n",
       "4 2         164               audi        gas       std        four        \n",
       "5 2         ?                 audi        gas       std        two         \n",
       "6 1         158               audi        gas       std        four        \n",
       "  body-style  drive-wheels engine-location wheel-base ... engine-size\n",
       "1 convertible rwd          front            88.6      ... 130        \n",
       "2 hatchback   rwd          front            94.5      ... 152        \n",
       "3 sedan       fwd          front            99.8      ... 109        \n",
       "4 sedan       4wd          front            99.4      ... 136        \n",
       "5 sedan       fwd          front            99.8      ... 136        \n",
       "6 sedan       fwd          front           105.8      ... 136        \n",
       "  fuel-system bore stroke compression-ratio horsepower peak-rpm city-mpg\n",
       "1 mpfi        3.47 2.68    9.0              111        5000     21      \n",
       "2 mpfi        2.68 3.47    9.0              154        5000     19      \n",
       "3 mpfi        3.19 3.40   10.0              102        5500     24      \n",
       "4 mpfi        3.19 3.40    8.0              115        5500     18      \n",
       "5 mpfi        3.19 3.40    8.5              110        5500     19      \n",
       "6 mpfi        3.19 3.40    8.5              110        5500     19      \n",
       "  highway-mpg price\n",
       "1 27          16500\n",
       "2 26          16500\n",
       "3 30          13950\n",
       "4 22          17450\n",
       "5 25          15250\n",
       "6 25          17710"
      ]
     },
     "metadata": {},
     "output_type": "display_data"
    }
   ],
   "source": [
    "df <- read.csv(\"../datasets/imports-85.data\")\n",
    "\n",
    "# Vector de nombres de las columnas\n",
    "nombres <- c(\"symboling\", \"normalized-losses\", \"make\", \n",
    "             \"fuel-type\", \"aspiration\", \"num-of-doors\", \n",
    "             \"body-style\", \"drive-wheels\", \"engine-location\",\n",
    "            \"wheel-base\", \"length\", \"width\", \"height\", \"curb-weight\",\n",
    "            \"engine-type\", \"num-of-cylinders\", \"engine-size\", \"fuel-system\",\n",
    "            \"bore\", \"stroke\", \"compression-ratio\", \"horsepower\",\n",
    "            \"peak-rpm\", \"city-mpg\", \"highway-mpg\", \"price\")  # Agrega los nombres deseados para cada columna\n",
    "\n",
    "# Asignar los nombres a las columnas del dataframe\n",
    "colnames(df) <- nombres\n",
    "\n",
    "head(df)"
   ]
  },
  {
   "cell_type": "code",
   "execution_count": 40,
   "id": "93fe59d4",
   "metadata": {
    "vscode": {
     "languageId": "r"
    }
   },
   "outputs": [
    {
     "data": {
      "text/html": [
       "FALSE"
      ],
      "text/latex": [
       "FALSE"
      ],
      "text/markdown": [
       "FALSE"
      ],
      "text/plain": [
       "[1] FALSE"
      ]
     },
     "metadata": {},
     "output_type": "display_data"
    }
   ],
   "source": [
    "anyNA(df)\n"
   ]
  },
  {
   "attachments": {},
   "cell_type": "markdown",
   "id": "8c50cbe9",
   "metadata": {},
   "source": [
    "### (b) Count the number of cases that have, at least, one missing value.\n",
    "Tip: use the function filter_any_na() and then count().\n"
   ]
  },
  {
   "cell_type": "code",
   "execution_count": 41,
   "id": "cee137ba",
   "metadata": {
    "vscode": {
     "languageId": "r"
    }
   },
   "outputs": [],
   "source": [
    "#Para poder usar el pipe de R\n",
    "library(magrittr)"
   ]
  },
  {
   "cell_type": "code",
   "execution_count": 42,
   "id": "07d0a2eb",
   "metadata": {
    "vscode": {
     "languageId": "r"
    }
   },
   "outputs": [
    {
     "name": "stdout",
     "output_type": "stream",
     "text": [
      "        symboling normalized-losses              make         fuel-type \n",
      "                0                 0                 0                 0 \n",
      "       aspiration      num-of-doors        body-style      drive-wheels \n",
      "                0                 0                 0                 0 \n",
      "  engine-location        wheel-base            length             width \n",
      "                0                 0                 0                 0 \n",
      "           height       curb-weight       engine-type  num-of-cylinders \n",
      "                0                 0                 0                 0 \n",
      "      engine-size       fuel-system              bore            stroke \n",
      "                0                 0                 0                 0 \n",
      "compression-ratio        horsepower          peak-rpm          city-mpg \n",
      "                0                 0                 0                 0 \n",
      "      highway-mpg             price \n",
      "                0                 0 \n"
     ]
    }
   ],
   "source": [
    "# Contar valores nulos por columna\n",
    "valores_nulos <- colSums(is.na(df))\n",
    "\n",
    "# Imprimir los valores nulos por columna\n",
    "print(valores_nulos)"
   ]
  },
  {
   "attachments": {},
   "cell_type": "markdown",
   "id": "f169c659",
   "metadata": {},
   "source": [
    "Como se puede apreciar no existen valores faltantes, pero esto se debe a que dichos valores estan representados por \"?\", entonces lo que vamos hacer es contar esos valores."
   ]
  },
  {
   "cell_type": "code",
   "execution_count": 43,
   "id": "5d55c2fc",
   "metadata": {
    "vscode": {
     "languageId": "r"
    }
   },
   "outputs": [
    {
     "name": "stdout",
     "output_type": "stream",
     "text": [
      "        symboling normalized-losses              make         fuel-type \n",
      "                0                40                 0                 0 \n",
      "       aspiration      num-of-doors        body-style      drive-wheels \n",
      "                0                 2                 0                 0 \n",
      "  engine-location        wheel-base            length             width \n",
      "                0                 0                 0                 0 \n",
      "           height       curb-weight       engine-type  num-of-cylinders \n",
      "                0                 0                 0                 0 \n",
      "      engine-size       fuel-system              bore            stroke \n",
      "                0                 0                 4                 4 \n",
      "compression-ratio        horsepower          peak-rpm          city-mpg \n",
      "                0                 2                 2                 0 \n",
      "      highway-mpg             price \n",
      "                0                 4 \n"
     ]
    }
   ],
   "source": [
    "# Contar valores iguales a \"?\" por columna\n",
    "interrogantes <- colSums(df == \"?\", na.rm = FALSE)\n",
    "\n",
    "# Imprimir los valores iguales a \"?\" por columna\n",
    "print(interrogantes)"
   ]
  },
  {
   "attachments": {},
   "cell_type": "markdown",
   "id": "1fc38209",
   "metadata": {},
   "source": [
    "### (c) Create a new data set by removing all the cases that have missing values.\n",
    "Tip: use the function drop_rows_any_na()\n"
   ]
  },
  {
   "cell_type": "code",
   "execution_count": 44,
   "id": "b8949b7e",
   "metadata": {
    "vscode": {
     "languageId": "r"
    }
   },
   "outputs": [
    {
     "data": {
      "text/html": [
       "<table class=\"dataframe\">\n",
       "<caption>A data.frame: 6 × 26</caption>\n",
       "<thead>\n",
       "\t<tr><th></th><th scope=col>symboling</th><th scope=col>normalized-losses</th><th scope=col>make</th><th scope=col>fuel-type</th><th scope=col>aspiration</th><th scope=col>num-of-doors</th><th scope=col>body-style</th><th scope=col>drive-wheels</th><th scope=col>engine-location</th><th scope=col>wheel-base</th><th scope=col>...</th><th scope=col>engine-size</th><th scope=col>fuel-system</th><th scope=col>bore</th><th scope=col>stroke</th><th scope=col>compression-ratio</th><th scope=col>horsepower</th><th scope=col>peak-rpm</th><th scope=col>city-mpg</th><th scope=col>highway-mpg</th><th scope=col>price</th></tr>\n",
       "\t<tr><th></th><th scope=col>&lt;int&gt;</th><th scope=col>&lt;chr&gt;</th><th scope=col>&lt;chr&gt;</th><th scope=col>&lt;chr&gt;</th><th scope=col>&lt;chr&gt;</th><th scope=col>&lt;chr&gt;</th><th scope=col>&lt;chr&gt;</th><th scope=col>&lt;chr&gt;</th><th scope=col>&lt;chr&gt;</th><th scope=col>&lt;dbl&gt;</th><th scope=col>...</th><th scope=col>&lt;int&gt;</th><th scope=col>&lt;chr&gt;</th><th scope=col>&lt;chr&gt;</th><th scope=col>&lt;chr&gt;</th><th scope=col>&lt;dbl&gt;</th><th scope=col>&lt;chr&gt;</th><th scope=col>&lt;chr&gt;</th><th scope=col>&lt;int&gt;</th><th scope=col>&lt;int&gt;</th><th scope=col>&lt;chr&gt;</th></tr>\n",
       "</thead>\n",
       "<tbody>\n",
       "\t<tr><th scope=row>3</th><td>2</td><td>164</td><td>audi</td><td>gas</td><td>std  </td><td>four</td><td>sedan</td><td>fwd</td><td>front</td><td> 99.8</td><td>...</td><td>109</td><td>mpfi</td><td>3.19</td><td>3.40</td><td>10.0</td><td>102</td><td>5500</td><td>24</td><td>30</td><td>13950</td></tr>\n",
       "\t<tr><th scope=row>4</th><td>2</td><td>164</td><td>audi</td><td>gas</td><td>std  </td><td>four</td><td>sedan</td><td>4wd</td><td>front</td><td> 99.4</td><td>...</td><td>136</td><td>mpfi</td><td>3.19</td><td>3.40</td><td> 8.0</td><td>115</td><td>5500</td><td>18</td><td>22</td><td>17450</td></tr>\n",
       "\t<tr><th scope=row>6</th><td>1</td><td>158</td><td>audi</td><td>gas</td><td>std  </td><td>four</td><td>sedan</td><td>fwd</td><td>front</td><td>105.8</td><td>...</td><td>136</td><td>mpfi</td><td>3.19</td><td>3.40</td><td> 8.5</td><td>110</td><td>5500</td><td>19</td><td>25</td><td>17710</td></tr>\n",
       "\t<tr><th scope=row>8</th><td>1</td><td>158</td><td>audi</td><td>gas</td><td>turbo</td><td>four</td><td>sedan</td><td>fwd</td><td>front</td><td>105.8</td><td>...</td><td>131</td><td>mpfi</td><td>3.13</td><td>3.40</td><td> 8.3</td><td>140</td><td>5500</td><td>17</td><td>20</td><td>23875</td></tr>\n",
       "\t<tr><th scope=row>10</th><td>2</td><td>192</td><td>bmw </td><td>gas</td><td>std  </td><td>two </td><td>sedan</td><td>rwd</td><td>front</td><td>101.2</td><td>...</td><td>108</td><td>mpfi</td><td>3.50</td><td>2.80</td><td> 8.8</td><td>101</td><td>5800</td><td>23</td><td>29</td><td>16430</td></tr>\n",
       "\t<tr><th scope=row>11</th><td>0</td><td>192</td><td>bmw </td><td>gas</td><td>std  </td><td>four</td><td>sedan</td><td>rwd</td><td>front</td><td>101.2</td><td>...</td><td>108</td><td>mpfi</td><td>3.50</td><td>2.80</td><td> 8.8</td><td>101</td><td>5800</td><td>23</td><td>29</td><td>16925</td></tr>\n",
       "</tbody>\n",
       "</table>\n"
      ],
      "text/latex": [
       "A data.frame: 6 × 26\n",
       "\\begin{tabular}{r|lllllllllllllllllllll}\n",
       "  & symboling & normalized-losses & make & fuel-type & aspiration & num-of-doors & body-style & drive-wheels & engine-location & wheel-base & ... & engine-size & fuel-system & bore & stroke & compression-ratio & horsepower & peak-rpm & city-mpg & highway-mpg & price\\\\\n",
       "  & <int> & <chr> & <chr> & <chr> & <chr> & <chr> & <chr> & <chr> & <chr> & <dbl> & ... & <int> & <chr> & <chr> & <chr> & <dbl> & <chr> & <chr> & <int> & <int> & <chr>\\\\\n",
       "\\hline\n",
       "\t3 & 2 & 164 & audi & gas & std   & four & sedan & fwd & front &  99.8 & ... & 109 & mpfi & 3.19 & 3.40 & 10.0 & 102 & 5500 & 24 & 30 & 13950\\\\\n",
       "\t4 & 2 & 164 & audi & gas & std   & four & sedan & 4wd & front &  99.4 & ... & 136 & mpfi & 3.19 & 3.40 &  8.0 & 115 & 5500 & 18 & 22 & 17450\\\\\n",
       "\t6 & 1 & 158 & audi & gas & std   & four & sedan & fwd & front & 105.8 & ... & 136 & mpfi & 3.19 & 3.40 &  8.5 & 110 & 5500 & 19 & 25 & 17710\\\\\n",
       "\t8 & 1 & 158 & audi & gas & turbo & four & sedan & fwd & front & 105.8 & ... & 131 & mpfi & 3.13 & 3.40 &  8.3 & 140 & 5500 & 17 & 20 & 23875\\\\\n",
       "\t10 & 2 & 192 & bmw  & gas & std   & two  & sedan & rwd & front & 101.2 & ... & 108 & mpfi & 3.50 & 2.80 &  8.8 & 101 & 5800 & 23 & 29 & 16430\\\\\n",
       "\t11 & 0 & 192 & bmw  & gas & std   & four & sedan & rwd & front & 101.2 & ... & 108 & mpfi & 3.50 & 2.80 &  8.8 & 101 & 5800 & 23 & 29 & 16925\\\\\n",
       "\\end{tabular}\n"
      ],
      "text/markdown": [
       "\n",
       "A data.frame: 6 × 26\n",
       "\n",
       "| <!--/--> | symboling &lt;int&gt; | normalized-losses &lt;chr&gt; | make &lt;chr&gt; | fuel-type &lt;chr&gt; | aspiration &lt;chr&gt; | num-of-doors &lt;chr&gt; | body-style &lt;chr&gt; | drive-wheels &lt;chr&gt; | engine-location &lt;chr&gt; | wheel-base &lt;dbl&gt; | ... ... | engine-size &lt;int&gt; | fuel-system &lt;chr&gt; | bore &lt;chr&gt; | stroke &lt;chr&gt; | compression-ratio &lt;dbl&gt; | horsepower &lt;chr&gt; | peak-rpm &lt;chr&gt; | city-mpg &lt;int&gt; | highway-mpg &lt;int&gt; | price &lt;chr&gt; |\n",
       "|---|---|---|---|---|---|---|---|---|---|---|---|---|---|---|---|---|---|---|---|---|---|\n",
       "| 3 | 2 | 164 | audi | gas | std   | four | sedan | fwd | front |  99.8 | ... | 109 | mpfi | 3.19 | 3.40 | 10.0 | 102 | 5500 | 24 | 30 | 13950 |\n",
       "| 4 | 2 | 164 | audi | gas | std   | four | sedan | 4wd | front |  99.4 | ... | 136 | mpfi | 3.19 | 3.40 |  8.0 | 115 | 5500 | 18 | 22 | 17450 |\n",
       "| 6 | 1 | 158 | audi | gas | std   | four | sedan | fwd | front | 105.8 | ... | 136 | mpfi | 3.19 | 3.40 |  8.5 | 110 | 5500 | 19 | 25 | 17710 |\n",
       "| 8 | 1 | 158 | audi | gas | turbo | four | sedan | fwd | front | 105.8 | ... | 131 | mpfi | 3.13 | 3.40 |  8.3 | 140 | 5500 | 17 | 20 | 23875 |\n",
       "| 10 | 2 | 192 | bmw  | gas | std   | two  | sedan | rwd | front | 101.2 | ... | 108 | mpfi | 3.50 | 2.80 |  8.8 | 101 | 5800 | 23 | 29 | 16430 |\n",
       "| 11 | 0 | 192 | bmw  | gas | std   | four | sedan | rwd | front | 101.2 | ... | 108 | mpfi | 3.50 | 2.80 |  8.8 | 101 | 5800 | 23 | 29 | 16925 |\n",
       "\n"
      ],
      "text/plain": [
       "   symboling normalized-losses make fuel-type aspiration num-of-doors\n",
       "3  2         164               audi gas       std        four        \n",
       "4  2         164               audi gas       std        four        \n",
       "6  1         158               audi gas       std        four        \n",
       "8  1         158               audi gas       turbo      four        \n",
       "10 2         192               bmw  gas       std        two         \n",
       "11 0         192               bmw  gas       std        four        \n",
       "   body-style drive-wheels engine-location wheel-base ... engine-size\n",
       "3  sedan      fwd          front            99.8      ... 109        \n",
       "4  sedan      4wd          front            99.4      ... 136        \n",
       "6  sedan      fwd          front           105.8      ... 136        \n",
       "8  sedan      fwd          front           105.8      ... 131        \n",
       "10 sedan      rwd          front           101.2      ... 108        \n",
       "11 sedan      rwd          front           101.2      ... 108        \n",
       "   fuel-system bore stroke compression-ratio horsepower peak-rpm city-mpg\n",
       "3  mpfi        3.19 3.40   10.0              102        5500     24      \n",
       "4  mpfi        3.19 3.40    8.0              115        5500     18      \n",
       "6  mpfi        3.19 3.40    8.5              110        5500     19      \n",
       "8  mpfi        3.13 3.40    8.3              140        5500     17      \n",
       "10 mpfi        3.50 2.80    8.8              101        5800     23      \n",
       "11 mpfi        3.50 2.80    8.8              101        5800     23      \n",
       "   highway-mpg price\n",
       "3  30          13950\n",
       "4  22          17450\n",
       "6  25          17710\n",
       "8  20          23875\n",
       "10 29          16430\n",
       "11 29          16925"
      ]
     },
     "metadata": {},
     "output_type": "display_data"
    }
   ],
   "source": [
    "# Crear un nuevo dataset sin filas que contengan \"?\"\n",
    "n_df <- df[!(apply(df, 1, function(x) any(x == \"?\"))), ]\n",
    "\n",
    "# Imprimir el nuevo dataset\n",
    "head(n_df)"
   ]
  },
  {
   "attachments": {},
   "cell_type": "markdown",
   "id": "68899325",
   "metadata": {},
   "source": [
    "### (d) Create a new data set by imputing all the missing values with 0.\n",
    "Tip: explore the variants of the function impute()"
   ]
  },
  {
   "cell_type": "code",
   "execution_count": 45,
   "id": "3cc03840",
   "metadata": {
    "vscode": {
     "languageId": "r"
    }
   },
   "outputs": [
    {
     "data": {
      "text/html": [
       "<table class=\"dataframe\">\n",
       "<caption>A data.frame: 6 × 26</caption>\n",
       "<thead>\n",
       "\t<tr><th></th><th scope=col>symboling</th><th scope=col>normalized-losses</th><th scope=col>make</th><th scope=col>fuel-type</th><th scope=col>aspiration</th><th scope=col>num-of-doors</th><th scope=col>body-style</th><th scope=col>drive-wheels</th><th scope=col>engine-location</th><th scope=col>wheel-base</th><th scope=col>...</th><th scope=col>engine-size</th><th scope=col>fuel-system</th><th scope=col>bore</th><th scope=col>stroke</th><th scope=col>compression-ratio</th><th scope=col>horsepower</th><th scope=col>peak-rpm</th><th scope=col>city-mpg</th><th scope=col>highway-mpg</th><th scope=col>price</th></tr>\n",
       "\t<tr><th></th><th scope=col>&lt;int&gt;</th><th scope=col>&lt;chr&gt;</th><th scope=col>&lt;chr&gt;</th><th scope=col>&lt;chr&gt;</th><th scope=col>&lt;chr&gt;</th><th scope=col>&lt;chr&gt;</th><th scope=col>&lt;chr&gt;</th><th scope=col>&lt;chr&gt;</th><th scope=col>&lt;chr&gt;</th><th scope=col>&lt;dbl&gt;</th><th scope=col>...</th><th scope=col>&lt;int&gt;</th><th scope=col>&lt;chr&gt;</th><th scope=col>&lt;chr&gt;</th><th scope=col>&lt;chr&gt;</th><th scope=col>&lt;dbl&gt;</th><th scope=col>&lt;chr&gt;</th><th scope=col>&lt;chr&gt;</th><th scope=col>&lt;int&gt;</th><th scope=col>&lt;int&gt;</th><th scope=col>&lt;chr&gt;</th></tr>\n",
       "</thead>\n",
       "<tbody>\n",
       "\t<tr><th scope=row>1</th><td>3</td><td>0  </td><td>alfa-romero</td><td>gas</td><td>std</td><td>two </td><td>convertible</td><td>rwd</td><td>front</td><td> 88.6</td><td>...</td><td>130</td><td>mpfi</td><td>3.47</td><td>2.68</td><td> 9.0</td><td>111</td><td>5000</td><td>21</td><td>27</td><td>16500</td></tr>\n",
       "\t<tr><th scope=row>2</th><td>1</td><td>0  </td><td>alfa-romero</td><td>gas</td><td>std</td><td>two </td><td>hatchback  </td><td>rwd</td><td>front</td><td> 94.5</td><td>...</td><td>152</td><td>mpfi</td><td>2.68</td><td>3.47</td><td> 9.0</td><td>154</td><td>5000</td><td>19</td><td>26</td><td>16500</td></tr>\n",
       "\t<tr><th scope=row>3</th><td>2</td><td>164</td><td>audi       </td><td>gas</td><td>std</td><td>four</td><td>sedan      </td><td>fwd</td><td>front</td><td> 99.8</td><td>...</td><td>109</td><td>mpfi</td><td>3.19</td><td>3.40</td><td>10.0</td><td>102</td><td>5500</td><td>24</td><td>30</td><td>13950</td></tr>\n",
       "\t<tr><th scope=row>4</th><td>2</td><td>164</td><td>audi       </td><td>gas</td><td>std</td><td>four</td><td>sedan      </td><td>4wd</td><td>front</td><td> 99.4</td><td>...</td><td>136</td><td>mpfi</td><td>3.19</td><td>3.40</td><td> 8.0</td><td>115</td><td>5500</td><td>18</td><td>22</td><td>17450</td></tr>\n",
       "\t<tr><th scope=row>5</th><td>2</td><td>0  </td><td>audi       </td><td>gas</td><td>std</td><td>two </td><td>sedan      </td><td>fwd</td><td>front</td><td> 99.8</td><td>...</td><td>136</td><td>mpfi</td><td>3.19</td><td>3.40</td><td> 8.5</td><td>110</td><td>5500</td><td>19</td><td>25</td><td>15250</td></tr>\n",
       "\t<tr><th scope=row>6</th><td>1</td><td>158</td><td>audi       </td><td>gas</td><td>std</td><td>four</td><td>sedan      </td><td>fwd</td><td>front</td><td>105.8</td><td>...</td><td>136</td><td>mpfi</td><td>3.19</td><td>3.40</td><td> 8.5</td><td>110</td><td>5500</td><td>19</td><td>25</td><td>17710</td></tr>\n",
       "</tbody>\n",
       "</table>\n"
      ],
      "text/latex": [
       "A data.frame: 6 × 26\n",
       "\\begin{tabular}{r|lllllllllllllllllllll}\n",
       "  & symboling & normalized-losses & make & fuel-type & aspiration & num-of-doors & body-style & drive-wheels & engine-location & wheel-base & ... & engine-size & fuel-system & bore & stroke & compression-ratio & horsepower & peak-rpm & city-mpg & highway-mpg & price\\\\\n",
       "  & <int> & <chr> & <chr> & <chr> & <chr> & <chr> & <chr> & <chr> & <chr> & <dbl> & ... & <int> & <chr> & <chr> & <chr> & <dbl> & <chr> & <chr> & <int> & <int> & <chr>\\\\\n",
       "\\hline\n",
       "\t1 & 3 & 0   & alfa-romero & gas & std & two  & convertible & rwd & front &  88.6 & ... & 130 & mpfi & 3.47 & 2.68 &  9.0 & 111 & 5000 & 21 & 27 & 16500\\\\\n",
       "\t2 & 1 & 0   & alfa-romero & gas & std & two  & hatchback   & rwd & front &  94.5 & ... & 152 & mpfi & 2.68 & 3.47 &  9.0 & 154 & 5000 & 19 & 26 & 16500\\\\\n",
       "\t3 & 2 & 164 & audi        & gas & std & four & sedan       & fwd & front &  99.8 & ... & 109 & mpfi & 3.19 & 3.40 & 10.0 & 102 & 5500 & 24 & 30 & 13950\\\\\n",
       "\t4 & 2 & 164 & audi        & gas & std & four & sedan       & 4wd & front &  99.4 & ... & 136 & mpfi & 3.19 & 3.40 &  8.0 & 115 & 5500 & 18 & 22 & 17450\\\\\n",
       "\t5 & 2 & 0   & audi        & gas & std & two  & sedan       & fwd & front &  99.8 & ... & 136 & mpfi & 3.19 & 3.40 &  8.5 & 110 & 5500 & 19 & 25 & 15250\\\\\n",
       "\t6 & 1 & 158 & audi        & gas & std & four & sedan       & fwd & front & 105.8 & ... & 136 & mpfi & 3.19 & 3.40 &  8.5 & 110 & 5500 & 19 & 25 & 17710\\\\\n",
       "\\end{tabular}\n"
      ],
      "text/markdown": [
       "\n",
       "A data.frame: 6 × 26\n",
       "\n",
       "| <!--/--> | symboling &lt;int&gt; | normalized-losses &lt;chr&gt; | make &lt;chr&gt; | fuel-type &lt;chr&gt; | aspiration &lt;chr&gt; | num-of-doors &lt;chr&gt; | body-style &lt;chr&gt; | drive-wheels &lt;chr&gt; | engine-location &lt;chr&gt; | wheel-base &lt;dbl&gt; | ... ... | engine-size &lt;int&gt; | fuel-system &lt;chr&gt; | bore &lt;chr&gt; | stroke &lt;chr&gt; | compression-ratio &lt;dbl&gt; | horsepower &lt;chr&gt; | peak-rpm &lt;chr&gt; | city-mpg &lt;int&gt; | highway-mpg &lt;int&gt; | price &lt;chr&gt; |\n",
       "|---|---|---|---|---|---|---|---|---|---|---|---|---|---|---|---|---|---|---|---|---|---|\n",
       "| 1 | 3 | 0   | alfa-romero | gas | std | two  | convertible | rwd | front |  88.6 | ... | 130 | mpfi | 3.47 | 2.68 |  9.0 | 111 | 5000 | 21 | 27 | 16500 |\n",
       "| 2 | 1 | 0   | alfa-romero | gas | std | two  | hatchback   | rwd | front |  94.5 | ... | 152 | mpfi | 2.68 | 3.47 |  9.0 | 154 | 5000 | 19 | 26 | 16500 |\n",
       "| 3 | 2 | 164 | audi        | gas | std | four | sedan       | fwd | front |  99.8 | ... | 109 | mpfi | 3.19 | 3.40 | 10.0 | 102 | 5500 | 24 | 30 | 13950 |\n",
       "| 4 | 2 | 164 | audi        | gas | std | four | sedan       | 4wd | front |  99.4 | ... | 136 | mpfi | 3.19 | 3.40 |  8.0 | 115 | 5500 | 18 | 22 | 17450 |\n",
       "| 5 | 2 | 0   | audi        | gas | std | two  | sedan       | fwd | front |  99.8 | ... | 136 | mpfi | 3.19 | 3.40 |  8.5 | 110 | 5500 | 19 | 25 | 15250 |\n",
       "| 6 | 1 | 158 | audi        | gas | std | four | sedan       | fwd | front | 105.8 | ... | 136 | mpfi | 3.19 | 3.40 |  8.5 | 110 | 5500 | 19 | 25 | 17710 |\n",
       "\n"
      ],
      "text/plain": [
       "  symboling normalized-losses make        fuel-type aspiration num-of-doors\n",
       "1 3         0                 alfa-romero gas       std        two         \n",
       "2 1         0                 alfa-romero gas       std        two         \n",
       "3 2         164               audi        gas       std        four        \n",
       "4 2         164               audi        gas       std        four        \n",
       "5 2         0                 audi        gas       std        two         \n",
       "6 1         158               audi        gas       std        four        \n",
       "  body-style  drive-wheels engine-location wheel-base ... engine-size\n",
       "1 convertible rwd          front            88.6      ... 130        \n",
       "2 hatchback   rwd          front            94.5      ... 152        \n",
       "3 sedan       fwd          front            99.8      ... 109        \n",
       "4 sedan       4wd          front            99.4      ... 136        \n",
       "5 sedan       fwd          front            99.8      ... 136        \n",
       "6 sedan       fwd          front           105.8      ... 136        \n",
       "  fuel-system bore stroke compression-ratio horsepower peak-rpm city-mpg\n",
       "1 mpfi        3.47 2.68    9.0              111        5000     21      \n",
       "2 mpfi        2.68 3.47    9.0              154        5000     19      \n",
       "3 mpfi        3.19 3.40   10.0              102        5500     24      \n",
       "4 mpfi        3.19 3.40    8.0              115        5500     18      \n",
       "5 mpfi        3.19 3.40    8.5              110        5500     19      \n",
       "6 mpfi        3.19 3.40    8.5              110        5500     19      \n",
       "  highway-mpg price\n",
       "1 27          16500\n",
       "2 26          16500\n",
       "3 30          13950\n",
       "4 22          17450\n",
       "5 25          15250\n",
       "6 25          17710"
      ]
     },
     "metadata": {},
     "output_type": "display_data"
    },
    {
     "data": {
      "text/html": [
       "<table class=\"dataframe\">\n",
       "<caption>A data.frame: 6 × 26</caption>\n",
       "<thead>\n",
       "\t<tr><th></th><th scope=col>symboling</th><th scope=col>normalized.losses</th><th scope=col>make</th><th scope=col>fuel.type</th><th scope=col>aspiration</th><th scope=col>num.of.doors</th><th scope=col>body.style</th><th scope=col>drive.wheels</th><th scope=col>engine.location</th><th scope=col>wheel.base</th><th scope=col>...</th><th scope=col>engine.size</th><th scope=col>fuel.system</th><th scope=col>bore</th><th scope=col>stroke</th><th scope=col>compression.ratio</th><th scope=col>horsepower</th><th scope=col>peak.rpm</th><th scope=col>city.mpg</th><th scope=col>highway.mpg</th><th scope=col>price</th></tr>\n",
       "\t<tr><th></th><th scope=col>&lt;chr&gt;</th><th scope=col>&lt;chr&gt;</th><th scope=col>&lt;chr&gt;</th><th scope=col>&lt;chr&gt;</th><th scope=col>&lt;chr&gt;</th><th scope=col>&lt;chr&gt;</th><th scope=col>&lt;chr&gt;</th><th scope=col>&lt;chr&gt;</th><th scope=col>&lt;chr&gt;</th><th scope=col>&lt;chr&gt;</th><th scope=col>...</th><th scope=col>&lt;chr&gt;</th><th scope=col>&lt;chr&gt;</th><th scope=col>&lt;chr&gt;</th><th scope=col>&lt;chr&gt;</th><th scope=col>&lt;chr&gt;</th><th scope=col>&lt;chr&gt;</th><th scope=col>&lt;chr&gt;</th><th scope=col>&lt;chr&gt;</th><th scope=col>&lt;chr&gt;</th><th scope=col>&lt;chr&gt;</th></tr>\n",
       "</thead>\n",
       "<tbody>\n",
       "\t<tr><th scope=row>1</th><td>3</td><td>0  </td><td>alfa-romero</td><td>gas</td><td>std</td><td>two </td><td>convertible</td><td>rwd</td><td>front</td><td>88.6 </td><td>...</td><td>130</td><td>mpfi</td><td>3.47</td><td>2.68</td><td>9  </td><td>111</td><td>5000</td><td>21</td><td>27</td><td>16500</td></tr>\n",
       "\t<tr><th scope=row>2</th><td>1</td><td>0  </td><td>alfa-romero</td><td>gas</td><td>std</td><td>two </td><td>hatchback  </td><td>rwd</td><td>front</td><td>94.5 </td><td>...</td><td>152</td><td>mpfi</td><td>2.68</td><td>3.47</td><td>9  </td><td>154</td><td>5000</td><td>19</td><td>26</td><td>16500</td></tr>\n",
       "\t<tr><th scope=row>3</th><td>2</td><td>164</td><td>audi       </td><td>gas</td><td>std</td><td>four</td><td>sedan      </td><td>fwd</td><td>front</td><td>99.8 </td><td>...</td><td>109</td><td>mpfi</td><td>3.19</td><td>3.40</td><td>10 </td><td>102</td><td>5500</td><td>24</td><td>30</td><td>13950</td></tr>\n",
       "\t<tr><th scope=row>4</th><td>2</td><td>164</td><td>audi       </td><td>gas</td><td>std</td><td>four</td><td>sedan      </td><td>4wd</td><td>front</td><td>99.4 </td><td>...</td><td>136</td><td>mpfi</td><td>3.19</td><td>3.40</td><td>8  </td><td>115</td><td>5500</td><td>18</td><td>22</td><td>17450</td></tr>\n",
       "\t<tr><th scope=row>5</th><td>2</td><td>0  </td><td>audi       </td><td>gas</td><td>std</td><td>two </td><td>sedan      </td><td>fwd</td><td>front</td><td>99.8 </td><td>...</td><td>136</td><td>mpfi</td><td>3.19</td><td>3.40</td><td>8.5</td><td>110</td><td>5500</td><td>19</td><td>25</td><td>15250</td></tr>\n",
       "\t<tr><th scope=row>6</th><td>1</td><td>158</td><td>audi       </td><td>gas</td><td>std</td><td>four</td><td>sedan      </td><td>fwd</td><td>front</td><td>105.8</td><td>...</td><td>136</td><td>mpfi</td><td>3.19</td><td>3.40</td><td>8.5</td><td>110</td><td>5500</td><td>19</td><td>25</td><td>17710</td></tr>\n",
       "</tbody>\n",
       "</table>\n"
      ],
      "text/latex": [
       "A data.frame: 6 × 26\n",
       "\\begin{tabular}{r|lllllllllllllllllllll}\n",
       "  & symboling & normalized.losses & make & fuel.type & aspiration & num.of.doors & body.style & drive.wheels & engine.location & wheel.base & ... & engine.size & fuel.system & bore & stroke & compression.ratio & horsepower & peak.rpm & city.mpg & highway.mpg & price\\\\\n",
       "  & <chr> & <chr> & <chr> & <chr> & <chr> & <chr> & <chr> & <chr> & <chr> & <chr> & ... & <chr> & <chr> & <chr> & <chr> & <chr> & <chr> & <chr> & <chr> & <chr> & <chr>\\\\\n",
       "\\hline\n",
       "\t1 & 3 & 0   & alfa-romero & gas & std & two  & convertible & rwd & front & 88.6  & ... & 130 & mpfi & 3.47 & 2.68 & 9   & 111 & 5000 & 21 & 27 & 16500\\\\\n",
       "\t2 & 1 & 0   & alfa-romero & gas & std & two  & hatchback   & rwd & front & 94.5  & ... & 152 & mpfi & 2.68 & 3.47 & 9   & 154 & 5000 & 19 & 26 & 16500\\\\\n",
       "\t3 & 2 & 164 & audi        & gas & std & four & sedan       & fwd & front & 99.8  & ... & 109 & mpfi & 3.19 & 3.40 & 10  & 102 & 5500 & 24 & 30 & 13950\\\\\n",
       "\t4 & 2 & 164 & audi        & gas & std & four & sedan       & 4wd & front & 99.4  & ... & 136 & mpfi & 3.19 & 3.40 & 8   & 115 & 5500 & 18 & 22 & 17450\\\\\n",
       "\t5 & 2 & 0   & audi        & gas & std & two  & sedan       & fwd & front & 99.8  & ... & 136 & mpfi & 3.19 & 3.40 & 8.5 & 110 & 5500 & 19 & 25 & 15250\\\\\n",
       "\t6 & 1 & 158 & audi        & gas & std & four & sedan       & fwd & front & 105.8 & ... & 136 & mpfi & 3.19 & 3.40 & 8.5 & 110 & 5500 & 19 & 25 & 17710\\\\\n",
       "\\end{tabular}\n"
      ],
      "text/markdown": [
       "\n",
       "A data.frame: 6 × 26\n",
       "\n",
       "| <!--/--> | symboling &lt;chr&gt; | normalized.losses &lt;chr&gt; | make &lt;chr&gt; | fuel.type &lt;chr&gt; | aspiration &lt;chr&gt; | num.of.doors &lt;chr&gt; | body.style &lt;chr&gt; | drive.wheels &lt;chr&gt; | engine.location &lt;chr&gt; | wheel.base &lt;chr&gt; | ... ... | engine.size &lt;chr&gt; | fuel.system &lt;chr&gt; | bore &lt;chr&gt; | stroke &lt;chr&gt; | compression.ratio &lt;chr&gt; | horsepower &lt;chr&gt; | peak.rpm &lt;chr&gt; | city.mpg &lt;chr&gt; | highway.mpg &lt;chr&gt; | price &lt;chr&gt; |\n",
       "|---|---|---|---|---|---|---|---|---|---|---|---|---|---|---|---|---|---|---|---|---|---|\n",
       "| 1 | 3 | 0   | alfa-romero | gas | std | two  | convertible | rwd | front | 88.6  | ... | 130 | mpfi | 3.47 | 2.68 | 9   | 111 | 5000 | 21 | 27 | 16500 |\n",
       "| 2 | 1 | 0   | alfa-romero | gas | std | two  | hatchback   | rwd | front | 94.5  | ... | 152 | mpfi | 2.68 | 3.47 | 9   | 154 | 5000 | 19 | 26 | 16500 |\n",
       "| 3 | 2 | 164 | audi        | gas | std | four | sedan       | fwd | front | 99.8  | ... | 109 | mpfi | 3.19 | 3.40 | 10  | 102 | 5500 | 24 | 30 | 13950 |\n",
       "| 4 | 2 | 164 | audi        | gas | std | four | sedan       | 4wd | front | 99.4  | ... | 136 | mpfi | 3.19 | 3.40 | 8   | 115 | 5500 | 18 | 22 | 17450 |\n",
       "| 5 | 2 | 0   | audi        | gas | std | two  | sedan       | fwd | front | 99.8  | ... | 136 | mpfi | 3.19 | 3.40 | 8.5 | 110 | 5500 | 19 | 25 | 15250 |\n",
       "| 6 | 1 | 158 | audi        | gas | std | four | sedan       | fwd | front | 105.8 | ... | 136 | mpfi | 3.19 | 3.40 | 8.5 | 110 | 5500 | 19 | 25 | 17710 |\n",
       "\n"
      ],
      "text/plain": [
       "  symboling normalized.losses make        fuel.type aspiration num.of.doors\n",
       "1 3         0                 alfa-romero gas       std        two         \n",
       "2 1         0                 alfa-romero gas       std        two         \n",
       "3 2         164               audi        gas       std        four        \n",
       "4 2         164               audi        gas       std        four        \n",
       "5 2         0                 audi        gas       std        two         \n",
       "6 1         158               audi        gas       std        four        \n",
       "  body.style  drive.wheels engine.location wheel.base ... engine.size\n",
       "1 convertible rwd          front           88.6       ... 130        \n",
       "2 hatchback   rwd          front           94.5       ... 152        \n",
       "3 sedan       fwd          front           99.8       ... 109        \n",
       "4 sedan       4wd          front           99.4       ... 136        \n",
       "5 sedan       fwd          front           99.8       ... 136        \n",
       "6 sedan       fwd          front           105.8      ... 136        \n",
       "  fuel.system bore stroke compression.ratio horsepower peak.rpm city.mpg\n",
       "1 mpfi        3.47 2.68   9                 111        5000     21      \n",
       "2 mpfi        2.68 3.47   9                 154        5000     19      \n",
       "3 mpfi        3.19 3.40   10                102        5500     24      \n",
       "4 mpfi        3.19 3.40   8                 115        5500     18      \n",
       "5 mpfi        3.19 3.40   8.5               110        5500     19      \n",
       "6 mpfi        3.19 3.40   8.5               110        5500     19      \n",
       "  highway.mpg price\n",
       "1 27          16500\n",
       "2 26          16500\n",
       "3 30          13950\n",
       "4 22          17450\n",
       "5 25          15250\n",
       "6 25          17710"
      ]
     },
     "metadata": {},
     "output_type": "display_data"
    }
   ],
   "source": [
    "# Reemplazar todos los \"?\" por 0 en el dataframe\n",
    "n0_df <- replace(df, df == \"?\", 0)\n",
    "\n",
    "# Imprimir el dataframe con los valores reemplazados\n",
    "head(n0_df)\n",
    "\n",
    "# Convertir columnas factor a caracteres, debido a que gas tiene 2 \"?\" pero es una columna de tipo factor\n",
    "df_caracteres <- as.data.frame(lapply(df, as.character), stringsAsFactors = FALSE)\n",
    "\n",
    "# Reemplazar \"?\" por 0 en el dataframe\n",
    "n1_df <- replace(df_caracteres, df_caracteres == \"?\", 0)\n",
    "\n",
    "# Imprimir el dataframe con los valores reemplazados\n",
    "head(n1_df)\n"
   ]
  },
  {
   "attachments": {},
   "cell_type": "markdown",
   "id": "cc54f218",
   "metadata": {},
   "source": [
    "### (e) Create a new data set by imputing the mean in all the columns which have double type values."
   ]
  },
  {
   "cell_type": "code",
   "execution_count": 46,
   "id": "54b97a47",
   "metadata": {
    "vscode": {
     "languageId": "r"
    }
   },
   "outputs": [
    {
     "data": {
      "text/html": [
       "<table class=\"dataframe\">\n",
       "<caption>A data.frame: 6 × 26</caption>\n",
       "<thead>\n",
       "\t<tr><th></th><th scope=col>symboling</th><th scope=col>normalized.losses</th><th scope=col>make</th><th scope=col>fuel.type</th><th scope=col>aspiration</th><th scope=col>num.of.doors</th><th scope=col>body.style</th><th scope=col>drive.wheels</th><th scope=col>engine.location</th><th scope=col>wheel.base</th><th scope=col>...</th><th scope=col>engine.size</th><th scope=col>fuel.system</th><th scope=col>bore</th><th scope=col>stroke</th><th scope=col>compression.ratio</th><th scope=col>horsepower</th><th scope=col>peak.rpm</th><th scope=col>city.mpg</th><th scope=col>highway.mpg</th><th scope=col>price</th></tr>\n",
       "\t<tr><th></th><th scope=col>&lt;chr&gt;</th><th scope=col>&lt;chr&gt;</th><th scope=col>&lt;chr&gt;</th><th scope=col>&lt;chr&gt;</th><th scope=col>&lt;chr&gt;</th><th scope=col>&lt;chr&gt;</th><th scope=col>&lt;chr&gt;</th><th scope=col>&lt;chr&gt;</th><th scope=col>&lt;chr&gt;</th><th scope=col>&lt;chr&gt;</th><th scope=col>...</th><th scope=col>&lt;chr&gt;</th><th scope=col>&lt;chr&gt;</th><th scope=col>&lt;chr&gt;</th><th scope=col>&lt;chr&gt;</th><th scope=col>&lt;chr&gt;</th><th scope=col>&lt;chr&gt;</th><th scope=col>&lt;chr&gt;</th><th scope=col>&lt;chr&gt;</th><th scope=col>&lt;chr&gt;</th><th scope=col>&lt;chr&gt;</th></tr>\n",
       "</thead>\n",
       "<tbody>\n",
       "\t<tr><th scope=row>1</th><td>3</td><td>   </td><td>alfa-romero</td><td>gas</td><td>std</td><td>two </td><td>convertible</td><td>rwd</td><td>front</td><td>88.6 </td><td>...</td><td>130</td><td>mpfi</td><td>3.47</td><td>2.68</td><td>9  </td><td>111</td><td>5000</td><td>21</td><td>27</td><td>16500</td></tr>\n",
       "\t<tr><th scope=row>2</th><td>1</td><td>   </td><td>alfa-romero</td><td>gas</td><td>std</td><td>two </td><td>hatchback  </td><td>rwd</td><td>front</td><td>94.5 </td><td>...</td><td>152</td><td>mpfi</td><td>2.68</td><td>3.47</td><td>9  </td><td>154</td><td>5000</td><td>19</td><td>26</td><td>16500</td></tr>\n",
       "\t<tr><th scope=row>3</th><td>2</td><td>164</td><td>audi       </td><td>gas</td><td>std</td><td>four</td><td>sedan      </td><td>fwd</td><td>front</td><td>99.8 </td><td>...</td><td>109</td><td>mpfi</td><td>3.19</td><td>3.40</td><td>10 </td><td>102</td><td>5500</td><td>24</td><td>30</td><td>13950</td></tr>\n",
       "\t<tr><th scope=row>4</th><td>2</td><td>164</td><td>audi       </td><td>gas</td><td>std</td><td>four</td><td>sedan      </td><td>4wd</td><td>front</td><td>99.4 </td><td>...</td><td>136</td><td>mpfi</td><td>3.19</td><td>3.40</td><td>8  </td><td>115</td><td>5500</td><td>18</td><td>22</td><td>17450</td></tr>\n",
       "\t<tr><th scope=row>5</th><td>2</td><td>   </td><td>audi       </td><td>gas</td><td>std</td><td>two </td><td>sedan      </td><td>fwd</td><td>front</td><td>99.8 </td><td>...</td><td>136</td><td>mpfi</td><td>3.19</td><td>3.40</td><td>8.5</td><td>110</td><td>5500</td><td>19</td><td>25</td><td>15250</td></tr>\n",
       "\t<tr><th scope=row>6</th><td>1</td><td>158</td><td>audi       </td><td>gas</td><td>std</td><td>four</td><td>sedan      </td><td>fwd</td><td>front</td><td>105.8</td><td>...</td><td>136</td><td>mpfi</td><td>3.19</td><td>3.40</td><td>8.5</td><td>110</td><td>5500</td><td>19</td><td>25</td><td>17710</td></tr>\n",
       "</tbody>\n",
       "</table>\n"
      ],
      "text/latex": [
       "A data.frame: 6 × 26\n",
       "\\begin{tabular}{r|lllllllllllllllllllll}\n",
       "  & symboling & normalized.losses & make & fuel.type & aspiration & num.of.doors & body.style & drive.wheels & engine.location & wheel.base & ... & engine.size & fuel.system & bore & stroke & compression.ratio & horsepower & peak.rpm & city.mpg & highway.mpg & price\\\\\n",
       "  & <chr> & <chr> & <chr> & <chr> & <chr> & <chr> & <chr> & <chr> & <chr> & <chr> & ... & <chr> & <chr> & <chr> & <chr> & <chr> & <chr> & <chr> & <chr> & <chr> & <chr>\\\\\n",
       "\\hline\n",
       "\t1 & 3 &     & alfa-romero & gas & std & two  & convertible & rwd & front & 88.6  & ... & 130 & mpfi & 3.47 & 2.68 & 9   & 111 & 5000 & 21 & 27 & 16500\\\\\n",
       "\t2 & 1 &     & alfa-romero & gas & std & two  & hatchback   & rwd & front & 94.5  & ... & 152 & mpfi & 2.68 & 3.47 & 9   & 154 & 5000 & 19 & 26 & 16500\\\\\n",
       "\t3 & 2 & 164 & audi        & gas & std & four & sedan       & fwd & front & 99.8  & ... & 109 & mpfi & 3.19 & 3.40 & 10  & 102 & 5500 & 24 & 30 & 13950\\\\\n",
       "\t4 & 2 & 164 & audi        & gas & std & four & sedan       & 4wd & front & 99.4  & ... & 136 & mpfi & 3.19 & 3.40 & 8   & 115 & 5500 & 18 & 22 & 17450\\\\\n",
       "\t5 & 2 &     & audi        & gas & std & two  & sedan       & fwd & front & 99.8  & ... & 136 & mpfi & 3.19 & 3.40 & 8.5 & 110 & 5500 & 19 & 25 & 15250\\\\\n",
       "\t6 & 1 & 158 & audi        & gas & std & four & sedan       & fwd & front & 105.8 & ... & 136 & mpfi & 3.19 & 3.40 & 8.5 & 110 & 5500 & 19 & 25 & 17710\\\\\n",
       "\\end{tabular}\n"
      ],
      "text/markdown": [
       "\n",
       "A data.frame: 6 × 26\n",
       "\n",
       "| <!--/--> | symboling &lt;chr&gt; | normalized.losses &lt;chr&gt; | make &lt;chr&gt; | fuel.type &lt;chr&gt; | aspiration &lt;chr&gt; | num.of.doors &lt;chr&gt; | body.style &lt;chr&gt; | drive.wheels &lt;chr&gt; | engine.location &lt;chr&gt; | wheel.base &lt;chr&gt; | ... ... | engine.size &lt;chr&gt; | fuel.system &lt;chr&gt; | bore &lt;chr&gt; | stroke &lt;chr&gt; | compression.ratio &lt;chr&gt; | horsepower &lt;chr&gt; | peak.rpm &lt;chr&gt; | city.mpg &lt;chr&gt; | highway.mpg &lt;chr&gt; | price &lt;chr&gt; |\n",
       "|---|---|---|---|---|---|---|---|---|---|---|---|---|---|---|---|---|---|---|---|---|---|\n",
       "| 1 | 3 | <!----> | alfa-romero | gas | std | two  | convertible | rwd | front | 88.6  | ... | 130 | mpfi | 3.47 | 2.68 | 9   | 111 | 5000 | 21 | 27 | 16500 |\n",
       "| 2 | 1 | <!----> | alfa-romero | gas | std | two  | hatchback   | rwd | front | 94.5  | ... | 152 | mpfi | 2.68 | 3.47 | 9   | 154 | 5000 | 19 | 26 | 16500 |\n",
       "| 3 | 2 | 164 | audi        | gas | std | four | sedan       | fwd | front | 99.8  | ... | 109 | mpfi | 3.19 | 3.40 | 10  | 102 | 5500 | 24 | 30 | 13950 |\n",
       "| 4 | 2 | 164 | audi        | gas | std | four | sedan       | 4wd | front | 99.4  | ... | 136 | mpfi | 3.19 | 3.40 | 8   | 115 | 5500 | 18 | 22 | 17450 |\n",
       "| 5 | 2 | <!----> | audi        | gas | std | two  | sedan       | fwd | front | 99.8  | ... | 136 | mpfi | 3.19 | 3.40 | 8.5 | 110 | 5500 | 19 | 25 | 15250 |\n",
       "| 6 | 1 | 158 | audi        | gas | std | four | sedan       | fwd | front | 105.8 | ... | 136 | mpfi | 3.19 | 3.40 | 8.5 | 110 | 5500 | 19 | 25 | 17710 |\n",
       "\n"
      ],
      "text/plain": [
       "  symboling normalized.losses make        fuel.type aspiration num.of.doors\n",
       "1 3                           alfa-romero gas       std        two         \n",
       "2 1                           alfa-romero gas       std        two         \n",
       "3 2         164               audi        gas       std        four        \n",
       "4 2         164               audi        gas       std        four        \n",
       "5 2                           audi        gas       std        two         \n",
       "6 1         158               audi        gas       std        four        \n",
       "  body.style  drive.wheels engine.location wheel.base ... engine.size\n",
       "1 convertible rwd          front           88.6       ... 130        \n",
       "2 hatchback   rwd          front           94.5       ... 152        \n",
       "3 sedan       fwd          front           99.8       ... 109        \n",
       "4 sedan       4wd          front           99.4       ... 136        \n",
       "5 sedan       fwd          front           99.8       ... 136        \n",
       "6 sedan       fwd          front           105.8      ... 136        \n",
       "  fuel.system bore stroke compression.ratio horsepower peak.rpm city.mpg\n",
       "1 mpfi        3.47 2.68   9                 111        5000     21      \n",
       "2 mpfi        2.68 3.47   9                 154        5000     19      \n",
       "3 mpfi        3.19 3.40   10                102        5500     24      \n",
       "4 mpfi        3.19 3.40   8                 115        5500     18      \n",
       "5 mpfi        3.19 3.40   8.5               110        5500     19      \n",
       "6 mpfi        3.19 3.40   8.5               110        5500     19      \n",
       "  highway.mpg price\n",
       "1 27          16500\n",
       "2 26          16500\n",
       "3 30          13950\n",
       "4 22          17450\n",
       "5 25          15250\n",
       "6 25          17710"
      ]
     },
     "metadata": {},
     "output_type": "display_data"
    }
   ],
   "source": [
    "# Convertir columnas factor a caracteres\n",
    "df_caracteres <- as.data.frame(lapply(df, as.character), stringsAsFactors = FALSE)\n",
    "\n",
    "# Reemplazar \"?\" por 0 en el dataframe\n",
    "ndf <- replace(df_caracteres, df_caracteres == \"?\", '')\n",
    "\n",
    "# Imprimir el dataframe con los valores reemplazados\n",
    "head(ndf)"
   ]
  },
  {
   "cell_type": "code",
   "execution_count": 47,
   "id": "f23cb0f4",
   "metadata": {
    "vscode": {
     "languageId": "r"
    }
   },
   "outputs": [
    {
     "name": "stdout",
     "output_type": "stream",
     "text": [
      "'data.frame':\t204 obs. of  26 variables:\n",
      " $ symboling        : chr  \"3\" \"1\" \"2\" \"2\" ...\n",
      " $ normalized.losses: chr  \"\" \"\" \"164\" \"164\" ...\n",
      " $ make             : chr  \"alfa-romero\" \"alfa-romero\" \"audi\" \"audi\" ...\n",
      " $ fuel.type        : chr  \"gas\" \"gas\" \"gas\" \"gas\" ...\n",
      " $ aspiration       : chr  \"std\" \"std\" \"std\" \"std\" ...\n",
      " $ num.of.doors     : chr  \"two\" \"two\" \"four\" \"four\" ...\n",
      " $ body.style       : chr  \"convertible\" \"hatchback\" \"sedan\" \"sedan\" ...\n",
      " $ drive.wheels     : chr  \"rwd\" \"rwd\" \"fwd\" \"4wd\" ...\n",
      " $ engine.location  : chr  \"front\" \"front\" \"front\" \"front\" ...\n",
      " $ wheel.base       : chr  \"88.6\" \"94.5\" \"99.8\" \"99.4\" ...\n",
      " $ length           : chr  \"168.8\" \"171.2\" \"176.6\" \"176.6\" ...\n",
      " $ width            : chr  \"64.1\" \"65.5\" \"66.2\" \"66.4\" ...\n",
      " $ height           : chr  \"48.8\" \"52.4\" \"54.3\" \"54.3\" ...\n",
      " $ curb.weight      : chr  \"2548\" \"2823\" \"2337\" \"2824\" ...\n",
      " $ engine.type      : chr  \"dohc\" \"ohcv\" \"ohc\" \"ohc\" ...\n",
      " $ num.of.cylinders : chr  \"four\" \"six\" \"four\" \"five\" ...\n",
      " $ engine.size      : chr  \"130\" \"152\" \"109\" \"136\" ...\n",
      " $ fuel.system      : chr  \"mpfi\" \"mpfi\" \"mpfi\" \"mpfi\" ...\n",
      " $ bore             : chr  \"3.47\" \"2.68\" \"3.19\" \"3.19\" ...\n",
      " $ stroke           : chr  \"2.68\" \"3.47\" \"3.40\" \"3.40\" ...\n",
      " $ compression.ratio: chr  \"9\" \"9\" \"10\" \"8\" ...\n",
      " $ horsepower       : chr  \"111\" \"154\" \"102\" \"115\" ...\n",
      " $ peak.rpm         : chr  \"5000\" \"5000\" \"5500\" \"5500\" ...\n",
      " $ city.mpg         : chr  \"21\" \"19\" \"24\" \"18\" ...\n",
      " $ highway.mpg      : chr  \"27\" \"26\" \"30\" \"22\" ...\n",
      " $ price            : chr  \"16500\" \"16500\" \"13950\" \"17450\" ...\n"
     ]
    }
   ],
   "source": [
    "str(ndf)"
   ]
  },
  {
   "cell_type": "code",
   "execution_count": 48,
   "id": "0c2824f5",
   "metadata": {
    "vscode": {
     "languageId": "r"
    }
   },
   "outputs": [],
   "source": [
    "# Convertir una columna de tipo chr a flotante\n",
    "ndf$symboling <- as.numeric(ndf$symboling)\n",
    "ndf$normalized.losses <- as.numeric(ndf$normalized.losses)\n",
    "ndf$wheel.base <- as.numeric(ndf$wheel.base)\n",
    "ndf$length <- as.numeric(ndf$length)\n",
    "ndf$width <- as.numeric(ndf$width)\n",
    "ndf$height <- as.numeric(ndf$height)\n",
    "ndf$curb.weight <- as.numeric(ndf$curb.weight)\n",
    "ndf$engine.size <- as.numeric(ndf$engine.size)\n",
    "ndf$bore <- as.numeric(ndf$bore)\n",
    "ndf$stroke <- as.numeric(ndf$stroke)\n",
    "ndf$compression.ratio <- as.numeric(ndf$compression.ratio)\n",
    "ndf$horsepower <- as.numeric(ndf$horsepower)\n",
    "ndf$peak.rpm <- as.numeric(ndf$peak.rpm)\n",
    "ndf$city.mpg <- as.numeric(ndf$city.mpg)\n",
    "ndf$highway.mpg <- as.numeric(ndf$highway.mpg)\n",
    "ndf$price <- as.numeric(ndf$price)"
   ]
  },
  {
   "cell_type": "code",
   "execution_count": 49,
   "id": "0d05415b",
   "metadata": {
    "vscode": {
     "languageId": "r"
    }
   },
   "outputs": [
    {
     "name": "stdout",
     "output_type": "stream",
     "text": [
      "'data.frame':\t204 obs. of  26 variables:\n",
      " $ symboling        : num  3 1 2 2 2 1 1 1 0 2 ...\n",
      " $ normalized.losses: num  NA NA 164 164 NA 158 NA 158 NA 192 ...\n",
      " $ make             : chr  \"alfa-romero\" \"alfa-romero\" \"audi\" \"audi\" ...\n",
      " $ fuel.type        : chr  \"gas\" \"gas\" \"gas\" \"gas\" ...\n",
      " $ aspiration       : chr  \"std\" \"std\" \"std\" \"std\" ...\n",
      " $ num.of.doors     : chr  \"two\" \"two\" \"four\" \"four\" ...\n",
      " $ body.style       : chr  \"convertible\" \"hatchback\" \"sedan\" \"sedan\" ...\n",
      " $ drive.wheels     : chr  \"rwd\" \"rwd\" \"fwd\" \"4wd\" ...\n",
      " $ engine.location  : chr  \"front\" \"front\" \"front\" \"front\" ...\n",
      " $ wheel.base       : num  88.6 94.5 99.8 99.4 99.8 ...\n",
      " $ length           : num  169 171 177 177 177 ...\n",
      " $ width            : num  64.1 65.5 66.2 66.4 66.3 71.4 71.4 71.4 67.9 64.8 ...\n",
      " $ height           : num  48.8 52.4 54.3 54.3 53.1 55.7 55.7 55.9 52 54.3 ...\n",
      " $ curb.weight      : num  2548 2823 2337 2824 2507 ...\n",
      " $ engine.type      : chr  \"dohc\" \"ohcv\" \"ohc\" \"ohc\" ...\n",
      " $ num.of.cylinders : chr  \"four\" \"six\" \"four\" \"five\" ...\n",
      " $ engine.size      : num  130 152 109 136 136 136 136 131 131 108 ...\n",
      " $ fuel.system      : chr  \"mpfi\" \"mpfi\" \"mpfi\" \"mpfi\" ...\n",
      " $ bore             : num  3.47 2.68 3.19 3.19 3.19 3.19 3.19 3.13 3.13 3.5 ...\n",
      " $ stroke           : num  2.68 3.47 3.4 3.4 3.4 3.4 3.4 3.4 3.4 2.8 ...\n",
      " $ compression.ratio: num  9 9 10 8 8.5 8.5 8.5 8.3 7 8.8 ...\n",
      " $ horsepower       : num  111 154 102 115 110 110 110 140 160 101 ...\n",
      " $ peak.rpm         : num  5000 5000 5500 5500 5500 5500 5500 5500 5500 5800 ...\n",
      " $ city.mpg         : num  21 19 24 18 19 19 19 17 16 23 ...\n",
      " $ highway.mpg      : num  27 26 30 22 25 25 25 20 22 29 ...\n",
      " $ price            : num  16500 16500 13950 17450 15250 ...\n"
     ]
    }
   ],
   "source": [
    "str(ndf)"
   ]
  },
  {
   "cell_type": "code",
   "execution_count": 50,
   "id": "a86ff634",
   "metadata": {
    "vscode": {
     "languageId": "r"
    }
   },
   "outputs": [
    {
     "data": {
      "text/html": [
       "<table class=\"dataframe\">\n",
       "<caption>A data.frame: 6 × 26</caption>\n",
       "<thead>\n",
       "\t<tr><th></th><th scope=col>symboling</th><th scope=col>normalized.losses</th><th scope=col>make</th><th scope=col>fuel.type</th><th scope=col>aspiration</th><th scope=col>num.of.doors</th><th scope=col>body.style</th><th scope=col>drive.wheels</th><th scope=col>engine.location</th><th scope=col>wheel.base</th><th scope=col>...</th><th scope=col>engine.size</th><th scope=col>fuel.system</th><th scope=col>bore</th><th scope=col>stroke</th><th scope=col>compression.ratio</th><th scope=col>horsepower</th><th scope=col>peak.rpm</th><th scope=col>city.mpg</th><th scope=col>highway.mpg</th><th scope=col>price</th></tr>\n",
       "\t<tr><th></th><th scope=col>&lt;dbl&gt;</th><th scope=col>&lt;dbl&gt;</th><th scope=col>&lt;chr&gt;</th><th scope=col>&lt;chr&gt;</th><th scope=col>&lt;chr&gt;</th><th scope=col>&lt;chr&gt;</th><th scope=col>&lt;chr&gt;</th><th scope=col>&lt;chr&gt;</th><th scope=col>&lt;chr&gt;</th><th scope=col>&lt;dbl&gt;</th><th scope=col>...</th><th scope=col>&lt;dbl&gt;</th><th scope=col>&lt;chr&gt;</th><th scope=col>&lt;dbl&gt;</th><th scope=col>&lt;dbl&gt;</th><th scope=col>&lt;dbl&gt;</th><th scope=col>&lt;dbl&gt;</th><th scope=col>&lt;dbl&gt;</th><th scope=col>&lt;dbl&gt;</th><th scope=col>&lt;dbl&gt;</th><th scope=col>&lt;dbl&gt;</th></tr>\n",
       "</thead>\n",
       "<tbody>\n",
       "\t<tr><th scope=row>1</th><td>3</td><td>  0.8235294</td><td>alfa-romero</td><td>gas</td><td>std</td><td>two </td><td>convertible</td><td>rwd</td><td>front</td><td> 88.6</td><td>...</td><td>130</td><td>mpfi</td><td>3.47</td><td>2.68</td><td> 9.0</td><td>111</td><td>5000</td><td>21</td><td>27</td><td>16500</td></tr>\n",
       "\t<tr><th scope=row>2</th><td>1</td><td>122.0000000</td><td>alfa-romero</td><td>gas</td><td>std</td><td>two </td><td>hatchback  </td><td>rwd</td><td>front</td><td> 94.5</td><td>...</td><td>152</td><td>mpfi</td><td>2.68</td><td>3.47</td><td> 9.0</td><td>154</td><td>5000</td><td>19</td><td>26</td><td>16500</td></tr>\n",
       "\t<tr><th scope=row>3</th><td>2</td><td>164.0000000</td><td>audi       </td><td>gas</td><td>std</td><td>four</td><td>sedan      </td><td>fwd</td><td>front</td><td> 99.8</td><td>...</td><td>109</td><td>mpfi</td><td>3.19</td><td>3.40</td><td>10.0</td><td>102</td><td>5500</td><td>24</td><td>30</td><td>13950</td></tr>\n",
       "\t<tr><th scope=row>4</th><td>2</td><td>164.0000000</td><td>audi       </td><td>gas</td><td>std</td><td>four</td><td>sedan      </td><td>4wd</td><td>front</td><td> 99.4</td><td>...</td><td>136</td><td>mpfi</td><td>3.19</td><td>3.40</td><td> 8.0</td><td>115</td><td>5500</td><td>18</td><td>22</td><td>17450</td></tr>\n",
       "\t<tr><th scope=row>5</th><td>2</td><td> 65.9166667</td><td>audi       </td><td>gas</td><td>std</td><td>two </td><td>sedan      </td><td>fwd</td><td>front</td><td> 99.8</td><td>...</td><td>136</td><td>mpfi</td><td>3.19</td><td>3.40</td><td> 8.5</td><td>110</td><td>5500</td><td>19</td><td>25</td><td>15250</td></tr>\n",
       "\t<tr><th scope=row>6</th><td>1</td><td>158.0000000</td><td>audi       </td><td>gas</td><td>std</td><td>four</td><td>sedan      </td><td>fwd</td><td>front</td><td>105.8</td><td>...</td><td>136</td><td>mpfi</td><td>3.19</td><td>3.40</td><td> 8.5</td><td>110</td><td>5500</td><td>19</td><td>25</td><td>17710</td></tr>\n",
       "</tbody>\n",
       "</table>\n"
      ],
      "text/latex": [
       "A data.frame: 6 × 26\n",
       "\\begin{tabular}{r|lllllllllllllllllllll}\n",
       "  & symboling & normalized.losses & make & fuel.type & aspiration & num.of.doors & body.style & drive.wheels & engine.location & wheel.base & ... & engine.size & fuel.system & bore & stroke & compression.ratio & horsepower & peak.rpm & city.mpg & highway.mpg & price\\\\\n",
       "  & <dbl> & <dbl> & <chr> & <chr> & <chr> & <chr> & <chr> & <chr> & <chr> & <dbl> & ... & <dbl> & <chr> & <dbl> & <dbl> & <dbl> & <dbl> & <dbl> & <dbl> & <dbl> & <dbl>\\\\\n",
       "\\hline\n",
       "\t1 & 3 &   0.8235294 & alfa-romero & gas & std & two  & convertible & rwd & front &  88.6 & ... & 130 & mpfi & 3.47 & 2.68 &  9.0 & 111 & 5000 & 21 & 27 & 16500\\\\\n",
       "\t2 & 1 & 122.0000000 & alfa-romero & gas & std & two  & hatchback   & rwd & front &  94.5 & ... & 152 & mpfi & 2.68 & 3.47 &  9.0 & 154 & 5000 & 19 & 26 & 16500\\\\\n",
       "\t3 & 2 & 164.0000000 & audi        & gas & std & four & sedan       & fwd & front &  99.8 & ... & 109 & mpfi & 3.19 & 3.40 & 10.0 & 102 & 5500 & 24 & 30 & 13950\\\\\n",
       "\t4 & 2 & 164.0000000 & audi        & gas & std & four & sedan       & 4wd & front &  99.4 & ... & 136 & mpfi & 3.19 & 3.40 &  8.0 & 115 & 5500 & 18 & 22 & 17450\\\\\n",
       "\t5 & 2 &  65.9166667 & audi        & gas & std & two  & sedan       & fwd & front &  99.8 & ... & 136 & mpfi & 3.19 & 3.40 &  8.5 & 110 & 5500 & 19 & 25 & 15250\\\\\n",
       "\t6 & 1 & 158.0000000 & audi        & gas & std & four & sedan       & fwd & front & 105.8 & ... & 136 & mpfi & 3.19 & 3.40 &  8.5 & 110 & 5500 & 19 & 25 & 17710\\\\\n",
       "\\end{tabular}\n"
      ],
      "text/markdown": [
       "\n",
       "A data.frame: 6 × 26\n",
       "\n",
       "| <!--/--> | symboling &lt;dbl&gt; | normalized.losses &lt;dbl&gt; | make &lt;chr&gt; | fuel.type &lt;chr&gt; | aspiration &lt;chr&gt; | num.of.doors &lt;chr&gt; | body.style &lt;chr&gt; | drive.wheels &lt;chr&gt; | engine.location &lt;chr&gt; | wheel.base &lt;dbl&gt; | ... ... | engine.size &lt;dbl&gt; | fuel.system &lt;chr&gt; | bore &lt;dbl&gt; | stroke &lt;dbl&gt; | compression.ratio &lt;dbl&gt; | horsepower &lt;dbl&gt; | peak.rpm &lt;dbl&gt; | city.mpg &lt;dbl&gt; | highway.mpg &lt;dbl&gt; | price &lt;dbl&gt; |\n",
       "|---|---|---|---|---|---|---|---|---|---|---|---|---|---|---|---|---|---|---|---|---|---|\n",
       "| 1 | 3 |   0.8235294 | alfa-romero | gas | std | two  | convertible | rwd | front |  88.6 | ... | 130 | mpfi | 3.47 | 2.68 |  9.0 | 111 | 5000 | 21 | 27 | 16500 |\n",
       "| 2 | 1 | 122.0000000 | alfa-romero | gas | std | two  | hatchback   | rwd | front |  94.5 | ... | 152 | mpfi | 2.68 | 3.47 |  9.0 | 154 | 5000 | 19 | 26 | 16500 |\n",
       "| 3 | 2 | 164.0000000 | audi        | gas | std | four | sedan       | fwd | front |  99.8 | ... | 109 | mpfi | 3.19 | 3.40 | 10.0 | 102 | 5500 | 24 | 30 | 13950 |\n",
       "| 4 | 2 | 164.0000000 | audi        | gas | std | four | sedan       | 4wd | front |  99.4 | ... | 136 | mpfi | 3.19 | 3.40 |  8.0 | 115 | 5500 | 18 | 22 | 17450 |\n",
       "| 5 | 2 |  65.9166667 | audi        | gas | std | two  | sedan       | fwd | front |  99.8 | ... | 136 | mpfi | 3.19 | 3.40 |  8.5 | 110 | 5500 | 19 | 25 | 15250 |\n",
       "| 6 | 1 | 158.0000000 | audi        | gas | std | four | sedan       | fwd | front | 105.8 | ... | 136 | mpfi | 3.19 | 3.40 |  8.5 | 110 | 5500 | 19 | 25 | 17710 |\n",
       "\n"
      ],
      "text/plain": [
       "  symboling normalized.losses make        fuel.type aspiration num.of.doors\n",
       "1 3           0.8235294       alfa-romero gas       std        two         \n",
       "2 1         122.0000000       alfa-romero gas       std        two         \n",
       "3 2         164.0000000       audi        gas       std        four        \n",
       "4 2         164.0000000       audi        gas       std        four        \n",
       "5 2          65.9166667       audi        gas       std        two         \n",
       "6 1         158.0000000       audi        gas       std        four        \n",
       "  body.style  drive.wheels engine.location wheel.base ... engine.size\n",
       "1 convertible rwd          front            88.6      ... 130        \n",
       "2 hatchback   rwd          front            94.5      ... 152        \n",
       "3 sedan       fwd          front            99.8      ... 109        \n",
       "4 sedan       4wd          front            99.4      ... 136        \n",
       "5 sedan       fwd          front            99.8      ... 136        \n",
       "6 sedan       fwd          front           105.8      ... 136        \n",
       "  fuel.system bore stroke compression.ratio horsepower peak.rpm city.mpg\n",
       "1 mpfi        3.47 2.68    9.0              111        5000     21      \n",
       "2 mpfi        2.68 3.47    9.0              154        5000     19      \n",
       "3 mpfi        3.19 3.40   10.0              102        5500     24      \n",
       "4 mpfi        3.19 3.40    8.0              115        5500     18      \n",
       "5 mpfi        3.19 3.40    8.5              110        5500     19      \n",
       "6 mpfi        3.19 3.40    8.5              110        5500     19      \n",
       "  highway.mpg price\n",
       "1 27          16500\n",
       "2 26          16500\n",
       "3 30          13950\n",
       "4 22          17450\n",
       "5 25          15250\n",
       "6 25          17710"
      ]
     },
     "metadata": {},
     "output_type": "display_data"
    }
   ],
   "source": [
    "# Identificar las columnas numéricas\n",
    "columnas_numericas <- sapply(ndf, is.numeric)\n",
    "\n",
    "# Calcular la media de cada columna numérica\n",
    "medias <- sapply(ndf[, columnas_numericas], mean, na.rm = TRUE)\n",
    "\n",
    "# Reemplazar los NA por la media en las columnas numéricas\n",
    "df_imputado1 <- ndf\n",
    "df_imputado1[, columnas_numericas] <- lapply(df_imputado1[, columnas_numericas], function(x) {\n",
    "  is_na <- is.na(x)\n",
    "  x[is_na] <- medias[is_na]\n",
    "  return(x)\n",
    "})\n",
    "\n",
    "# Imprimir el nuevo dataframe imputado\n",
    "head(df_imputado1)\n"
   ]
  },
  {
   "attachments": {},
   "cell_type": "markdown",
   "id": "da23d521",
   "metadata": {},
   "source": [
    "### (f) Create a new data set by imputing the mode in all the columns which have integer type values."
   ]
  },
  {
   "cell_type": "code",
   "execution_count": 51,
   "id": "3fd28034",
   "metadata": {
    "vscode": {
     "languageId": "r"
    }
   },
   "outputs": [],
   "source": [
    "# Creamos la funcion para calcular la moda\n",
    "mode <- function(x) {\n",
    "   return(as.numeric(names(which.max(table(x)))))\n",
    "}"
   ]
  },
  {
   "cell_type": "code",
   "execution_count": 52,
   "id": "5cca2e6c",
   "metadata": {
    "vscode": {
     "languageId": "r"
    }
   },
   "outputs": [
    {
     "data": {
      "text/html": [
       "<table class=\"dataframe\">\n",
       "<caption>A data.frame: 6 × 26</caption>\n",
       "<thead>\n",
       "\t<tr><th></th><th scope=col>symboling</th><th scope=col>normalized.losses</th><th scope=col>make</th><th scope=col>fuel.type</th><th scope=col>aspiration</th><th scope=col>num.of.doors</th><th scope=col>body.style</th><th scope=col>drive.wheels</th><th scope=col>engine.location</th><th scope=col>wheel.base</th><th scope=col>...</th><th scope=col>engine.size</th><th scope=col>fuel.system</th><th scope=col>bore</th><th scope=col>stroke</th><th scope=col>compression.ratio</th><th scope=col>horsepower</th><th scope=col>peak.rpm</th><th scope=col>city.mpg</th><th scope=col>highway.mpg</th><th scope=col>price</th></tr>\n",
       "\t<tr><th></th><th scope=col>&lt;dbl&gt;</th><th scope=col>&lt;dbl&gt;</th><th scope=col>&lt;chr&gt;</th><th scope=col>&lt;chr&gt;</th><th scope=col>&lt;chr&gt;</th><th scope=col>&lt;chr&gt;</th><th scope=col>&lt;chr&gt;</th><th scope=col>&lt;chr&gt;</th><th scope=col>&lt;chr&gt;</th><th scope=col>&lt;dbl&gt;</th><th scope=col>...</th><th scope=col>&lt;dbl&gt;</th><th scope=col>&lt;chr&gt;</th><th scope=col>&lt;dbl&gt;</th><th scope=col>&lt;dbl&gt;</th><th scope=col>&lt;dbl&gt;</th><th scope=col>&lt;dbl&gt;</th><th scope=col>&lt;dbl&gt;</th><th scope=col>&lt;dbl&gt;</th><th scope=col>&lt;dbl&gt;</th><th scope=col>&lt;dbl&gt;</th></tr>\n",
       "</thead>\n",
       "<tbody>\n",
       "\t<tr><th scope=row>1</th><td>3</td><td>161</td><td>alfa-romero</td><td>gas</td><td>std</td><td>two </td><td>convertible</td><td>rwd</td><td>front</td><td> 88.6</td><td>...</td><td>130</td><td>mpfi</td><td>3.47</td><td>2.68</td><td> 9.0</td><td>111</td><td>5000</td><td>21</td><td>27</td><td>16500</td></tr>\n",
       "\t<tr><th scope=row>2</th><td>1</td><td>161</td><td>alfa-romero</td><td>gas</td><td>std</td><td>two </td><td>hatchback  </td><td>rwd</td><td>front</td><td> 94.5</td><td>...</td><td>152</td><td>mpfi</td><td>2.68</td><td>3.47</td><td> 9.0</td><td>154</td><td>5000</td><td>19</td><td>26</td><td>16500</td></tr>\n",
       "\t<tr><th scope=row>3</th><td>2</td><td>164</td><td>audi       </td><td>gas</td><td>std</td><td>four</td><td>sedan      </td><td>fwd</td><td>front</td><td> 99.8</td><td>...</td><td>109</td><td>mpfi</td><td>3.19</td><td>3.40</td><td>10.0</td><td>102</td><td>5500</td><td>24</td><td>30</td><td>13950</td></tr>\n",
       "\t<tr><th scope=row>4</th><td>2</td><td>164</td><td>audi       </td><td>gas</td><td>std</td><td>four</td><td>sedan      </td><td>4wd</td><td>front</td><td> 99.4</td><td>...</td><td>136</td><td>mpfi</td><td>3.19</td><td>3.40</td><td> 8.0</td><td>115</td><td>5500</td><td>18</td><td>22</td><td>17450</td></tr>\n",
       "\t<tr><th scope=row>5</th><td>2</td><td>161</td><td>audi       </td><td>gas</td><td>std</td><td>two </td><td>sedan      </td><td>fwd</td><td>front</td><td> 99.8</td><td>...</td><td>136</td><td>mpfi</td><td>3.19</td><td>3.40</td><td> 8.5</td><td>110</td><td>5500</td><td>19</td><td>25</td><td>15250</td></tr>\n",
       "\t<tr><th scope=row>6</th><td>1</td><td>158</td><td>audi       </td><td>gas</td><td>std</td><td>four</td><td>sedan      </td><td>fwd</td><td>front</td><td>105.8</td><td>...</td><td>136</td><td>mpfi</td><td>3.19</td><td>3.40</td><td> 8.5</td><td>110</td><td>5500</td><td>19</td><td>25</td><td>17710</td></tr>\n",
       "</tbody>\n",
       "</table>\n"
      ],
      "text/latex": [
       "A data.frame: 6 × 26\n",
       "\\begin{tabular}{r|lllllllllllllllllllll}\n",
       "  & symboling & normalized.losses & make & fuel.type & aspiration & num.of.doors & body.style & drive.wheels & engine.location & wheel.base & ... & engine.size & fuel.system & bore & stroke & compression.ratio & horsepower & peak.rpm & city.mpg & highway.mpg & price\\\\\n",
       "  & <dbl> & <dbl> & <chr> & <chr> & <chr> & <chr> & <chr> & <chr> & <chr> & <dbl> & ... & <dbl> & <chr> & <dbl> & <dbl> & <dbl> & <dbl> & <dbl> & <dbl> & <dbl> & <dbl>\\\\\n",
       "\\hline\n",
       "\t1 & 3 & 161 & alfa-romero & gas & std & two  & convertible & rwd & front &  88.6 & ... & 130 & mpfi & 3.47 & 2.68 &  9.0 & 111 & 5000 & 21 & 27 & 16500\\\\\n",
       "\t2 & 1 & 161 & alfa-romero & gas & std & two  & hatchback   & rwd & front &  94.5 & ... & 152 & mpfi & 2.68 & 3.47 &  9.0 & 154 & 5000 & 19 & 26 & 16500\\\\\n",
       "\t3 & 2 & 164 & audi        & gas & std & four & sedan       & fwd & front &  99.8 & ... & 109 & mpfi & 3.19 & 3.40 & 10.0 & 102 & 5500 & 24 & 30 & 13950\\\\\n",
       "\t4 & 2 & 164 & audi        & gas & std & four & sedan       & 4wd & front &  99.4 & ... & 136 & mpfi & 3.19 & 3.40 &  8.0 & 115 & 5500 & 18 & 22 & 17450\\\\\n",
       "\t5 & 2 & 161 & audi        & gas & std & two  & sedan       & fwd & front &  99.8 & ... & 136 & mpfi & 3.19 & 3.40 &  8.5 & 110 & 5500 & 19 & 25 & 15250\\\\\n",
       "\t6 & 1 & 158 & audi        & gas & std & four & sedan       & fwd & front & 105.8 & ... & 136 & mpfi & 3.19 & 3.40 &  8.5 & 110 & 5500 & 19 & 25 & 17710\\\\\n",
       "\\end{tabular}\n"
      ],
      "text/markdown": [
       "\n",
       "A data.frame: 6 × 26\n",
       "\n",
       "| <!--/--> | symboling &lt;dbl&gt; | normalized.losses &lt;dbl&gt; | make &lt;chr&gt; | fuel.type &lt;chr&gt; | aspiration &lt;chr&gt; | num.of.doors &lt;chr&gt; | body.style &lt;chr&gt; | drive.wheels &lt;chr&gt; | engine.location &lt;chr&gt; | wheel.base &lt;dbl&gt; | ... ... | engine.size &lt;dbl&gt; | fuel.system &lt;chr&gt; | bore &lt;dbl&gt; | stroke &lt;dbl&gt; | compression.ratio &lt;dbl&gt; | horsepower &lt;dbl&gt; | peak.rpm &lt;dbl&gt; | city.mpg &lt;dbl&gt; | highway.mpg &lt;dbl&gt; | price &lt;dbl&gt; |\n",
       "|---|---|---|---|---|---|---|---|---|---|---|---|---|---|---|---|---|---|---|---|---|---|\n",
       "| 1 | 3 | 161 | alfa-romero | gas | std | two  | convertible | rwd | front |  88.6 | ... | 130 | mpfi | 3.47 | 2.68 |  9.0 | 111 | 5000 | 21 | 27 | 16500 |\n",
       "| 2 | 1 | 161 | alfa-romero | gas | std | two  | hatchback   | rwd | front |  94.5 | ... | 152 | mpfi | 2.68 | 3.47 |  9.0 | 154 | 5000 | 19 | 26 | 16500 |\n",
       "| 3 | 2 | 164 | audi        | gas | std | four | sedan       | fwd | front |  99.8 | ... | 109 | mpfi | 3.19 | 3.40 | 10.0 | 102 | 5500 | 24 | 30 | 13950 |\n",
       "| 4 | 2 | 164 | audi        | gas | std | four | sedan       | 4wd | front |  99.4 | ... | 136 | mpfi | 3.19 | 3.40 |  8.0 | 115 | 5500 | 18 | 22 | 17450 |\n",
       "| 5 | 2 | 161 | audi        | gas | std | two  | sedan       | fwd | front |  99.8 | ... | 136 | mpfi | 3.19 | 3.40 |  8.5 | 110 | 5500 | 19 | 25 | 15250 |\n",
       "| 6 | 1 | 158 | audi        | gas | std | four | sedan       | fwd | front | 105.8 | ... | 136 | mpfi | 3.19 | 3.40 |  8.5 | 110 | 5500 | 19 | 25 | 17710 |\n",
       "\n"
      ],
      "text/plain": [
       "  symboling normalized.losses make        fuel.type aspiration num.of.doors\n",
       "1 3         161               alfa-romero gas       std        two         \n",
       "2 1         161               alfa-romero gas       std        two         \n",
       "3 2         164               audi        gas       std        four        \n",
       "4 2         164               audi        gas       std        four        \n",
       "5 2         161               audi        gas       std        two         \n",
       "6 1         158               audi        gas       std        four        \n",
       "  body.style  drive.wheels engine.location wheel.base ... engine.size\n",
       "1 convertible rwd          front            88.6      ... 130        \n",
       "2 hatchback   rwd          front            94.5      ... 152        \n",
       "3 sedan       fwd          front            99.8      ... 109        \n",
       "4 sedan       4wd          front            99.4      ... 136        \n",
       "5 sedan       fwd          front            99.8      ... 136        \n",
       "6 sedan       fwd          front           105.8      ... 136        \n",
       "  fuel.system bore stroke compression.ratio horsepower peak.rpm city.mpg\n",
       "1 mpfi        3.47 2.68    9.0              111        5000     21      \n",
       "2 mpfi        2.68 3.47    9.0              154        5000     19      \n",
       "3 mpfi        3.19 3.40   10.0              102        5500     24      \n",
       "4 mpfi        3.19 3.40    8.0              115        5500     18      \n",
       "5 mpfi        3.19 3.40    8.5              110        5500     19      \n",
       "6 mpfi        3.19 3.40    8.5              110        5500     19      \n",
       "  highway.mpg price\n",
       "1 27          16500\n",
       "2 26          16500\n",
       "3 30          13950\n",
       "4 22          17450\n",
       "5 25          15250\n",
       "6 25          17710"
      ]
     },
     "metadata": {},
     "output_type": "display_data"
    }
   ],
   "source": [
    "# Identificar las columnas numéricas\n",
    "columnas_numericas <- sapply(ndf, is.numeric)\n",
    "\n",
    "# Reemplazar los NA por la moda en las columnas numéricas\n",
    "df_imputado <- ndf\n",
    "df_imputado[, columnas_numericas] <- lapply(df_imputado[, columnas_numericas], function(x) {\n",
    "  is_na <- is.na(x)\n",
    "  x[is_na] <- mode(x[!is_na])\n",
    "  return(x)\n",
    "})\n",
    "\n",
    "# Imprimir el nuevo dataframe imputado\n",
    "head(df_imputado)\n"
   ]
  },
  {
   "attachments": {},
   "cell_type": "markdown",
   "id": "d761de0c",
   "metadata": {},
   "source": [
    "### (g) Create a new data set by imputing the most frequent value to the column ”nDoors”.\n",
    "Tip: use the function impute_replace()\n"
   ]
  },
  {
   "cell_type": "code",
   "execution_count": 53,
   "id": "e3713873",
   "metadata": {
    "vscode": {
     "languageId": "r"
    }
   },
   "outputs": [],
   "source": [
    "df1 <- df_imputado"
   ]
  },
  {
   "cell_type": "code",
   "execution_count": 54,
   "id": "dfb4db69",
   "metadata": {
    "vscode": {
     "languageId": "r"
    }
   },
   "outputs": [
    {
     "name": "stdout",
     "output_type": "stream",
     "text": [
      "[1] \"four\"\n"
     ]
    }
   ],
   "source": [
    "# Calcular la moda de la columna factor\n",
    "moda <- as.character(names(which.max(table(df1$num.of.doors))))\n",
    "\n",
    "# Imprimir la moda\n",
    "print(moda)"
   ]
  },
  {
   "cell_type": "code",
   "execution_count": 55,
   "id": "687c155e",
   "metadata": {
    "vscode": {
     "languageId": "r"
    }
   },
   "outputs": [
    {
     "name": "stdout",
     "output_type": "stream",
     "text": [
      "[1] \"\"     \"four\" \"two\" \n"
     ]
    }
   ],
   "source": [
    "# Convertir la columna a tipo factor\n",
    "columna_factor <- as.factor(df1$num.of.doors)\n",
    "\n",
    "# Obtener todos los niveles de la columna factor\n",
    "niveles <- levels(columna_factor)\n",
    "\n",
    "# Imprimir los niveles\n",
    "print(niveles)"
   ]
  },
  {
   "cell_type": "code",
   "execution_count": 56,
   "id": "4c868b19",
   "metadata": {
    "vscode": {
     "languageId": "r"
    }
   },
   "outputs": [],
   "source": [
    "# Reemplazar \"?\" por 0 en el dataframe\n",
    "ndors <- replace(df1$num.of.doors, df1$num.of.doors == \"\", moda)"
   ]
  },
  {
   "cell_type": "code",
   "execution_count": 57,
   "id": "e4d1263f",
   "metadata": {
    "vscode": {
     "languageId": "r"
    }
   },
   "outputs": [
    {
     "name": "stdout",
     "output_type": "stream",
     "text": [
      "[1] \"four\" \"two\" \n"
     ]
    }
   ],
   "source": [
    "# Reamplazamos los valores de ndors en la matriz\n",
    "df1$num.of.doors <- ndors\n",
    "# Convertir la columna a tipo factor\n",
    "columna_factor <- as.factor(df1$num.of.doors)\n",
    "\n",
    "# Obtener todos los niveles de la columna factor\n",
    "niveles <- levels(columna_factor)\n",
    "\n",
    "# Imprimir los niveles\n",
    "print(niveles)"
   ]
  },
  {
   "attachments": {},
   "cell_type": "markdown",
   "id": "80a42be2",
   "metadata": {},
   "source": [
    "### (h) Combine the three last imputations to obtain a final dataset. Are there any duplicated cases?\n",
    "Tip: use the functions distinct() and count()\n"
   ]
  },
  {
   "cell_type": "code",
   "execution_count": 58,
   "id": "73b494bf",
   "metadata": {
    "vscode": {
     "languageId": "r"
    }
   },
   "outputs": [],
   "source": [
    "dff <- df1\n",
    "dff$normalized.losses <- df_imputado1$normalized.losses"
   ]
  },
  {
   "cell_type": "code",
   "execution_count": 59,
   "id": "47daaa33",
   "metadata": {
    "vscode": {
     "languageId": "r"
    }
   },
   "outputs": [
    {
     "data": {
      "text/html": [
       "<table class=\"dataframe\">\n",
       "<caption>A data.frame: 6 × 26</caption>\n",
       "<thead>\n",
       "\t<tr><th></th><th scope=col>symboling</th><th scope=col>normalized.losses</th><th scope=col>make</th><th scope=col>fuel.type</th><th scope=col>aspiration</th><th scope=col>num.of.doors</th><th scope=col>body.style</th><th scope=col>drive.wheels</th><th scope=col>engine.location</th><th scope=col>wheel.base</th><th scope=col>...</th><th scope=col>engine.size</th><th scope=col>fuel.system</th><th scope=col>bore</th><th scope=col>stroke</th><th scope=col>compression.ratio</th><th scope=col>horsepower</th><th scope=col>peak.rpm</th><th scope=col>city.mpg</th><th scope=col>highway.mpg</th><th scope=col>price</th></tr>\n",
       "\t<tr><th></th><th scope=col>&lt;dbl&gt;</th><th scope=col>&lt;dbl&gt;</th><th scope=col>&lt;chr&gt;</th><th scope=col>&lt;chr&gt;</th><th scope=col>&lt;chr&gt;</th><th scope=col>&lt;chr&gt;</th><th scope=col>&lt;chr&gt;</th><th scope=col>&lt;chr&gt;</th><th scope=col>&lt;chr&gt;</th><th scope=col>&lt;dbl&gt;</th><th scope=col>...</th><th scope=col>&lt;dbl&gt;</th><th scope=col>&lt;chr&gt;</th><th scope=col>&lt;dbl&gt;</th><th scope=col>&lt;dbl&gt;</th><th scope=col>&lt;dbl&gt;</th><th scope=col>&lt;dbl&gt;</th><th scope=col>&lt;dbl&gt;</th><th scope=col>&lt;dbl&gt;</th><th scope=col>&lt;dbl&gt;</th><th scope=col>&lt;dbl&gt;</th></tr>\n",
       "</thead>\n",
       "<tbody>\n",
       "\t<tr><th scope=row>1</th><td>3</td><td>  0.8235294</td><td>alfa-romero</td><td>gas</td><td>std</td><td>two </td><td>convertible</td><td>rwd</td><td>front</td><td> 88.6</td><td>...</td><td>130</td><td>mpfi</td><td>3.47</td><td>2.68</td><td> 9.0</td><td>111</td><td>5000</td><td>21</td><td>27</td><td>16500</td></tr>\n",
       "\t<tr><th scope=row>2</th><td>1</td><td>122.0000000</td><td>alfa-romero</td><td>gas</td><td>std</td><td>two </td><td>hatchback  </td><td>rwd</td><td>front</td><td> 94.5</td><td>...</td><td>152</td><td>mpfi</td><td>2.68</td><td>3.47</td><td> 9.0</td><td>154</td><td>5000</td><td>19</td><td>26</td><td>16500</td></tr>\n",
       "\t<tr><th scope=row>3</th><td>2</td><td>164.0000000</td><td>audi       </td><td>gas</td><td>std</td><td>four</td><td>sedan      </td><td>fwd</td><td>front</td><td> 99.8</td><td>...</td><td>109</td><td>mpfi</td><td>3.19</td><td>3.40</td><td>10.0</td><td>102</td><td>5500</td><td>24</td><td>30</td><td>13950</td></tr>\n",
       "\t<tr><th scope=row>4</th><td>2</td><td>164.0000000</td><td>audi       </td><td>gas</td><td>std</td><td>four</td><td>sedan      </td><td>4wd</td><td>front</td><td> 99.4</td><td>...</td><td>136</td><td>mpfi</td><td>3.19</td><td>3.40</td><td> 8.0</td><td>115</td><td>5500</td><td>18</td><td>22</td><td>17450</td></tr>\n",
       "\t<tr><th scope=row>5</th><td>2</td><td> 65.9166667</td><td>audi       </td><td>gas</td><td>std</td><td>two </td><td>sedan      </td><td>fwd</td><td>front</td><td> 99.8</td><td>...</td><td>136</td><td>mpfi</td><td>3.19</td><td>3.40</td><td> 8.5</td><td>110</td><td>5500</td><td>19</td><td>25</td><td>15250</td></tr>\n",
       "\t<tr><th scope=row>6</th><td>1</td><td>158.0000000</td><td>audi       </td><td>gas</td><td>std</td><td>four</td><td>sedan      </td><td>fwd</td><td>front</td><td>105.8</td><td>...</td><td>136</td><td>mpfi</td><td>3.19</td><td>3.40</td><td> 8.5</td><td>110</td><td>5500</td><td>19</td><td>25</td><td>17710</td></tr>\n",
       "</tbody>\n",
       "</table>\n"
      ],
      "text/latex": [
       "A data.frame: 6 × 26\n",
       "\\begin{tabular}{r|lllllllllllllllllllll}\n",
       "  & symboling & normalized.losses & make & fuel.type & aspiration & num.of.doors & body.style & drive.wheels & engine.location & wheel.base & ... & engine.size & fuel.system & bore & stroke & compression.ratio & horsepower & peak.rpm & city.mpg & highway.mpg & price\\\\\n",
       "  & <dbl> & <dbl> & <chr> & <chr> & <chr> & <chr> & <chr> & <chr> & <chr> & <dbl> & ... & <dbl> & <chr> & <dbl> & <dbl> & <dbl> & <dbl> & <dbl> & <dbl> & <dbl> & <dbl>\\\\\n",
       "\\hline\n",
       "\t1 & 3 &   0.8235294 & alfa-romero & gas & std & two  & convertible & rwd & front &  88.6 & ... & 130 & mpfi & 3.47 & 2.68 &  9.0 & 111 & 5000 & 21 & 27 & 16500\\\\\n",
       "\t2 & 1 & 122.0000000 & alfa-romero & gas & std & two  & hatchback   & rwd & front &  94.5 & ... & 152 & mpfi & 2.68 & 3.47 &  9.0 & 154 & 5000 & 19 & 26 & 16500\\\\\n",
       "\t3 & 2 & 164.0000000 & audi        & gas & std & four & sedan       & fwd & front &  99.8 & ... & 109 & mpfi & 3.19 & 3.40 & 10.0 & 102 & 5500 & 24 & 30 & 13950\\\\\n",
       "\t4 & 2 & 164.0000000 & audi        & gas & std & four & sedan       & 4wd & front &  99.4 & ... & 136 & mpfi & 3.19 & 3.40 &  8.0 & 115 & 5500 & 18 & 22 & 17450\\\\\n",
       "\t5 & 2 &  65.9166667 & audi        & gas & std & two  & sedan       & fwd & front &  99.8 & ... & 136 & mpfi & 3.19 & 3.40 &  8.5 & 110 & 5500 & 19 & 25 & 15250\\\\\n",
       "\t6 & 1 & 158.0000000 & audi        & gas & std & four & sedan       & fwd & front & 105.8 & ... & 136 & mpfi & 3.19 & 3.40 &  8.5 & 110 & 5500 & 19 & 25 & 17710\\\\\n",
       "\\end{tabular}\n"
      ],
      "text/markdown": [
       "\n",
       "A data.frame: 6 × 26\n",
       "\n",
       "| <!--/--> | symboling &lt;dbl&gt; | normalized.losses &lt;dbl&gt; | make &lt;chr&gt; | fuel.type &lt;chr&gt; | aspiration &lt;chr&gt; | num.of.doors &lt;chr&gt; | body.style &lt;chr&gt; | drive.wheels &lt;chr&gt; | engine.location &lt;chr&gt; | wheel.base &lt;dbl&gt; | ... ... | engine.size &lt;dbl&gt; | fuel.system &lt;chr&gt; | bore &lt;dbl&gt; | stroke &lt;dbl&gt; | compression.ratio &lt;dbl&gt; | horsepower &lt;dbl&gt; | peak.rpm &lt;dbl&gt; | city.mpg &lt;dbl&gt; | highway.mpg &lt;dbl&gt; | price &lt;dbl&gt; |\n",
       "|---|---|---|---|---|---|---|---|---|---|---|---|---|---|---|---|---|---|---|---|---|---|\n",
       "| 1 | 3 |   0.8235294 | alfa-romero | gas | std | two  | convertible | rwd | front |  88.6 | ... | 130 | mpfi | 3.47 | 2.68 |  9.0 | 111 | 5000 | 21 | 27 | 16500 |\n",
       "| 2 | 1 | 122.0000000 | alfa-romero | gas | std | two  | hatchback   | rwd | front |  94.5 | ... | 152 | mpfi | 2.68 | 3.47 |  9.0 | 154 | 5000 | 19 | 26 | 16500 |\n",
       "| 3 | 2 | 164.0000000 | audi        | gas | std | four | sedan       | fwd | front |  99.8 | ... | 109 | mpfi | 3.19 | 3.40 | 10.0 | 102 | 5500 | 24 | 30 | 13950 |\n",
       "| 4 | 2 | 164.0000000 | audi        | gas | std | four | sedan       | 4wd | front |  99.4 | ... | 136 | mpfi | 3.19 | 3.40 |  8.0 | 115 | 5500 | 18 | 22 | 17450 |\n",
       "| 5 | 2 |  65.9166667 | audi        | gas | std | two  | sedan       | fwd | front |  99.8 | ... | 136 | mpfi | 3.19 | 3.40 |  8.5 | 110 | 5500 | 19 | 25 | 15250 |\n",
       "| 6 | 1 | 158.0000000 | audi        | gas | std | four | sedan       | fwd | front | 105.8 | ... | 136 | mpfi | 3.19 | 3.40 |  8.5 | 110 | 5500 | 19 | 25 | 17710 |\n",
       "\n"
      ],
      "text/plain": [
       "  symboling normalized.losses make        fuel.type aspiration num.of.doors\n",
       "1 3           0.8235294       alfa-romero gas       std        two         \n",
       "2 1         122.0000000       alfa-romero gas       std        two         \n",
       "3 2         164.0000000       audi        gas       std        four        \n",
       "4 2         164.0000000       audi        gas       std        four        \n",
       "5 2          65.9166667       audi        gas       std        two         \n",
       "6 1         158.0000000       audi        gas       std        four        \n",
       "  body.style  drive.wheels engine.location wheel.base ... engine.size\n",
       "1 convertible rwd          front            88.6      ... 130        \n",
       "2 hatchback   rwd          front            94.5      ... 152        \n",
       "3 sedan       fwd          front            99.8      ... 109        \n",
       "4 sedan       4wd          front            99.4      ... 136        \n",
       "5 sedan       fwd          front            99.8      ... 136        \n",
       "6 sedan       fwd          front           105.8      ... 136        \n",
       "  fuel.system bore stroke compression.ratio horsepower peak.rpm city.mpg\n",
       "1 mpfi        3.47 2.68    9.0              111        5000     21      \n",
       "2 mpfi        2.68 3.47    9.0              154        5000     19      \n",
       "3 mpfi        3.19 3.40   10.0              102        5500     24      \n",
       "4 mpfi        3.19 3.40    8.0              115        5500     18      \n",
       "5 mpfi        3.19 3.40    8.5              110        5500     19      \n",
       "6 mpfi        3.19 3.40    8.5              110        5500     19      \n",
       "  highway.mpg price\n",
       "1 27          16500\n",
       "2 26          16500\n",
       "3 30          13950\n",
       "4 22          17450\n",
       "5 25          15250\n",
       "6 25          17710"
      ]
     },
     "metadata": {},
     "output_type": "display_data"
    }
   ],
   "source": [
    "head(dff)"
   ]
  },
  {
   "cell_type": "code",
   "execution_count": 60,
   "id": "4f1aa93f",
   "metadata": {
    "vscode": {
     "languageId": "r"
    }
   },
   "outputs": [
    {
     "name": "stdout",
     "output_type": "stream",
     "text": [
      "'data.frame':\t204 obs. of  26 variables:\n",
      " $ symboling        : num  3 1 2 2 2 1 1 1 0 2 ...\n",
      " $ normalized.losses: num  0.824 122 164 164 65.917 ...\n",
      " $ make             : chr  \"alfa-romero\" \"alfa-romero\" \"audi\" \"audi\" ...\n",
      " $ fuel.type        : chr  \"gas\" \"gas\" \"gas\" \"gas\" ...\n",
      " $ aspiration       : chr  \"std\" \"std\" \"std\" \"std\" ...\n",
      " $ num.of.doors     : chr  \"two\" \"two\" \"four\" \"four\" ...\n",
      " $ body.style       : chr  \"convertible\" \"hatchback\" \"sedan\" \"sedan\" ...\n",
      " $ drive.wheels     : chr  \"rwd\" \"rwd\" \"fwd\" \"4wd\" ...\n",
      " $ engine.location  : chr  \"front\" \"front\" \"front\" \"front\" ...\n",
      " $ wheel.base       : num  88.6 94.5 99.8 99.4 99.8 ...\n",
      " $ length           : num  169 171 177 177 177 ...\n",
      " $ width            : num  64.1 65.5 66.2 66.4 66.3 71.4 71.4 71.4 67.9 64.8 ...\n",
      " $ height           : num  48.8 52.4 54.3 54.3 53.1 55.7 55.7 55.9 52 54.3 ...\n",
      " $ curb.weight      : num  2548 2823 2337 2824 2507 ...\n",
      " $ engine.type      : chr  \"dohc\" \"ohcv\" \"ohc\" \"ohc\" ...\n",
      " $ num.of.cylinders : chr  \"four\" \"six\" \"four\" \"five\" ...\n",
      " $ engine.size      : num  130 152 109 136 136 136 136 131 131 108 ...\n",
      " $ fuel.system      : chr  \"mpfi\" \"mpfi\" \"mpfi\" \"mpfi\" ...\n",
      " $ bore             : num  3.47 2.68 3.19 3.19 3.19 3.19 3.19 3.13 3.13 3.5 ...\n",
      " $ stroke           : num  2.68 3.47 3.4 3.4 3.4 3.4 3.4 3.4 3.4 2.8 ...\n",
      " $ compression.ratio: num  9 9 10 8 8.5 8.5 8.5 8.3 7 8.8 ...\n",
      " $ horsepower       : num  111 154 102 115 110 110 110 140 160 101 ...\n",
      " $ peak.rpm         : num  5000 5000 5500 5500 5500 5500 5500 5500 5500 5800 ...\n",
      " $ city.mpg         : num  21 19 24 18 19 19 19 17 16 23 ...\n",
      " $ highway.mpg      : num  27 26 30 22 25 25 25 20 22 29 ...\n",
      " $ price            : num  16500 16500 13950 17450 15250 ...\n"
     ]
    }
   ],
   "source": [
    "str(dff)"
   ]
  },
  {
   "attachments": {},
   "cell_type": "markdown",
   "id": "4442b1bc",
   "metadata": {},
   "source": [
    "## 2. Data Pre-Processing\n"
   ]
  },
  {
   "attachments": {},
   "cell_type": "markdown",
   "id": "0733e5f5",
   "metadata": {},
   "source": [
    "Load the package dlookr. Use the same car insurance data set above and apply the following \n",
    "transformations to the price attribute. Be critical regarding the obtained results."
   ]
  },
  {
   "cell_type": "code",
   "execution_count": 61,
   "id": "2c07a946",
   "metadata": {
    "vscode": {
     "languageId": "r"
    }
   },
   "outputs": [
    {
     "name": "stdout",
     "output_type": "stream",
     "text": [
      "package 'gdtools' successfully unpacked and MD5 sums checked\n"
     ]
    },
    {
     "name": "stderr",
     "output_type": "stream",
     "text": [
      "Warning message:\n",
      "\"cannot remove prior installation of package 'gdtools'\"\n",
      "Warning message in file.copy(savedcopy, lib, recursive = TRUE):\n",
      "\"problema al copiar C:\\ProgramData\\anaconda3\\envs\\r-data\\Lib\\R\\library\\00LOCK\\gdtools\\libs\\x64\\gdtools.dll  a C:\\ProgramData\\anaconda3\\envs\\r-data\\Lib\\R\\library\\gdtools\\libs\\x64\\gdtools.dll: Permission denied\"\n",
      "Warning message:\n",
      "\"restored 'gdtools'\"\n"
     ]
    },
    {
     "name": "stdout",
     "output_type": "stream",
     "text": [
      "\n",
      "The downloaded binary packages are in\n",
      "\tC:\\Users\\aleja\\AppData\\Local\\Temp\\RtmpEJsNan\\downloaded_packages\n"
     ]
    },
    {
     "name": "stderr",
     "output_type": "stream",
     "text": [
      "Warning message:\n",
      "\"package 'dlookr' is in use and will not be installed\"\n"
     ]
    }
   ],
   "source": [
    "install.packages(\"gdtools\")\n",
    "install.packages(\"dlookr\")\n"
   ]
  },
  {
   "cell_type": "code",
   "execution_count": 62,
   "id": "9a70fede",
   "metadata": {
    "vscode": {
     "languageId": "r"
    }
   },
   "outputs": [],
   "source": [
    "library(dlookr)\n"
   ]
  },
  {
   "attachments": {},
   "cell_type": "markdown",
   "id": "e9e6ca10",
   "metadata": {},
   "source": [
    "### (a) Apply range-based normalization and z-score normalization.\n",
    "Tip: use the function transform()."
   ]
  },
  {
   "cell_type": "code",
   "execution_count": 63,
   "id": "1ed8ad83",
   "metadata": {
    "vscode": {
     "languageId": "r"
    }
   },
   "outputs": [],
   "source": [
    "df <- dff\n",
    "# Normalización basada en rango\n",
    "dff$price_range_normalized <- (dff$price - min(dff$price)) / (max(dff$price) - min(dff$price))\n",
    "\n",
    "# Normalización z-score\n",
    "dff$price_zscore <- (dff$price - mean(dff$price)) / sd(dff$price)"
   ]
  },
  {
   "cell_type": "code",
   "execution_count": 64,
   "id": "e9873f47",
   "metadata": {
    "vscode": {
     "languageId": "r"
    }
   },
   "outputs": [
    {
     "name": "stdout",
     "output_type": "stream",
     "text": [
      "    price_range_normalized price_zscore\n",
      "1             0.2825579663   0.43270907\n",
      "2             0.2825579663   0.43270907\n",
      "3             0.2192542575   0.11232252\n",
      "4             0.3061417010   0.55206876\n",
      "5             0.2515267365   0.27565684\n",
      "6             0.3125961968   0.58473562\n",
      "7             0.3426344273   0.73676218\n",
      "8             0.4656422223   1.35931721\n",
      "9             0.0112705427  -0.94030433\n",
      "10            0.2808202175   0.42391414\n",
      "11            0.2931085845   0.48610682\n",
      "12            0.3935256442   0.99432783\n",
      "13            0.3968770170   1.01128947\n",
      "14            0.4827714612   1.44601004\n",
      "15            0.6365622362   2.22436088\n",
      "16            0.8985899409   3.55050990\n",
      "17            0.7884911375   2.99328859\n",
      "18            0.0008192245  -0.99319952\n",
      "19            0.0292190060  -0.84946532\n",
      "20            0.0361700015  -0.81428562\n",
      "21            0.0112705427  -0.94030433\n",
      "22            0.0312546547  -0.83916270\n",
      "23            0.0704781292  -0.64064868\n",
      "24            0.0275805571  -0.85775768\n",
      "25            0.0390745246  -0.79958554\n",
      "26            0.0618390348  -0.68437202\n",
      "27            0.0853979445  -0.56513797\n",
      "28            0.0944094136  -0.51953000\n",
      "29            0.1947768234  -0.01156028\n",
      "30            0.0337868030  -0.82634723\n",
      "31            0.0431209970  -0.77910592\n",
      "32            0.0069758205  -0.96204036\n",
      "33            0.0350280522  -0.82006515\n",
      "34            0.0499230426  -0.74468008\n",
      "35            0.0540439899  -0.72382354\n",
      "36            0.0540439899  -0.72382354\n",
      "37            0.0689389802  -0.64843847\n",
      "38            0.0987289608  -0.49766833\n",
      "39            0.0925227149  -0.52907878\n",
      "40            0.1285189415  -0.34689819\n",
      "41            0.1943051487  -0.01394747\n",
      "42            0.1297601907  -0.34061610\n",
      "43            0.0413832481  -0.78790085\n",
      "44            0.0112705427  -0.94030433\n",
      "45            0.0112705427  -0.94030433\n",
      "46            0.1472121543  -0.25228993\n",
      "47            0.6735514622   2.41156714\n",
      "48            0.7554739089   2.82618502\n",
      "49            0.7666451517   2.88272382\n",
      "50            0.0019115238  -0.98767128\n",
      "51            0.0242540092  -0.87459368\n",
      "52            0.0416314979  -0.78664443\n",
      "53            0.0391489996  -0.79920861\n",
      "54            0.0565264883  -0.71125936\n",
      "55            0.1446551810  -0.26523103\n",
      "56            0.1669976665  -0.15215343\n",
      "57            0.2116826374   0.07400178\n",
      "58            0.2613326051   0.32528534\n",
      "59            0.0925227149  -0.52907878\n",
      "60            0.0838339705  -0.57305340\n",
      "61            0.1359664366  -0.30920566\n",
      "62            0.1272776923  -0.35318028\n",
      "63            0.1409314334  -0.28407730\n",
      "64            0.1521026761  -0.22753850\n",
      "65            0.3267464376   0.65635144\n",
      "66            0.3283352366   0.66439251\n",
      "67            0.5072737203   1.57001848\n",
      "68            0.5742018768   1.90874873\n",
      "69            0.5724144779   1.89970252\n",
      "70            0.6574152227   2.32989998\n",
      "71            0.7215629810   2.65455835\n",
      "72            0.7432103669   2.76411798\n",
      "73            0.8897770716   3.50590706\n",
      "74            1.0000000000   4.06375658\n",
      "75            0.2826324413   0.43308599\n",
      "76            0.0067275706  -0.96329678\n",
      "77            0.0265875577  -0.86278335\n",
      "78            0.0385035500  -0.80247530\n",
      "79            0.0638250335  -0.67432068\n",
      "80            0.1201777469  -0.38911383\n",
      "81            0.0839332704  -0.57255083\n",
      "82            0.1864604538  -0.05365027\n",
      "83            0.2420684177   0.22778732\n",
      "84            0.2326349238   0.18004344\n",
      "85            0.0464475448  -0.76226993\n",
      "86            0.0762375254  -0.61149979\n",
      "87            0.1032967579  -0.47455024\n",
      "88            0.1032967579  -0.47455024\n",
      "89            0.0094583189  -0.94947618\n",
      "90            0.0491782930  -0.74844933\n",
      "91            0.0380070503  -0.80498813\n",
      "92            0.0429720471  -0.77985978\n",
      "93            0.0553845390  -0.71703888\n",
      "94            0.0541432898  -0.72332097\n",
      "95            0.0665557817  -0.66050008\n",
      "96            0.0591082866  -0.69819262\n",
      "97            0.0715207785  -0.63537173\n",
      "98            0.0777270245  -0.60396128\n",
      "99            0.0951045132  -0.51601203\n",
      "100           0.1099995035  -0.44062696\n",
      "101           0.2080581898   0.05565808\n",
      "102           0.2304006752   0.16873568\n",
      "103           0.2080581898   0.05565808\n",
      "104           0.2999106301   0.52053267\n",
      "105           0.3619730897   0.83463713\n",
      "106           0.3297006107   0.67130281\n",
      "107           0.1683630406  -0.14524313\n",
      "108           0.2006355196   0.01809118\n",
      "109           0.1817685319  -0.07739657\n",
      "110           0.2170200089   0.10101476\n",
      "111           0.2597189812   0.31711863\n",
      "112           0.2924879599   0.48296578\n",
      "113           0.2873988382   0.45720921\n",
      "114           0.2968323321   0.50495309\n",
      "115           0.2857852142   0.44904250\n",
      "116           0.3185541929   0.61488965\n",
      "117           0.3235191897   0.64001801\n",
      "118           0.0112705427  -0.94030433\n",
      "119           0.0704781292  -0.64064868\n",
      "120           0.0275805571  -0.85775768\n",
      "121           0.0390745246  -0.79958554\n",
      "122           0.0618390348  -0.68437202\n",
      "123           0.0944094136  -0.51953000\n",
      "124           0.1898118266  -0.03668863\n",
      "125           0.4195422273   1.12600042\n",
      "126           0.6804528077   2.44649556\n",
      "127           0.7176902835   2.63495823\n",
      "128           0.7921652351   3.01188358\n",
      "129           0.0112705427  -0.94030433\n",
      "130           0.1036939576  -0.47253998\n",
      "131           0.1185889479  -0.39715491\n",
      "132           0.1671217914  -0.15152522\n",
      "133           0.1750657862  -0.11131985\n",
      "134           0.2463134899   0.24927206\n",
      "135           0.2579812323   0.30832370\n",
      "136           0.3235191897   0.64001801\n",
      "137           0.3351869321   0.69906965\n",
      "138           0.0000000000  -0.99734570\n",
      "139           0.0480363438  -0.75422885\n",
      "140           0.0616900849  -0.68512587\n",
      "141           0.0498485676  -0.74505700\n",
      "142           0.0659599821  -0.66351548\n",
      "143           0.1202025719  -0.38898819\n",
      "144           0.1021548086  -0.48032977\n",
      "145           0.1524502259  -0.22577951\n",
      "146           0.0582145872  -0.70271572\n",
      "147           0.1261109180  -0.35908545\n",
      "148           0.0718683283  -0.63361274\n",
      "149           0.1632490939  -0.17112534\n",
      "150           0.0057097463  -0.96844809\n",
      "151           0.0302864803  -0.84406273\n",
      "152           0.0340102279  -0.82521646\n",
      "153           0.0446849710  -0.77119049\n",
      "154           0.0690134551  -0.64806155\n",
      "155           0.0908594409  -0.53749678\n",
      "156           0.0451814706  -0.76867766\n",
      "157           0.0516359664  -0.73601079\n",
      "158           0.0690134551  -0.64806155\n",
      "159           0.0662827069  -0.66188214\n",
      "160           0.0650414577  -0.66816423\n",
      "161           0.0804329477  -0.59026633\n",
      "162           0.1027754332  -0.47718872\n",
      "163           0.0729854526  -0.62795886\n",
      "164           0.0774539497  -0.60534334\n",
      "165           0.1037684326  -0.47216305\n",
      "166           0.1097264287  -0.44200902\n",
      "167           0.0826920213  -0.57883292\n",
      "168           0.1122337520  -0.42931920\n",
      "169           0.1209224964  -0.38534458\n",
      "170           0.1509607269  -0.23331802\n",
      "171           0.1596494712  -0.18934340\n",
      "172           0.3115783725   0.57958431\n",
      "173           0.0950796882  -0.51613767\n",
      "174           0.1385234100  -0.29626455\n",
      "175           0.1208976714  -0.38547022\n",
      "176           0.1434884067  -0.27113620\n",
      "177           0.1521771511  -0.22716157\n",
      "178           0.2839978154   0.43999629\n",
      "179           0.2700958244   0.36963689\n",
      "180           0.2624497294   0.33093922\n",
      "181           0.2639392284   0.33847773\n",
      "182           0.0659599821  -0.66351548\n",
      "183           0.0709249789  -0.63838713\n",
      "184           0.0714214786  -0.63587429\n",
      "185           0.0763864753  -0.61074594\n",
      "186           0.0838339705  -0.57305340\n",
      "187           0.1086589544  -0.44741162\n",
      "188           0.1210714463  -0.38459073\n",
      "189           0.1607914205  -0.18356388\n",
      "190           0.1206990715  -0.38647535\n",
      "191           0.2029938931   0.03002715\n",
      "192           0.2166476342   0.09913013\n",
      "193           0.1780447843  -0.09624284\n",
      "194           0.1941810238  -0.01457568\n",
      "195           0.2059728911   0.04510417\n",
      "196           0.2697730996   0.36800355\n",
      "197           0.2829303411   0.43459369\n",
      "198           0.3302219354   0.67394129\n",
      "199           0.3433791768   0.74053143\n",
      "200           0.2911225858   0.47605548\n",
      "201           0.3457375503   0.75246740\n",
      "202           0.4063105109   1.05903335\n",
      "203           0.4307631200   1.18279051\n",
      "204           0.4346109925   1.20226498\n"
     ]
    }
   ],
   "source": [
    "print(dff[c(\"price_range_normalized\", \"price_zscore\")])"
   ]
  },
  {
   "attachments": {},
   "cell_type": "markdown",
   "id": "b42c4c0e",
   "metadata": {},
   "source": [
    "### (b) Discretize it into 4 equal-frequency ranges an into 4 equal-width ranges.\n",
    "Tip: use the function binning()."
   ]
  },
  {
   "cell_type": "code",
   "execution_count": 65,
   "id": "b127adb2",
   "metadata": {
    "vscode": {
     "languageId": "r"
    }
   },
   "outputs": [
    {
     "name": "stdout",
     "output_type": "stream",
     "text": [
      "    price_equal_frequency price_equal_width\n",
      "1                       2                 2\n",
      "2                       2                 2\n",
      "3                       1                 1\n",
      "4                       2                 2\n",
      "5                       2                 2\n",
      "6                       2                 2\n",
      "7                       2                 2\n",
      "8                       2                 2\n",
      "9                       1                 1\n",
      "10                      2                 2\n",
      "11                      2                 2\n",
      "12                      2                 2\n",
      "13                      2                 2\n",
      "14                      2                 2\n",
      "15                      3                 3\n",
      "16                      4                 4\n",
      "17                      4                 4\n",
      "18                      1                 1\n",
      "19                      1                 1\n",
      "20                      1                 1\n",
      "21                      1                 1\n",
      "22                      1                 1\n",
      "23                      1                 1\n",
      "24                      1                 1\n",
      "25                      1                 1\n",
      "26                      1                 1\n",
      "27                      1                 1\n",
      "28                      1                 1\n",
      "29                      1                 1\n",
      "30                      1                 1\n",
      "31                      1                 1\n",
      "32                      1                 1\n",
      "33                      1                 1\n",
      "34                      1                 1\n",
      "35                      1                 1\n",
      "36                      1                 1\n",
      "37                      1                 1\n",
      "38                      1                 1\n",
      "39                      1                 1\n",
      "40                      1                 1\n",
      "41                      1                 1\n",
      "42                      1                 1\n",
      "43                      1                 1\n",
      "44                      1                 1\n",
      "45                      1                 1\n",
      "46                      1                 1\n",
      "47                      3                 3\n",
      "48                      4                 4\n",
      "49                      4                 4\n",
      "50                      1                 1\n",
      "51                      1                 1\n",
      "52                      1                 1\n",
      "53                      1                 1\n",
      "54                      1                 1\n",
      "55                      1                 1\n",
      "56                      1                 1\n",
      "57                      1                 1\n",
      "58                      2                 2\n",
      "59                      1                 1\n",
      "60                      1                 1\n",
      "61                      1                 1\n",
      "62                      1                 1\n",
      "63                      1                 1\n",
      "64                      1                 1\n",
      "65                      2                 2\n",
      "66                      2                 2\n",
      "67                      3                 3\n",
      "68                      3                 3\n",
      "69                      3                 3\n",
      "70                      3                 3\n",
      "71                      3                 3\n",
      "72                      3                 3\n",
      "73                      4                 4\n",
      "74                      4                 4\n",
      "75                      2                 2\n",
      "76                      1                 1\n",
      "77                      1                 1\n",
      "78                      1                 1\n",
      "79                      1                 1\n",
      "80                      1                 1\n",
      "81                      1                 1\n",
      "82                      1                 1\n",
      "83                      1                 1\n",
      "84                      1                 1\n",
      "85                      1                 1\n",
      "86                      1                 1\n",
      "87                      1                 1\n",
      "88                      1                 1\n",
      "89                      1                 1\n",
      "90                      1                 1\n",
      "91                      1                 1\n",
      "92                      1                 1\n",
      "93                      1                 1\n",
      "94                      1                 1\n",
      "95                      1                 1\n",
      "96                      1                 1\n",
      "97                      1                 1\n",
      "98                      1                 1\n",
      "99                      1                 1\n",
      "100                     1                 1\n",
      "101                     1                 1\n",
      "102                     1                 1\n",
      "103                     1                 1\n",
      "104                     2                 2\n",
      "105                     2                 2\n",
      "106                     2                 2\n",
      "107                     1                 1\n",
      "108                     1                 1\n",
      "109                     1                 1\n",
      "110                     1                 1\n",
      "111                     2                 2\n",
      "112                     2                 2\n",
      "113                     2                 2\n",
      "114                     2                 2\n",
      "115                     2                 2\n",
      "116                     2                 2\n",
      "117                     2                 2\n",
      "118                     1                 1\n",
      "119                     1                 1\n",
      "120                     1                 1\n",
      "121                     1                 1\n",
      "122                     1                 1\n",
      "123                     1                 1\n",
      "124                     1                 1\n",
      "125                     2                 2\n",
      "126                     3                 3\n",
      "127                     3                 3\n",
      "128                     4                 4\n",
      "129                     1                 1\n",
      "130                     1                 1\n",
      "131                     1                 1\n",
      "132                     1                 1\n",
      "133                     1                 1\n",
      "134                     1                 1\n",
      "135                     2                 2\n",
      "136                     2                 2\n",
      "137                     2                 2\n",
      "138                     1                 1\n",
      "139                     1                 1\n",
      "140                     1                 1\n",
      "141                     1                 1\n",
      "142                     1                 1\n",
      "143                     1                 1\n",
      "144                     1                 1\n",
      "145                     1                 1\n",
      "146                     1                 1\n",
      "147                     1                 1\n",
      "148                     1                 1\n",
      "149                     1                 1\n",
      "150                     1                 1\n",
      "151                     1                 1\n",
      "152                     1                 1\n",
      "153                     1                 1\n",
      "154                     1                 1\n",
      "155                     1                 1\n",
      "156                     1                 1\n",
      "157                     1                 1\n",
      "158                     1                 1\n",
      "159                     1                 1\n",
      "160                     1                 1\n",
      "161                     1                 1\n",
      "162                     1                 1\n",
      "163                     1                 1\n",
      "164                     1                 1\n",
      "165                     1                 1\n",
      "166                     1                 1\n",
      "167                     1                 1\n",
      "168                     1                 1\n",
      "169                     1                 1\n",
      "170                     1                 1\n",
      "171                     1                 1\n",
      "172                     2                 2\n",
      "173                     1                 1\n",
      "174                     1                 1\n",
      "175                     1                 1\n",
      "176                     1                 1\n",
      "177                     1                 1\n",
      "178                     2                 2\n",
      "179                     2                 2\n",
      "180                     2                 2\n",
      "181                     2                 2\n",
      "182                     1                 1\n",
      "183                     1                 1\n",
      "184                     1                 1\n",
      "185                     1                 1\n",
      "186                     1                 1\n",
      "187                     1                 1\n",
      "188                     1                 1\n",
      "189                     1                 1\n",
      "190                     1                 1\n",
      "191                     1                 1\n",
      "192                     1                 1\n",
      "193                     1                 1\n",
      "194                     1                 1\n",
      "195                     1                 1\n",
      "196                     2                 2\n",
      "197                     2                 2\n",
      "198                     2                 2\n",
      "199                     2                 2\n",
      "200                     2                 2\n",
      "201                     2                 2\n",
      "202                     2                 2\n",
      "203                     2                 2\n",
      "204                     2                 2\n"
     ]
    }
   ],
   "source": [
    "dff <- df\n",
    "# Discretización en 4 rangos de frecuencia iguales\n",
    "dff$price_equal_frequency <- cut(dff$price, breaks = 4, labels = FALSE)\n",
    "\n",
    "# Discretización en 4 rangos de ancho igual\n",
    "dff$price_equal_width <- cut(dff$price, breaks = 4, labels = FALSE, include.lowest = TRUE)\n",
    "\n",
    "print(dff[c(\"price_equal_frequency\", \"price_equal_width\")])"
   ]
  },
  {
   "attachments": {},
   "cell_type": "markdown",
   "id": "dca6e474",
   "metadata": {},
   "source": [
    "## 3. With the seed 111019 obtain the following samples on the car insurance data set.\n",
    "Tip: use the function sample_frac()\n"
   ]
  },
  {
   "cell_type": "code",
   "execution_count": 66,
   "id": "9a60dd8b",
   "metadata": {
    "vscode": {
     "languageId": "r"
    }
   },
   "outputs": [],
   "source": [
    "# Establecer la semilla\n",
    "set.seed(111019)"
   ]
  },
  {
   "attachments": {},
   "cell_type": "markdown",
   "id": "c9a26696",
   "metadata": {},
   "source": [
    "### (a) A random sample of 60% of the cases, with replacement\n"
   ]
  },
  {
   "cell_type": "code",
   "execution_count": 77,
   "id": "276f84f1",
   "metadata": {
    "vscode": {
     "languageId": "r"
    }
   },
   "outputs": [
    {
     "name": "stdout",
     "output_type": "stream",
     "text": [
      "[1] \"Filas del DataFrame Incial\"\n",
      "[1] 204\n"
     ]
    }
   ],
   "source": [
    "print(\"Filas del DataFrame Incial\")\n",
    "print(nrow(df))"
   ]
  },
  {
   "cell_type": "code",
   "execution_count": 79,
   "id": "8cd4ce7b",
   "metadata": {
    "vscode": {
     "languageId": "r"
    }
   },
   "outputs": [],
   "source": [
    "# (a) Muestra aleatoria del 60% de los casos con reemplazo\n",
    "df_a <- sample_frac(df, 0.6, replace = TRUE)"
   ]
  },
  {
   "cell_type": "code",
   "execution_count": 80,
   "id": "0e9a1b72",
   "metadata": {
    "vscode": {
     "languageId": "r"
    }
   },
   "outputs": [
    {
     "name": "stdout",
     "output_type": "stream",
     "text": [
      "[1] \"Muestra aleatoria del 60% de los casos con reemplazo:\"\n",
      "[1] 122\n"
     ]
    }
   ],
   "source": [
    "print(\"Muestra aleatoria del 60% de los casos con reemplazo:\")\n",
    "print(nrow(df_a))"
   ]
  },
  {
   "cell_type": "code",
   "execution_count": 86,
   "id": "3f3141be",
   "metadata": {
    "vscode": {
     "languageId": "r"
    }
   },
   "outputs": [
    {
     "data": {
      "text/html": [
       "<table class=\"dataframe\">\n",
       "<caption>A data.frame: 6 × 26</caption>\n",
       "<thead>\n",
       "\t<tr><th></th><th scope=col>symboling</th><th scope=col>normalized.losses</th><th scope=col>make</th><th scope=col>fuel.type</th><th scope=col>aspiration</th><th scope=col>num.of.doors</th><th scope=col>body.style</th><th scope=col>drive.wheels</th><th scope=col>engine.location</th><th scope=col>wheel.base</th><th scope=col>...</th><th scope=col>engine.size</th><th scope=col>fuel.system</th><th scope=col>bore</th><th scope=col>stroke</th><th scope=col>compression.ratio</th><th scope=col>horsepower</th><th scope=col>peak.rpm</th><th scope=col>city.mpg</th><th scope=col>highway.mpg</th><th scope=col>price</th></tr>\n",
       "\t<tr><th></th><th scope=col>&lt;dbl&gt;</th><th scope=col>&lt;dbl&gt;</th><th scope=col>&lt;chr&gt;</th><th scope=col>&lt;chr&gt;</th><th scope=col>&lt;chr&gt;</th><th scope=col>&lt;chr&gt;</th><th scope=col>&lt;chr&gt;</th><th scope=col>&lt;chr&gt;</th><th scope=col>&lt;chr&gt;</th><th scope=col>&lt;dbl&gt;</th><th scope=col>...</th><th scope=col>&lt;dbl&gt;</th><th scope=col>&lt;chr&gt;</th><th scope=col>&lt;dbl&gt;</th><th scope=col>&lt;dbl&gt;</th><th scope=col>&lt;dbl&gt;</th><th scope=col>&lt;dbl&gt;</th><th scope=col>&lt;dbl&gt;</th><th scope=col>&lt;dbl&gt;</th><th scope=col>&lt;dbl&gt;</th><th scope=col>&lt;dbl&gt;</th></tr>\n",
       "</thead>\n",
       "<tbody>\n",
       "\t<tr><th scope=row>1</th><td> 1</td><td>128</td><td>nissan  </td><td>gas</td><td>std  </td><td>two </td><td>sedan      </td><td>fwd</td><td>front</td><td> 94.5</td><td>...</td><td> 97</td><td>2bbl</td><td>3.15</td><td>3.29</td><td>9.4</td><td> 69</td><td>5200</td><td>31</td><td>37</td><td> 6649</td></tr>\n",
       "\t<tr><th scope=row>2</th><td> 3</td><td> NA</td><td>porsche </td><td>gas</td><td>std  </td><td>two </td><td>convertible</td><td>rwd</td><td>rear </td><td> 89.5</td><td>...</td><td>194</td><td>mpfi</td><td>3.74</td><td>2.90</td><td>9.5</td><td>207</td><td>5900</td><td>17</td><td>25</td><td>37028</td></tr>\n",
       "\t<tr><th scope=row>3</th><td>-1</td><td> 74</td><td>plymouth</td><td>gas</td><td>std  </td><td>four</td><td>wagon      </td><td>fwd</td><td>front</td><td>103.3</td><td>...</td><td>122</td><td>2bbl</td><td>3.35</td><td>3.46</td><td>8.5</td><td> 88</td><td>5000</td><td>24</td><td>30</td><td> 8921</td></tr>\n",
       "\t<tr><th scope=row>4</th><td> 2</td><td> NA</td><td>isuzu   </td><td>gas</td><td>std  </td><td>two </td><td>hatchback  </td><td>rwd</td><td>front</td><td> 96.0</td><td>...</td><td>119</td><td>spfi</td><td>3.43</td><td>3.23</td><td>9.2</td><td> 90</td><td>5000</td><td>24</td><td>29</td><td>11048</td></tr>\n",
       "\t<tr><th scope=row>5</th><td> 1</td><td>118</td><td>dodge   </td><td>gas</td><td>turbo</td><td>two </td><td>hatchback  </td><td>fwd</td><td>front</td><td> 93.7</td><td>...</td><td> 98</td><td>mpfi</td><td>3.03</td><td>3.39</td><td>7.6</td><td>102</td><td>5500</td><td>24</td><td>30</td><td> 7957</td></tr>\n",
       "\t<tr><th scope=row>6</th><td> 0</td><td>102</td><td>subaru  </td><td>gas</td><td>turbo</td><td>four</td><td>sedan      </td><td>4wd</td><td>front</td><td> 97.0</td><td>...</td><td>108</td><td>mpfi</td><td>3.62</td><td>2.64</td><td>7.7</td><td>111</td><td>4800</td><td>24</td><td>29</td><td>11259</td></tr>\n",
       "</tbody>\n",
       "</table>\n"
      ],
      "text/latex": [
       "A data.frame: 6 × 26\n",
       "\\begin{tabular}{r|lllllllllllllllllllll}\n",
       "  & symboling & normalized.losses & make & fuel.type & aspiration & num.of.doors & body.style & drive.wheels & engine.location & wheel.base & ... & engine.size & fuel.system & bore & stroke & compression.ratio & horsepower & peak.rpm & city.mpg & highway.mpg & price\\\\\n",
       "  & <dbl> & <dbl> & <chr> & <chr> & <chr> & <chr> & <chr> & <chr> & <chr> & <dbl> & ... & <dbl> & <chr> & <dbl> & <dbl> & <dbl> & <dbl> & <dbl> & <dbl> & <dbl> & <dbl>\\\\\n",
       "\\hline\n",
       "\t1 &  1 & 128 & nissan   & gas & std   & two  & sedan       & fwd & front &  94.5 & ... &  97 & 2bbl & 3.15 & 3.29 & 9.4 &  69 & 5200 & 31 & 37 &  6649\\\\\n",
       "\t2 &  3 &  NA & porsche  & gas & std   & two  & convertible & rwd & rear  &  89.5 & ... & 194 & mpfi & 3.74 & 2.90 & 9.5 & 207 & 5900 & 17 & 25 & 37028\\\\\n",
       "\t3 & -1 &  74 & plymouth & gas & std   & four & wagon       & fwd & front & 103.3 & ... & 122 & 2bbl & 3.35 & 3.46 & 8.5 &  88 & 5000 & 24 & 30 &  8921\\\\\n",
       "\t4 &  2 &  NA & isuzu    & gas & std   & two  & hatchback   & rwd & front &  96.0 & ... & 119 & spfi & 3.43 & 3.23 & 9.2 &  90 & 5000 & 24 & 29 & 11048\\\\\n",
       "\t5 &  1 & 118 & dodge    & gas & turbo & two  & hatchback   & fwd & front &  93.7 & ... &  98 & mpfi & 3.03 & 3.39 & 7.6 & 102 & 5500 & 24 & 30 &  7957\\\\\n",
       "\t6 &  0 & 102 & subaru   & gas & turbo & four & sedan       & 4wd & front &  97.0 & ... & 108 & mpfi & 3.62 & 2.64 & 7.7 & 111 & 4800 & 24 & 29 & 11259\\\\\n",
       "\\end{tabular}\n"
      ],
      "text/markdown": [
       "\n",
       "A data.frame: 6 × 26\n",
       "\n",
       "| <!--/--> | symboling &lt;dbl&gt; | normalized.losses &lt;dbl&gt; | make &lt;chr&gt; | fuel.type &lt;chr&gt; | aspiration &lt;chr&gt; | num.of.doors &lt;chr&gt; | body.style &lt;chr&gt; | drive.wheels &lt;chr&gt; | engine.location &lt;chr&gt; | wheel.base &lt;dbl&gt; | ... ... | engine.size &lt;dbl&gt; | fuel.system &lt;chr&gt; | bore &lt;dbl&gt; | stroke &lt;dbl&gt; | compression.ratio &lt;dbl&gt; | horsepower &lt;dbl&gt; | peak.rpm &lt;dbl&gt; | city.mpg &lt;dbl&gt; | highway.mpg &lt;dbl&gt; | price &lt;dbl&gt; |\n",
       "|---|---|---|---|---|---|---|---|---|---|---|---|---|---|---|---|---|---|---|---|---|---|\n",
       "| 1 |  1 | 128 | nissan   | gas | std   | two  | sedan       | fwd | front |  94.5 | ... |  97 | 2bbl | 3.15 | 3.29 | 9.4 |  69 | 5200 | 31 | 37 |  6649 |\n",
       "| 2 |  3 |  NA | porsche  | gas | std   | two  | convertible | rwd | rear  |  89.5 | ... | 194 | mpfi | 3.74 | 2.90 | 9.5 | 207 | 5900 | 17 | 25 | 37028 |\n",
       "| 3 | -1 |  74 | plymouth | gas | std   | four | wagon       | fwd | front | 103.3 | ... | 122 | 2bbl | 3.35 | 3.46 | 8.5 |  88 | 5000 | 24 | 30 |  8921 |\n",
       "| 4 |  2 |  NA | isuzu    | gas | std   | two  | hatchback   | rwd | front |  96.0 | ... | 119 | spfi | 3.43 | 3.23 | 9.2 |  90 | 5000 | 24 | 29 | 11048 |\n",
       "| 5 |  1 | 118 | dodge    | gas | turbo | two  | hatchback   | fwd | front |  93.7 | ... |  98 | mpfi | 3.03 | 3.39 | 7.6 | 102 | 5500 | 24 | 30 |  7957 |\n",
       "| 6 |  0 | 102 | subaru   | gas | turbo | four | sedan       | 4wd | front |  97.0 | ... | 108 | mpfi | 3.62 | 2.64 | 7.7 | 111 | 4800 | 24 | 29 | 11259 |\n",
       "\n"
      ],
      "text/plain": [
       "  symboling normalized.losses make     fuel.type aspiration num.of.doors\n",
       "1  1        128               nissan   gas       std        two         \n",
       "2  3         NA               porsche  gas       std        two         \n",
       "3 -1         74               plymouth gas       std        four        \n",
       "4  2         NA               isuzu    gas       std        two         \n",
       "5  1        118               dodge    gas       turbo      two         \n",
       "6  0        102               subaru   gas       turbo      four        \n",
       "  body.style  drive.wheels engine.location wheel.base ... engine.size\n",
       "1 sedan       fwd          front            94.5      ...  97        \n",
       "2 convertible rwd          rear             89.5      ... 194        \n",
       "3 wagon       fwd          front           103.3      ... 122        \n",
       "4 hatchback   rwd          front            96.0      ... 119        \n",
       "5 hatchback   fwd          front            93.7      ...  98        \n",
       "6 sedan       4wd          front            97.0      ... 108        \n",
       "  fuel.system bore stroke compression.ratio horsepower peak.rpm city.mpg\n",
       "1 2bbl        3.15 3.29   9.4                69        5200     31      \n",
       "2 mpfi        3.74 2.90   9.5               207        5900     17      \n",
       "3 2bbl        3.35 3.46   8.5                88        5000     24      \n",
       "4 spfi        3.43 3.23   9.2                90        5000     24      \n",
       "5 mpfi        3.03 3.39   7.6               102        5500     24      \n",
       "6 mpfi        3.62 2.64   7.7               111        4800     24      \n",
       "  highway.mpg price\n",
       "1 37           6649\n",
       "2 25          37028\n",
       "3 30           8921\n",
       "4 29          11048\n",
       "5 30           7957\n",
       "6 29          11259"
      ]
     },
     "metadata": {},
     "output_type": "display_data"
    }
   ],
   "source": [
    "head(df_a)"
   ]
  },
  {
   "attachments": {},
   "cell_type": "markdown",
   "id": "0325bc8d",
   "metadata": {},
   "source": [
    "### (b) A stratified sample of 60% of the cases of cars, according to the fuelType attribute.\n"
   ]
  },
  {
   "cell_type": "code",
   "execution_count": 78,
   "id": "2c85f38c",
   "metadata": {
    "vscode": {
     "languageId": "r"
    }
   },
   "outputs": [
    {
     "name": "stdout",
     "output_type": "stream",
     "text": [
      "[1] \"Filas del DataFrame Incial\"\n",
      "[1] 204\n"
     ]
    }
   ],
   "source": [
    "print(\"Filas del DataFrame Incial\")\n",
    "print(nrow(df))"
   ]
  },
  {
   "cell_type": "code",
   "execution_count": 83,
   "id": "c4eff816",
   "metadata": {
    "vscode": {
     "languageId": "r"
    }
   },
   "outputs": [],
   "source": [
    "# (b) Muestra estratificada del 60% de los casos de autos según el atributo fuelType\n",
    "df_b <- df %>% \n",
    "    group_by(fuel.type) %>% \n",
    "        sample_frac(0.6, replace = FALSE)"
   ]
  },
  {
   "cell_type": "code",
   "execution_count": 84,
   "id": "44895df3",
   "metadata": {
    "vscode": {
     "languageId": "r"
    }
   },
   "outputs": [
    {
     "name": "stdout",
     "output_type": "stream",
     "text": [
      "[1] \" A stratified sample of 60% of the cases of cars, according to the fuelType attribute.\"\n",
      "[1] 122\n"
     ]
    }
   ],
   "source": [
    "print(\" A stratified sample of 60% of the cases of cars, according to the fuelType attribute.\")\n",
    "print(nrow(df_b))"
   ]
  },
  {
   "cell_type": "code",
   "execution_count": 85,
   "id": "58faeb2d",
   "metadata": {
    "vscode": {
     "languageId": "r"
    }
   },
   "outputs": [
    {
     "data": {
      "text/html": [
       "<table class=\"dataframe\">\n",
       "<caption>A grouped_df: 6 × 26</caption>\n",
       "<thead>\n",
       "\t<tr><th scope=col>symboling</th><th scope=col>normalized.losses</th><th scope=col>make</th><th scope=col>fuel.type</th><th scope=col>aspiration</th><th scope=col>num.of.doors</th><th scope=col>body.style</th><th scope=col>drive.wheels</th><th scope=col>engine.location</th><th scope=col>wheel.base</th><th scope=col>...</th><th scope=col>engine.size</th><th scope=col>fuel.system</th><th scope=col>bore</th><th scope=col>stroke</th><th scope=col>compression.ratio</th><th scope=col>horsepower</th><th scope=col>peak.rpm</th><th scope=col>city.mpg</th><th scope=col>highway.mpg</th><th scope=col>price</th></tr>\n",
       "\t<tr><th scope=col>&lt;dbl&gt;</th><th scope=col>&lt;dbl&gt;</th><th scope=col>&lt;chr&gt;</th><th scope=col>&lt;chr&gt;</th><th scope=col>&lt;chr&gt;</th><th scope=col>&lt;chr&gt;</th><th scope=col>&lt;chr&gt;</th><th scope=col>&lt;chr&gt;</th><th scope=col>&lt;chr&gt;</th><th scope=col>&lt;dbl&gt;</th><th scope=col>...</th><th scope=col>&lt;dbl&gt;</th><th scope=col>&lt;chr&gt;</th><th scope=col>&lt;dbl&gt;</th><th scope=col>&lt;dbl&gt;</th><th scope=col>&lt;dbl&gt;</th><th scope=col>&lt;dbl&gt;</th><th scope=col>&lt;dbl&gt;</th><th scope=col>&lt;dbl&gt;</th><th scope=col>&lt;dbl&gt;</th><th scope=col>&lt;dbl&gt;</th></tr>\n",
       "</thead>\n",
       "<tbody>\n",
       "\t<tr><td>-1</td><td> 93</td><td>mercedes-benz</td><td>diesel</td><td>turbo</td><td>four</td><td>sedan</td><td>rwd</td><td>front</td><td>110.0</td><td>...</td><td>183</td><td>idi</td><td>3.58</td><td>3.64</td><td>21.5</td><td>123</td><td>4350</td><td>22</td><td>25</td><td>25552</td></tr>\n",
       "\t<tr><td> 0</td><td> 91</td><td>toyota       </td><td>diesel</td><td>std  </td><td>four</td><td>sedan</td><td>fwd</td><td>front</td><td> 95.7</td><td>...</td><td>110</td><td>idi</td><td>3.27</td><td>3.35</td><td>22.5</td><td> 56</td><td>4500</td><td>34</td><td>36</td><td> 7898</td></tr>\n",
       "\t<tr><td> 0</td><td>161</td><td>peugot       </td><td>diesel</td><td>turbo</td><td>four</td><td>sedan</td><td>rwd</td><td>front</td><td>107.9</td><td>...</td><td>152</td><td>idi</td><td>3.70</td><td>3.52</td><td>21.0</td><td> 95</td><td>4150</td><td>28</td><td>33</td><td>13200</td></tr>\n",
       "\t<tr><td> 2</td><td>122</td><td>volkswagen   </td><td>diesel</td><td>std  </td><td>two </td><td>sedan</td><td>fwd</td><td>front</td><td> 97.3</td><td>...</td><td> 97</td><td>idi</td><td>3.01</td><td>3.40</td><td>23.0</td><td> 52</td><td>4800</td><td>37</td><td>46</td><td> 7775</td></tr>\n",
       "\t<tr><td> 0</td><td> NA</td><td>volkswagen   </td><td>diesel</td><td>turbo</td><td>four</td><td>sedan</td><td>fwd</td><td>front</td><td>100.4</td><td>...</td><td> 97</td><td>idi</td><td>3.01</td><td>3.40</td><td>23.0</td><td> 68</td><td>4500</td><td>33</td><td>38</td><td>13845</td></tr>\n",
       "\t<tr><td> 1</td><td>128</td><td>nissan       </td><td>diesel</td><td>std  </td><td>two </td><td>sedan</td><td>fwd</td><td>front</td><td> 94.5</td><td>...</td><td>103</td><td>idi</td><td>2.99</td><td>3.47</td><td>21.9</td><td> 55</td><td>4800</td><td>45</td><td>50</td><td> 7099</td></tr>\n",
       "</tbody>\n",
       "</table>\n"
      ],
      "text/latex": [
       "A grouped\\_df: 6 × 26\n",
       "\\begin{tabular}{lllllllllllllllllllll}\n",
       " symboling & normalized.losses & make & fuel.type & aspiration & num.of.doors & body.style & drive.wheels & engine.location & wheel.base & ... & engine.size & fuel.system & bore & stroke & compression.ratio & horsepower & peak.rpm & city.mpg & highway.mpg & price\\\\\n",
       " <dbl> & <dbl> & <chr> & <chr> & <chr> & <chr> & <chr> & <chr> & <chr> & <dbl> & ... & <dbl> & <chr> & <dbl> & <dbl> & <dbl> & <dbl> & <dbl> & <dbl> & <dbl> & <dbl>\\\\\n",
       "\\hline\n",
       "\t -1 &  93 & mercedes-benz & diesel & turbo & four & sedan & rwd & front & 110.0 & ... & 183 & idi & 3.58 & 3.64 & 21.5 & 123 & 4350 & 22 & 25 & 25552\\\\\n",
       "\t  0 &  91 & toyota        & diesel & std   & four & sedan & fwd & front &  95.7 & ... & 110 & idi & 3.27 & 3.35 & 22.5 &  56 & 4500 & 34 & 36 &  7898\\\\\n",
       "\t  0 & 161 & peugot        & diesel & turbo & four & sedan & rwd & front & 107.9 & ... & 152 & idi & 3.70 & 3.52 & 21.0 &  95 & 4150 & 28 & 33 & 13200\\\\\n",
       "\t  2 & 122 & volkswagen    & diesel & std   & two  & sedan & fwd & front &  97.3 & ... &  97 & idi & 3.01 & 3.40 & 23.0 &  52 & 4800 & 37 & 46 &  7775\\\\\n",
       "\t  0 &  NA & volkswagen    & diesel & turbo & four & sedan & fwd & front & 100.4 & ... &  97 & idi & 3.01 & 3.40 & 23.0 &  68 & 4500 & 33 & 38 & 13845\\\\\n",
       "\t  1 & 128 & nissan        & diesel & std   & two  & sedan & fwd & front &  94.5 & ... & 103 & idi & 2.99 & 3.47 & 21.9 &  55 & 4800 & 45 & 50 &  7099\\\\\n",
       "\\end{tabular}\n"
      ],
      "text/markdown": [
       "\n",
       "A grouped_df: 6 × 26\n",
       "\n",
       "| symboling &lt;dbl&gt; | normalized.losses &lt;dbl&gt; | make &lt;chr&gt; | fuel.type &lt;chr&gt; | aspiration &lt;chr&gt; | num.of.doors &lt;chr&gt; | body.style &lt;chr&gt; | drive.wheels &lt;chr&gt; | engine.location &lt;chr&gt; | wheel.base &lt;dbl&gt; | ... ... | engine.size &lt;dbl&gt; | fuel.system &lt;chr&gt; | bore &lt;dbl&gt; | stroke &lt;dbl&gt; | compression.ratio &lt;dbl&gt; | horsepower &lt;dbl&gt; | peak.rpm &lt;dbl&gt; | city.mpg &lt;dbl&gt; | highway.mpg &lt;dbl&gt; | price &lt;dbl&gt; |\n",
       "|---|---|---|---|---|---|---|---|---|---|---|---|---|---|---|---|---|---|---|---|---|\n",
       "| -1 |  93 | mercedes-benz | diesel | turbo | four | sedan | rwd | front | 110.0 | ... | 183 | idi | 3.58 | 3.64 | 21.5 | 123 | 4350 | 22 | 25 | 25552 |\n",
       "|  0 |  91 | toyota        | diesel | std   | four | sedan | fwd | front |  95.7 | ... | 110 | idi | 3.27 | 3.35 | 22.5 |  56 | 4500 | 34 | 36 |  7898 |\n",
       "|  0 | 161 | peugot        | diesel | turbo | four | sedan | rwd | front | 107.9 | ... | 152 | idi | 3.70 | 3.52 | 21.0 |  95 | 4150 | 28 | 33 | 13200 |\n",
       "|  2 | 122 | volkswagen    | diesel | std   | two  | sedan | fwd | front |  97.3 | ... |  97 | idi | 3.01 | 3.40 | 23.0 |  52 | 4800 | 37 | 46 |  7775 |\n",
       "|  0 |  NA | volkswagen    | diesel | turbo | four | sedan | fwd | front | 100.4 | ... |  97 | idi | 3.01 | 3.40 | 23.0 |  68 | 4500 | 33 | 38 | 13845 |\n",
       "|  1 | 128 | nissan        | diesel | std   | two  | sedan | fwd | front |  94.5 | ... | 103 | idi | 2.99 | 3.47 | 21.9 |  55 | 4800 | 45 | 50 |  7099 |\n",
       "\n"
      ],
      "text/plain": [
       "  symboling normalized.losses make          fuel.type aspiration num.of.doors\n",
       "1 -1         93               mercedes-benz diesel    turbo      four        \n",
       "2  0         91               toyota        diesel    std        four        \n",
       "3  0        161               peugot        diesel    turbo      four        \n",
       "4  2        122               volkswagen    diesel    std        two         \n",
       "5  0         NA               volkswagen    diesel    turbo      four        \n",
       "6  1        128               nissan        diesel    std        two         \n",
       "  body.style drive.wheels engine.location wheel.base ... engine.size\n",
       "1 sedan      rwd          front           110.0      ... 183        \n",
       "2 sedan      fwd          front            95.7      ... 110        \n",
       "3 sedan      rwd          front           107.9      ... 152        \n",
       "4 sedan      fwd          front            97.3      ...  97        \n",
       "5 sedan      fwd          front           100.4      ...  97        \n",
       "6 sedan      fwd          front            94.5      ... 103        \n",
       "  fuel.system bore stroke compression.ratio horsepower peak.rpm city.mpg\n",
       "1 idi         3.58 3.64   21.5              123        4350     22      \n",
       "2 idi         3.27 3.35   22.5               56        4500     34      \n",
       "3 idi         3.70 3.52   21.0               95        4150     28      \n",
       "4 idi         3.01 3.40   23.0               52        4800     37      \n",
       "5 idi         3.01 3.40   23.0               68        4500     33      \n",
       "6 idi         2.99 3.47   21.9               55        4800     45      \n",
       "  highway.mpg price\n",
       "1 25          25552\n",
       "2 36           7898\n",
       "3 33          13200\n",
       "4 46           7775\n",
       "5 38          13845\n",
       "6 50           7099"
      ]
     },
     "metadata": {},
     "output_type": "display_data"
    }
   ],
   "source": [
    "head(df_b)"
   ]
  },
  {
   "attachments": {},
   "cell_type": "markdown",
   "id": "d740e66b",
   "metadata": {},
   "source": [
    "### (c) Use the table() function to inspect the distribution of values in each of the two samples above."
   ]
  },
  {
   "cell_type": "code",
   "execution_count": 89,
   "id": "cde78aba",
   "metadata": {
    "vscode": {
     "languageId": "r"
    }
   },
   "outputs": [],
   "source": [
    "# (c) Inspeccionar la distribución de valores en cada una de las dos muestras\n",
    "table_a <- table(df_a$fuel.type)\n",
    "table_b <- table(df_b$fuel.type)"
   ]
  },
  {
   "cell_type": "code",
   "execution_count": 90,
   "id": "a8c68135",
   "metadata": {
    "vscode": {
     "languageId": "r"
    }
   },
   "outputs": [
    {
     "name": "stdout",
     "output_type": "stream",
     "text": [
      "[1] \"Table A\"\n",
      "\n",
      "diesel    gas \n",
      "    16    106 \n",
      "[1] \"Table B\"\n",
      "\n",
      "diesel    gas \n",
      "    12    110 \n"
     ]
    }
   ],
   "source": [
    "print(\"Table A\")\n",
    "print(table_a)\n",
    "print(\"Table B\")\n",
    "print(table_b)"
   ]
  },
  {
   "attachments": {},
   "cell_type": "markdown",
   "id": "97cefe85",
   "metadata": {},
   "source": [
    "## 4. Load the package corrplot and select the numeric attributes of the car insurance data set.\n"
   ]
  },
  {
   "cell_type": "code",
   "execution_count": 91,
   "id": "7e9f5520",
   "metadata": {
    "scrolled": true,
    "vscode": {
     "languageId": "r"
    }
   },
   "outputs": [
    {
     "name": "stdout",
     "output_type": "stream",
     "text": [
      "package 'corrplot' successfully unpacked and MD5 sums checked\n",
      "\n",
      "The downloaded binary packages are in\n",
      "\tC:\\Users\\aleja\\AppData\\Local\\Temp\\RtmpEJsNan\\downloaded_packages\n"
     ]
    },
    {
     "name": "stderr",
     "output_type": "stream",
     "text": [
      "corrplot 0.92 loaded\n",
      "\n"
     ]
    }
   ],
   "source": [
    "# Intalar la libreria \n",
    "install.packages(\"corrplot\")\n",
    "\n",
    "# Cargar la biblioteca \"corrplot\"\n",
    "library(corrplot)"
   ]
  },
  {
   "cell_type": "code",
   "execution_count": 110,
   "id": "2879fff5",
   "metadata": {
    "vscode": {
     "languageId": "r"
    }
   },
   "outputs": [
    {
     "name": "stdout",
     "output_type": "stream",
     "text": [
      "        symboling normalized.losses              make         fuel.type \n",
      "                0                32                 0                 0 \n",
      "       aspiration      num.of.doors        body.style      drive.wheels \n",
      "                0                 0                 0                 0 \n",
      "  engine.location        wheel.base            length             width \n",
      "                0                 0                 0                 0 \n",
      "           height       curb.weight       engine.type  num.of.cylinders \n",
      "                0                 0                 0                 0 \n",
      "      engine.size       fuel.system              bore            stroke \n",
      "                0                 0                 0                 0 \n",
      "compression.ratio        horsepower          peak.rpm          city.mpg \n",
      "                0                 0                 0                 0 \n",
      "      highway.mpg             price \n",
      "                0                 0 \n"
     ]
    }
   ],
   "source": [
    "# Contar los NA en cada columna del dataframe\n",
    "na_counts <- colSums(is.na(df))\n",
    "\n",
    "# Mostrar los resultados\n",
    "print(na_counts)"
   ]
  },
  {
   "cell_type": "code",
   "execution_count": 114,
   "id": "4f135593",
   "metadata": {
    "vscode": {
     "languageId": "r"
    }
   },
   "outputs": [],
   "source": [
    "# Seleccionar solo las columnas numéricas del dataframe\n",
    "numeric_columns <- df[sapply(df, is.numeric)]\n",
    "\n",
    "# Calcular la media de cada columna numérica (ignorando los NA)\n",
    "column_means <- colMeans(numeric_columns, na.rm = TRUE)\n",
    "\n",
    "# Reemplazar los NA por la media de cada columna numérica\n",
    "dataframe_replaced <- replace(numeric_columns, is.na(numeric_columns), column_means)\n",
    "\n",
    "# Asignar los valores reemplazados al dataframe original\n",
    "df[sapply(df, is.numeric)] <- dataframe_replaced\n"
   ]
  },
  {
   "cell_type": "code",
   "execution_count": 115,
   "id": "c07cc72c",
   "metadata": {
    "vscode": {
     "languageId": "r"
    }
   },
   "outputs": [
    {
     "name": "stdout",
     "output_type": "stream",
     "text": [
      "        symboling normalized.losses              make         fuel.type \n",
      "                0                 0                 0                 0 \n",
      "       aspiration      num.of.doors        body.style      drive.wheels \n",
      "                0                 0                 0                 0 \n",
      "  engine.location        wheel.base            length             width \n",
      "                0                 0                 0                 0 \n",
      "           height       curb.weight       engine.type  num.of.cylinders \n",
      "                0                 0                 0                 0 \n",
      "      engine.size       fuel.system              bore            stroke \n",
      "                0                 0                 0                 0 \n",
      "compression.ratio        horsepower          peak.rpm          city.mpg \n",
      "                0                 0                 0                 0 \n",
      "      highway.mpg             price \n",
      "                0                 0 \n"
     ]
    }
   ],
   "source": [
    "# Contar los NA en cada columna del dataframe\n",
    "na_counts <- colSums(is.na(df))\n",
    "\n",
    "# Mostrar los resultados\n",
    "print(na_counts)"
   ]
  },
  {
   "attachments": {},
   "cell_type": "markdown",
   "id": "ae9844f1",
   "metadata": {},
   "source": [
    "### (a) Using the function cor(), obtain the pearson correlation coefficient between each pair of variables."
   ]
  },
  {
   "cell_type": "code",
   "execution_count": 116,
   "id": "08f6a8da",
   "metadata": {
    "vscode": {
     "languageId": "r"
    }
   },
   "outputs": [],
   "source": [
    "# Calcular el coeficiente de correlación de Pearson entre cada par de variables\n",
    "cor_pearson <- cor(df[sapply(df, is.numeric)])"
   ]
  },
  {
   "cell_type": "code",
   "execution_count": 117,
   "id": "2820ed1e",
   "metadata": {
    "vscode": {
     "languageId": "r"
    }
   },
   "outputs": [
    {
     "data": {
      "image/png": "[encoded data removed]",
      "text/plain": [
       "Plot with title \"\""
      ]
     },
     "metadata": {
      "image/png": {
       "height": 420,
       "width": 420
      }
     },
     "output_type": "display_data"
    }
   ],
   "source": [
    "# Graficar la matriz de correlación\n",
    "corrplot(cor_pearson, method = \"color\", type = \"full\")"
   ]
  },
  {
   "attachments": {},
   "cell_type": "markdown",
   "id": "e869aa36",
   "metadata": {},
   "source": [
    "### (b) Apply the function cor.mtest() to the previous result to calculate the p-values and confidence intervals of the correlation coefficient for each pair of variables.\n"
   ]
  },
  {
   "cell_type": "code",
   "execution_count": 119,
   "id": "94cc9c0d",
   "metadata": {
    "vscode": {
     "languageId": "r"
    }
   },
   "outputs": [],
   "source": [
    "# Calcular los valores p y los intervalos de confianza del coeficiente de correlación\n",
    "cor_test <- cor.mtest(cor_pearson)"
   ]
  },
  {
   "cell_type": "code",
   "execution_count": 122,
   "id": "623bdeb0",
   "metadata": {
    "vscode": {
     "languageId": "r"
    }
   },
   "outputs": [
    {
     "data": {
      "text/html": [
       "<dl>\n",
       "\t<dt>$p</dt>\n",
       "\t\t<dd><table class=\"dataframe\">\n",
       "<caption>A matrix: 16 × 16 of type dbl</caption>\n",
       "<thead>\n",
       "\t<tr><th></th><th scope=col>symboling</th><th scope=col>normalized.losses</th><th scope=col>wheel.base</th><th scope=col>length</th><th scope=col>width</th><th scope=col>height</th><th scope=col>curb.weight</th><th scope=col>engine.size</th><th scope=col>bore</th><th scope=col>stroke</th><th scope=col>compression.ratio</th><th scope=col>horsepower</th><th scope=col>peak.rpm</th><th scope=col>city.mpg</th><th scope=col>highway.mpg</th><th scope=col>price</th></tr>\n",
       "</thead>\n",
       "<tbody>\n",
       "\t<tr><th scope=row>symboling</th><td>0.000000e+00</td><td>0.6629573</td><td>1.125129e-03</td><td>1.354757e-02</td><td>4.289848e-02</td><td>3.345242e-06</td><td>6.023753e-02</td><td>1.732169e-01</td><td>1.503671e-01</td><td>0.8933278</td><td>0.061009426</td><td>5.941446e-01</td><td>0.005022399</td><td>4.225178e-01</td><td>3.007858e-01</td><td>1.695813e-01</td></tr>\n",
       "\t<tr><th scope=row>normalized.losses</th><td>6.629573e-01</td><td>0.0000000</td><td>8.210142e-01</td><td>5.868397e-01</td><td>5.404505e-01</td><td>5.765977e-01</td><td>4.702376e-01</td><td>3.802644e-01</td><td>4.518826e-01</td><td>0.7934985</td><td>0.155213788</td><td>2.337218e-01</td><td>0.541107347</td><td>2.432864e-01</td><td>2.712277e-01</td><td>3.285646e-01</td></tr>\n",
       "\t<tr><th scope=row>wheel.base</th><td>1.125129e-03</td><td>0.8210142</td><td>0.000000e+00</td><td>6.888030e-11</td><td>3.018502e-08</td><td>7.961199e-04</td><td>1.621080e-07</td><td>2.631739e-05</td><td>4.382202e-05</td><td>0.5368498</td><td>0.488653821</td><td>2.218386e-03</td><td>0.012075108</td><td>4.587976e-04</td><td>1.246735e-04</td><td>2.033547e-05</td></tr>\n",
       "\t<tr><th scope=row>length</th><td>1.354757e-02</td><td>0.5868397</td><td>6.888030e-11</td><td>0.000000e+00</td><td>3.757232e-12</td><td>8.484373e-03</td><td>1.529234e-11</td><td>2.234837e-07</td><td>6.986947e-07</td><td>0.5561096</td><td>0.895327881</td><td>7.124825e-05</td><td>0.049596596</td><td>6.202671e-06</td><td>8.656410e-07</td><td>1.145052e-07</td></tr>\n",
       "\t<tr><th scope=row>width</th><td>4.289848e-02</td><td>0.5404505</td><td>3.018502e-08</td><td>3.757232e-12</td><td>0.000000e+00</td><td>3.921857e-02</td><td>1.958481e-14</td><td>3.085172e-09</td><td>3.463101e-07</td><td>0.4542870</td><td>0.979120636</td><td>6.179296e-06</td><td>0.085639740</td><td>8.078058e-07</td><td>8.693305e-08</td><td>2.832919e-09</td></tr>\n",
       "\t<tr><th scope=row>height</th><td>3.345242e-06</td><td>0.5765977</td><td>7.961199e-04</td><td>8.484373e-03</td><td>3.921857e-02</td><td>0.000000e+00</td><td>5.129423e-02</td><td>1.922810e-01</td><td>1.223913e-01</td><td>0.7561217</td><td>0.068020761</td><td>6.115899e-01</td><td>0.002726488</td><td>3.400015e-01</td><td>2.358341e-01</td><td>1.564161e-01</td></tr>\n",
       "\t<tr><th scope=row>curb.weight</th><td>6.023753e-02</td><td>0.4702376</td><td>1.621080e-07</td><td>1.529234e-11</td><td>1.958481e-14</td><td>5.129423e-02</td><td>0.000000e+00</td><td>5.687967e-11</td><td>6.137168e-08</td><td>0.4763474</td><td>0.870434111</td><td>1.134860e-06</td><td>0.100410815</td><td>1.344951e-07</td><td>9.238610e-09</td><td>5.172711e-11</td></tr>\n",
       "\t<tr><th scope=row>engine.size</th><td>1.732169e-01</td><td>0.3802644</td><td>2.631739e-05</td><td>2.234837e-07</td><td>3.085172e-09</td><td>1.922810e-01</td><td>5.687967e-11</td><td>0.000000e+00</td><td>3.044663e-07</td><td>0.4212768</td><td>0.613196935</td><td>1.703900e-08</td><td>0.178081144</td><td>5.180932e-08</td><td>8.914214e-09</td><td>3.608301e-13</td></tr>\n",
       "\t<tr><th scope=row>bore</th><td>1.503671e-01</td><td>0.4518826</td><td>4.382202e-05</td><td>6.986947e-07</td><td>3.463101e-07</td><td>1.223913e-01</td><td>6.137168e-08</td><td>3.044663e-07</td><td>0.000000e+00</td><td>0.8535115</td><td>0.593258126</td><td>2.557561e-06</td><td>0.163570373</td><td>4.146422e-07</td><td>1.406351e-07</td><td>3.105784e-07</td></tr>\n",
       "\t<tr><th scope=row>stroke</th><td>8.933278e-01</td><td>0.7934985</td><td>5.368498e-01</td><td>5.561096e-01</td><td>4.542870e-01</td><td>7.561217e-01</td><td>4.763474e-01</td><td>4.212768e-01</td><td>8.535115e-01</td><td>0.0000000</td><td>0.577791089</td><td>5.980096e-01</td><td>0.646369704</td><td>5.933644e-01</td><td>5.807299e-01</td><td>5.713622e-01</td></tr>\n",
       "\t<tr><th scope=row>compression.ratio</th><td>6.100943e-02</td><td>0.1552138</td><td>4.886538e-01</td><td>8.953279e-01</td><td>9.791206e-01</td><td>6.802076e-02</td><td>8.704341e-01</td><td>6.131969e-01</td><td>5.932581e-01</td><td>0.5777911</td><td>0.000000000</td><td>1.371064e-01</td><td>0.001115622</td><td>1.533496e-01</td><td>2.303334e-01</td><td>5.853459e-01</td></tr>\n",
       "\t<tr><th scope=row>horsepower</th><td>5.941446e-01</td><td>0.2337218</td><td>2.218386e-03</td><td>7.124825e-05</td><td>6.179296e-06</td><td>6.115899e-01</td><td>1.134860e-06</td><td>1.703900e-08</td><td>2.557561e-06</td><td>0.5980096</td><td>0.137106430</td><td>0.000000e+00</td><td>0.794627572</td><td>3.054625e-11</td><td>2.573813e-10</td><td>2.056487e-08</td></tr>\n",
       "\t<tr><th scope=row>peak.rpm</th><td>5.022399e-03</td><td>0.5411073</td><td>1.207511e-02</td><td>4.959660e-02</td><td>8.563974e-02</td><td>2.726488e-03</td><td>1.004108e-01</td><td>1.780811e-01</td><td>1.635704e-01</td><td>0.6463697</td><td>0.001115622</td><td>7.946276e-01</td><td>0.000000000</td><td>7.143256e-01</td><td>5.563829e-01</td><td>2.278832e-01</td></tr>\n",
       "\t<tr><th scope=row>city.mpg</th><td>4.225178e-01</td><td>0.2432864</td><td>4.587976e-04</td><td>6.202671e-06</td><td>8.078058e-07</td><td>3.400015e-01</td><td>1.344951e-07</td><td>5.180932e-08</td><td>4.146422e-07</td><td>0.5933644</td><td>0.153349554</td><td>3.054625e-11</td><td>0.714325629</td><td>0.000000e+00</td><td>2.118603e-17</td><td>1.416888e-08</td></tr>\n",
       "\t<tr><th scope=row>highway.mpg</th><td>3.007858e-01</td><td>0.2712277</td><td>1.246735e-04</td><td>8.656410e-07</td><td>8.693305e-08</td><td>2.358341e-01</td><td>9.238610e-09</td><td>8.914214e-09</td><td>1.406351e-07</td><td>0.5807299</td><td>0.230333400</td><td>2.573813e-10</td><td>0.556382928</td><td>2.118603e-17</td><td>0.000000e+00</td><td>1.496919e-09</td></tr>\n",
       "\t<tr><th scope=row>price</th><td>1.695813e-01</td><td>0.3285646</td><td>2.033547e-05</td><td>1.145052e-07</td><td>2.832919e-09</td><td>1.564161e-01</td><td>5.172711e-11</td><td>3.608301e-13</td><td>3.105784e-07</td><td>0.5713622</td><td>0.585345886</td><td>2.056487e-08</td><td>0.227883205</td><td>1.416888e-08</td><td>1.496919e-09</td><td>0.000000e+00</td></tr>\n",
       "</tbody>\n",
       "</table>\n",
       "</dd>\n",
       "\t<dt>$lowCI</dt>\n",
       "\t\t<dd><table class=\"dataframe\">\n",
       "<caption>A matrix: 16 × 16 of type dbl</caption>\n",
       "<thead>\n",
       "\t<tr><th></th><th scope=col>symboling</th><th scope=col>normalized.losses</th><th scope=col>wheel.base</th><th scope=col>length</th><th scope=col>width</th><th scope=col>height</th><th scope=col>curb.weight</th><th scope=col>engine.size</th><th scope=col>bore</th><th scope=col>stroke</th><th scope=col>compression.ratio</th><th scope=col>horsepower</th><th scope=col>peak.rpm</th><th scope=col>city.mpg</th><th scope=col>highway.mpg</th><th scope=col>price</th></tr>\n",
       "</thead>\n",
       "<tbody>\n",
       "\t<tr><th scope=row>symboling</th><td> 1.0000000</td><td>-0.4010347</td><td>-0.9028633</td><td>-0.8455585</td><td>-0.80343042</td><td>-0.962395947</td><td>-0.787881269</td><td>-0.7250997</td><td>-0.7351381</td><td>-0.5227262</td><td>-0.78726278</td><td>-0.5972212</td><td> 0.2510151</td><td>-0.3135942</td><td>-0.2545211</td><td>-0.7266452</td></tr>\n",
       "\t<tr><th scope=row>normalized.losses</th><td>-0.4010347</td><td> 1.0000000</td><td>-0.4478625</td><td>-0.3760763</td><td>-0.35981543</td><td>-0.601693744</td><td>-0.333280322</td><td>-0.2947527</td><td>-0.3258869</td><td>-0.4400930</td><td>-0.73294075</td><td>-0.2134825</td><td>-0.3600521</td><td>-0.6981467</td><td>-0.6885216</td><td>-0.2694219</td></tr>\n",
       "\t<tr><th scope=row>wheel.base</th><td>-0.9028633</td><td>-0.4478625</td><td> 1.0000000</td><td> 0.9353380</td><td> 0.84854476</td><td> 0.407011247</td><td> 0.808997308</td><td> 0.6198194</td><td> 0.5932891</td><td>-0.3585146</td><td>-0.34049454</td><td> 0.3243598</td><td>-0.8490555</td><td>-0.9168350</td><td>-0.9331380</td><td> 0.6326141</td></tr>\n",
       "\t<tr><th scope=row>length</th><td>-0.8455585</td><td>-0.3760763</td><td> 0.9353380</td><td> 1.0000000</td><td> 0.95713209</td><td> 0.200132333</td><td> 0.947714774</td><td> 0.8003861</td><td> 0.7667053</td><td>-0.3654053</td><td>-0.46822700</td><td> 0.5664114</td><td>-0.7969983</td><td>-0.9586124</td><td>-0.9694410</td><td> 0.8179177</td></tr>\n",
       "\t<tr><th scope=row>width</th><td>-0.8034304</td><td>-0.3598154</td><td> 0.8485448</td><td> 0.9571321</td><td> 1.00000000</td><td> 0.031904485</td><td> 0.979676141</td><td> 0.8897290</td><td> 0.7880359</td><td>-0.3268676</td><td>-0.50105721</td><td> 0.6866625</td><td>-0.7697252</td><td>-0.9697612</td><td>-0.9783937</td><td> 0.8910353</td></tr>\n",
       "\t<tr><th scope=row>height</th><td>-0.9623959</td><td>-0.6016937</td><td> 0.4070112</td><td> 0.2001323</td><td> 0.03190449</td><td> 1.000000000</td><td>-0.001060533</td><td>-0.1831022</td><td>-0.1166664</td><td>-0.5567737</td><td>-0.03702261</td><td>-0.3844070</td><td>-0.8861856</td><td>-0.6666176</td><td>-0.7008039</td><td>-0.1521141</td></tr>\n",
       "\t<tr><th scope=row>curb.weight</th><td>-0.7878813</td><td>-0.3332803</td><td> 0.8089973</td><td> 0.9477148</td><td> 0.97967614</td><td>-0.001060533</td><td> 1.000000000</td><td> 0.9370601</td><td> 0.8329240</td><td>-0.3356956</td><td>-0.52844147</td><td> 0.7507827</td><td>-0.7607143</td><td>-0.9769348</td><td>-0.9845111</td><td> 0.9378974</td></tr>\n",
       "\t<tr><th scope=row>engine.size</th><td>-0.7250997</td><td>-0.2947527</td><td> 0.6198194</td><td> 0.8003861</td><td> 0.88972901</td><td>-0.183102152</td><td> 0.937060093</td><td> 1.0000000</td><td> 0.7917411</td><td>-0.3130612</td><td>-0.59239369</td><td> 0.8600935</td><td>-0.7230594</td><td>-0.9799998</td><td>-0.9845926</td><td> 0.9692499</td></tr>\n",
       "\t<tr><th scope=row>bore</th><td>-0.7351381</td><td>-0.3258869</td><td> 0.5932891</td><td> 0.7667053</td><td> 0.78803589</td><td>-0.116666431</td><td> 0.832923963</td><td> 0.7917411</td><td> 1.0000000</td><td>-0.4568715</td><td>-0.59744651</td><td> 0.7217694</td><td>-0.7292413</td><td>-0.9726722</td><td>-0.9767799</td><td> 0.7911733</td></tr>\n",
       "\t<tr><th scope=row>stroke</th><td>-0.5227262</td><td>-0.4400930</td><td>-0.3585146</td><td>-0.3654053</td><td>-0.32686755</td><td>-0.556773725</td><td>-0.335695569</td><td>-0.3130612</td><td>-0.4568715</td><td> 1.0000000</td><td>-0.37297343</td><td>-0.3798637</td><td>-0.5840485</td><td>-0.5974195</td><td>-0.6006380</td><td>-0.3707494</td></tr>\n",
       "\t<tr><th scope=row>compression.ratio</th><td>-0.7872628</td><td>-0.7329407</td><td>-0.3404945</td><td>-0.4682270</td><td>-0.50105721</td><td>-0.037022608</td><td>-0.528441472</td><td>-0.5923937</td><td>-0.5974465</td><td>-0.3729734</td><td> 1.00000000</td><td>-0.7413654</td><td>-0.9030081</td><td>-0.1491995</td><td>-0.2111702</td><td>-0.5994605</td></tr>\n",
       "\t<tr><th scope=row>horsepower</th><td>-0.5972212</td><td>-0.2134825</td><td> 0.3243598</td><td> 0.5664114</td><td> 0.68666252</td><td>-0.384406974</td><td> 0.750782682</td><td> 0.8600935</td><td> 0.7217694</td><td>-0.3798637</td><td>-0.74136538</td><td> 1.0000000</td><td>-0.5472502</td><td>-0.9932742</td><td>-0.9908340</td><td> 0.8563929</td></tr>\n",
       "\t<tr><th scope=row>peak.rpm</th><td> 0.2510151</td><td>-0.3600521</td><td>-0.8490555</td><td>-0.7969983</td><td>-0.76972524</td><td>-0.886185589</td><td>-0.760714324</td><td>-0.7230594</td><td>-0.7292413</td><td>-0.5840485</td><td>-0.90300810</td><td>-0.5472502</td><td> 1.0000000</td><td>-0.4168905</td><td>-0.3655019</td><td>-0.7036855</td></tr>\n",
       "\t<tr><th scope=row>city.mpg</th><td>-0.3135942</td><td>-0.6981467</td><td>-0.9168350</td><td>-0.9586124</td><td>-0.96976118</td><td>-0.666617568</td><td>-0.976934833</td><td>-0.9799998</td><td>-0.9726722</td><td>-0.5974195</td><td>-0.14919947</td><td>-0.9932742</td><td>-0.4168905</td><td> 1.0000000</td><td> 0.9923187</td><td>-0.9835010</td></tr>\n",
       "\t<tr><th scope=row>highway.mpg</th><td>-0.2545211</td><td>-0.6885216</td><td>-0.9331380</td><td>-0.9694410</td><td>-0.97839372</td><td>-0.700803912</td><td>-0.984511146</td><td>-0.9845926</td><td>-0.9767799</td><td>-0.6006380</td><td>-0.21117021</td><td>-0.9908340</td><td>-0.3655019</td><td> 0.9923187</td><td> 1.0000000</td><td>-0.9881468</td></tr>\n",
       "\t<tr><th scope=row>price</th><td>-0.7266452</td><td>-0.2694219</td><td> 0.6326141</td><td> 0.8179177</td><td> 0.89103532</td><td>-0.152114104</td><td> 0.937897434</td><td> 0.9692499</td><td> 0.7911733</td><td>-0.3707494</td><td>-0.59946052</td><td> 0.8563929</td><td>-0.7036855</td><td>-0.9835010</td><td>-0.9881468</td><td> 1.0000000</td></tr>\n",
       "</tbody>\n",
       "</table>\n",
       "</dd>\n",
       "\t<dt>$uppCI</dt>\n",
       "\t\t<dd><table class=\"dataframe\">\n",
       "<caption>A matrix: 16 × 16 of type dbl</caption>\n",
       "<thead>\n",
       "\t<tr><th></th><th scope=col>symboling</th><th scope=col>normalized.losses</th><th scope=col>wheel.base</th><th scope=col>length</th><th scope=col>width</th><th scope=col>height</th><th scope=col>curb.weight</th><th scope=col>engine.size</th><th scope=col>bore</th><th scope=col>stroke</th><th scope=col>compression.ratio</th><th scope=col>horsepower</th><th scope=col>peak.rpm</th><th scope=col>city.mpg</th><th scope=col>highway.mpg</th><th scope=col>price</th></tr>\n",
       "</thead>\n",
       "<tbody>\n",
       "\t<tr><th scope=row>symboling</th><td> 1.00000000</td><td>0.5798993</td><td>-0.3802102</td><td>-0.151981853</td><td>-0.02101922</td><td>-0.7114986</td><td> 0.02136896</td><td> 0.1672893</td><td> 0.1463178</td><td>0.4676894</td><td> 0.02299693</td><td> 0.3785584</td><td> 0.872555296</td><td> 0.6426444</td><td> 0.6788356</td><td> 0.1641123</td></tr>\n",
       "\t<tr><th scope=row>normalized.losses</th><td> 0.57989935</td><td>1.0000000</td><td> 0.5407176</td><td> 0.599079878</td><td> 0.61100189</td><td> 0.3725618</td><td> 0.62955489</td><td> 0.6546706</td><td> 0.6345358</td><td>0.5475295</td><td> 0.15097706</td><td> 0.7015646</td><td> 0.610831477</td><td> 0.2198672</td><td> 0.2374341</td><td> 0.6701151</td></tr>\n",
       "\t<tr><th scope=row>wheel.base</th><td>-0.38021020</td><td>0.5407176</td><td> 1.0000000</td><td> 0.992432494</td><td> 0.98154412</td><td> 0.9085610</td><td> 0.97627935</td><td> 0.9480250</td><td> 0.9436006</td><td>0.6119370</td><td> 0.62461720</td><td> 0.8903691</td><td>-0.164070032</td><td>-0.4475319</td><td>-0.5334407</td><td> 0.9501143</td></tr>\n",
       "\t<tr><th scope=row>length</th><td>-0.15198185</td><td>0.5990799</td><td> 0.9924325</td><td> 1.000000000</td><td> 0.99503249</td><td> 0.8591430</td><td> 0.99391533</td><td> 0.9751061</td><td> 0.9704215</td><td>0.6069526</td><td> 0.52222581</td><td> 0.9389868</td><td>-0.003136994</td><td>-0.6865037</td><td>-0.7597954</td><td> 0.9774844</td></tr>\n",
       "\t<tr><th scope=row>width</th><td>-0.02101922</td><td>0.6110019</td><td> 0.9815441</td><td> 0.995032490</td><td> 1.00000000</td><td> 0.8072583</td><td> 0.99766862</td><td> 0.9868206</td><td> 0.9734063</td><td>0.6338797</td><td> 0.49031554</td><td> 0.9586367</td><td> 0.067436723</td><td>-0.7620466</td><td>-0.8247000</td><td> 0.9869846</td></tr>\n",
       "\t<tr><th scope=row>height</th><td>-0.71149862</td><td>0.3725618</td><td> 0.9085610</td><td> 0.859142988</td><td> 0.80725833</td><td> 1.0000000</td><td> 0.79546198</td><td> 0.7172712</td><td> 0.7487009</td><td>0.4293073</td><td> 0.78186578</td><td> 0.5927998</td><td>-0.306500933</td><td> 0.2752744</td><td> 0.2149104</td><td> 0.7324017</td></tr>\n",
       "\t<tr><th scope=row>curb.weight</th><td> 0.02136896</td><td>0.6295549</td><td> 0.9762794</td><td> 0.993915330</td><td> 0.99766862</td><td> 0.7954620</td><td> 1.00000000</td><td> 0.9926398</td><td> 0.9794884</td><td>0.6279104</td><td> 0.46149729</td><td> 0.9681521</td><td> 0.089047546</td><td>-0.8138399</td><td>-0.8715067</td><td> 0.9927405</td></tr>\n",
       "\t<tr><th scope=row>engine.size</th><td> 0.16728932</td><td>0.6546706</td><td> 0.9480250</td><td> 0.975106142</td><td> 0.98682056</td><td> 0.7172712</td><td> 0.99263982</td><td> 1.0000000</td><td> 0.9739184</td><td>0.6429913</td><td> 0.38494030</td><td> 0.9830444</td><td> 0.171455131</td><td>-0.8367885</td><td>-0.8721444</td><td> 0.9964561</td></tr>\n",
       "\t<tr><th scope=row>bore</th><td> 0.14631783</td><td>0.6345358</td><td> 0.9436006</td><td> 0.970421478</td><td> 0.97340627</td><td> 0.7487009</td><td> 0.97948841</td><td> 0.9739184</td><td> 1.0000000</td><td>0.5326532</td><td> 0.37825828</td><td> 0.9639230</td><td> 0.158733657</td><td>-0.7827484</td><td>-0.8126931</td><td> 0.9738400</td></tr>\n",
       "\t<tr><th scope=row>stroke</th><td> 0.46768944</td><td>0.5475295</td><td> 0.6119370</td><td> 0.606952639</td><td> 0.63387971</td><td> 0.4293073</td><td> 0.62791042</td><td> 0.6429913</td><td> 0.5326532</td><td>1.0000000</td><td> 0.60138869</td><td> 0.5962396</td><td> 0.395756347</td><td> 0.3782943</td><td> 0.3739847</td><td> 0.6030336</td></tr>\n",
       "\t<tr><th scope=row>compression.ratio</th><td> 0.02299693</td><td>0.1509771</td><td> 0.6246172</td><td> 0.522225815</td><td> 0.49031554</td><td> 0.7818658</td><td> 0.46149729</td><td> 0.3849403</td><td> 0.3782583</td><td>0.6013887</td><td> 1.00000000</td><td> 0.1328974</td><td>-0.380880741</td><td> 0.7337812</td><td> 0.7027922</td><td> 0.3755662</td></tr>\n",
       "\t<tr><th scope=row>horsepower</th><td> 0.37855842</td><td>0.7015646</td><td> 0.8903691</td><td> 0.938986836</td><td> 0.95863674</td><td> 0.5927998</td><td> 0.96815206</td><td> 0.9830444</td><td> 0.9639230</td><td>0.5962396</td><td> 0.13289739</td><td> 1.0000000</td><td> 0.440414532</td><td>-0.9423464</td><td>-0.9221505</td><td> 0.9825655</td></tr>\n",
       "\t<tr><th scope=row>peak.rpm</th><td> 0.87255530</td><td>0.6108315</td><td>-0.1640700</td><td>-0.003136994</td><td> 0.06743672</td><td>-0.3065009</td><td> 0.08904755</td><td> 0.1714551</td><td> 0.1587337</td><td>0.3957563</td><td>-0.38088074</td><td> 0.4404145</td><td> 1.000000000</td><td> 0.5671219</td><td> 0.6068822</td><td> 0.2094810</td></tr>\n",
       "\t<tr><th scope=row>city.mpg</th><td> 0.64264443</td><td>0.2198672</td><td>-0.4475319</td><td>-0.686503651</td><td>-0.76204657</td><td> 0.2752744</td><td>-0.81383993</td><td>-0.8367885</td><td>-0.7827484</td><td>0.3782943</td><td> 0.73378125</td><td>-0.9423464</td><td> 0.567121909</td><td> 1.0000000</td><td> 0.9991238</td><td>-0.8636328</td></tr>\n",
       "\t<tr><th scope=row>highway.mpg</th><td> 0.67883559</td><td>0.2374341</td><td>-0.5334407</td><td>-0.759795410</td><td>-0.82469997</td><td> 0.2149104</td><td>-0.87150671</td><td>-0.8721444</td><td>-0.8126931</td><td>0.3739847</td><td> 0.70279220</td><td>-0.9221505</td><td> 0.606882187</td><td> 0.9991238</td><td> 1.0000000</td><td>-0.9003357</td></tr>\n",
       "\t<tr><th scope=row>price</th><td> 0.16411226</td><td>0.6701151</td><td> 0.9501143</td><td> 0.977484417</td><td> 0.98698461</td><td> 0.7324017</td><td> 0.99274051</td><td> 0.9964561</td><td> 0.9738400</td><td>0.6030336</td><td> 0.37556624</td><td> 0.9825655</td><td> 0.209481009</td><td>-0.8636328</td><td>-0.9003357</td><td> 1.0000000</td></tr>\n",
       "</tbody>\n",
       "</table>\n",
       "</dd>\n",
       "</dl>\n"
      ],
      "text/latex": [
       "\\begin{description}\n",
       "\\item[\\$p] A matrix: 16 × 16 of type dbl\n",
       "\\begin{tabular}{r|llllllllllllllll}\n",
       "  & symboling & normalized.losses & wheel.base & length & width & height & curb.weight & engine.size & bore & stroke & compression.ratio & horsepower & peak.rpm & city.mpg & highway.mpg & price\\\\\n",
       "\\hline\n",
       "\tsymboling & 0.000000e+00 & 0.6629573 & 1.125129e-03 & 1.354757e-02 & 4.289848e-02 & 3.345242e-06 & 6.023753e-02 & 1.732169e-01 & 1.503671e-01 & 0.8933278 & 0.061009426 & 5.941446e-01 & 0.005022399 & 4.225178e-01 & 3.007858e-01 & 1.695813e-01\\\\\n",
       "\tnormalized.losses & 6.629573e-01 & 0.0000000 & 8.210142e-01 & 5.868397e-01 & 5.404505e-01 & 5.765977e-01 & 4.702376e-01 & 3.802644e-01 & 4.518826e-01 & 0.7934985 & 0.155213788 & 2.337218e-01 & 0.541107347 & 2.432864e-01 & 2.712277e-01 & 3.285646e-01\\\\\n",
       "\twheel.base & 1.125129e-03 & 0.8210142 & 0.000000e+00 & 6.888030e-11 & 3.018502e-08 & 7.961199e-04 & 1.621080e-07 & 2.631739e-05 & 4.382202e-05 & 0.5368498 & 0.488653821 & 2.218386e-03 & 0.012075108 & 4.587976e-04 & 1.246735e-04 & 2.033547e-05\\\\\n",
       "\tlength & 1.354757e-02 & 0.5868397 & 6.888030e-11 & 0.000000e+00 & 3.757232e-12 & 8.484373e-03 & 1.529234e-11 & 2.234837e-07 & 6.986947e-07 & 0.5561096 & 0.895327881 & 7.124825e-05 & 0.049596596 & 6.202671e-06 & 8.656410e-07 & 1.145052e-07\\\\\n",
       "\twidth & 4.289848e-02 & 0.5404505 & 3.018502e-08 & 3.757232e-12 & 0.000000e+00 & 3.921857e-02 & 1.958481e-14 & 3.085172e-09 & 3.463101e-07 & 0.4542870 & 0.979120636 & 6.179296e-06 & 0.085639740 & 8.078058e-07 & 8.693305e-08 & 2.832919e-09\\\\\n",
       "\theight & 3.345242e-06 & 0.5765977 & 7.961199e-04 & 8.484373e-03 & 3.921857e-02 & 0.000000e+00 & 5.129423e-02 & 1.922810e-01 & 1.223913e-01 & 0.7561217 & 0.068020761 & 6.115899e-01 & 0.002726488 & 3.400015e-01 & 2.358341e-01 & 1.564161e-01\\\\\n",
       "\tcurb.weight & 6.023753e-02 & 0.4702376 & 1.621080e-07 & 1.529234e-11 & 1.958481e-14 & 5.129423e-02 & 0.000000e+00 & 5.687967e-11 & 6.137168e-08 & 0.4763474 & 0.870434111 & 1.134860e-06 & 0.100410815 & 1.344951e-07 & 9.238610e-09 & 5.172711e-11\\\\\n",
       "\tengine.size & 1.732169e-01 & 0.3802644 & 2.631739e-05 & 2.234837e-07 & 3.085172e-09 & 1.922810e-01 & 5.687967e-11 & 0.000000e+00 & 3.044663e-07 & 0.4212768 & 0.613196935 & 1.703900e-08 & 0.178081144 & 5.180932e-08 & 8.914214e-09 & 3.608301e-13\\\\\n",
       "\tbore & 1.503671e-01 & 0.4518826 & 4.382202e-05 & 6.986947e-07 & 3.463101e-07 & 1.223913e-01 & 6.137168e-08 & 3.044663e-07 & 0.000000e+00 & 0.8535115 & 0.593258126 & 2.557561e-06 & 0.163570373 & 4.146422e-07 & 1.406351e-07 & 3.105784e-07\\\\\n",
       "\tstroke & 8.933278e-01 & 0.7934985 & 5.368498e-01 & 5.561096e-01 & 4.542870e-01 & 7.561217e-01 & 4.763474e-01 & 4.212768e-01 & 8.535115e-01 & 0.0000000 & 0.577791089 & 5.980096e-01 & 0.646369704 & 5.933644e-01 & 5.807299e-01 & 5.713622e-01\\\\\n",
       "\tcompression.ratio & 6.100943e-02 & 0.1552138 & 4.886538e-01 & 8.953279e-01 & 9.791206e-01 & 6.802076e-02 & 8.704341e-01 & 6.131969e-01 & 5.932581e-01 & 0.5777911 & 0.000000000 & 1.371064e-01 & 0.001115622 & 1.533496e-01 & 2.303334e-01 & 5.853459e-01\\\\\n",
       "\thorsepower & 5.941446e-01 & 0.2337218 & 2.218386e-03 & 7.124825e-05 & 6.179296e-06 & 6.115899e-01 & 1.134860e-06 & 1.703900e-08 & 2.557561e-06 & 0.5980096 & 0.137106430 & 0.000000e+00 & 0.794627572 & 3.054625e-11 & 2.573813e-10 & 2.056487e-08\\\\\n",
       "\tpeak.rpm & 5.022399e-03 & 0.5411073 & 1.207511e-02 & 4.959660e-02 & 8.563974e-02 & 2.726488e-03 & 1.004108e-01 & 1.780811e-01 & 1.635704e-01 & 0.6463697 & 0.001115622 & 7.946276e-01 & 0.000000000 & 7.143256e-01 & 5.563829e-01 & 2.278832e-01\\\\\n",
       "\tcity.mpg & 4.225178e-01 & 0.2432864 & 4.587976e-04 & 6.202671e-06 & 8.078058e-07 & 3.400015e-01 & 1.344951e-07 & 5.180932e-08 & 4.146422e-07 & 0.5933644 & 0.153349554 & 3.054625e-11 & 0.714325629 & 0.000000e+00 & 2.118603e-17 & 1.416888e-08\\\\\n",
       "\thighway.mpg & 3.007858e-01 & 0.2712277 & 1.246735e-04 & 8.656410e-07 & 8.693305e-08 & 2.358341e-01 & 9.238610e-09 & 8.914214e-09 & 1.406351e-07 & 0.5807299 & 0.230333400 & 2.573813e-10 & 0.556382928 & 2.118603e-17 & 0.000000e+00 & 1.496919e-09\\\\\n",
       "\tprice & 1.695813e-01 & 0.3285646 & 2.033547e-05 & 1.145052e-07 & 2.832919e-09 & 1.564161e-01 & 5.172711e-11 & 3.608301e-13 & 3.105784e-07 & 0.5713622 & 0.585345886 & 2.056487e-08 & 0.227883205 & 1.416888e-08 & 1.496919e-09 & 0.000000e+00\\\\\n",
       "\\end{tabular}\n",
       "\n",
       "\\item[\\$lowCI] A matrix: 16 × 16 of type dbl\n",
       "\\begin{tabular}{r|llllllllllllllll}\n",
       "  & symboling & normalized.losses & wheel.base & length & width & height & curb.weight & engine.size & bore & stroke & compression.ratio & horsepower & peak.rpm & city.mpg & highway.mpg & price\\\\\n",
       "\\hline\n",
       "\tsymboling &  1.0000000 & -0.4010347 & -0.9028633 & -0.8455585 & -0.80343042 & -0.962395947 & -0.787881269 & -0.7250997 & -0.7351381 & -0.5227262 & -0.78726278 & -0.5972212 &  0.2510151 & -0.3135942 & -0.2545211 & -0.7266452\\\\\n",
       "\tnormalized.losses & -0.4010347 &  1.0000000 & -0.4478625 & -0.3760763 & -0.35981543 & -0.601693744 & -0.333280322 & -0.2947527 & -0.3258869 & -0.4400930 & -0.73294075 & -0.2134825 & -0.3600521 & -0.6981467 & -0.6885216 & -0.2694219\\\\\n",
       "\twheel.base & -0.9028633 & -0.4478625 &  1.0000000 &  0.9353380 &  0.84854476 &  0.407011247 &  0.808997308 &  0.6198194 &  0.5932891 & -0.3585146 & -0.34049454 &  0.3243598 & -0.8490555 & -0.9168350 & -0.9331380 &  0.6326141\\\\\n",
       "\tlength & -0.8455585 & -0.3760763 &  0.9353380 &  1.0000000 &  0.95713209 &  0.200132333 &  0.947714774 &  0.8003861 &  0.7667053 & -0.3654053 & -0.46822700 &  0.5664114 & -0.7969983 & -0.9586124 & -0.9694410 &  0.8179177\\\\\n",
       "\twidth & -0.8034304 & -0.3598154 &  0.8485448 &  0.9571321 &  1.00000000 &  0.031904485 &  0.979676141 &  0.8897290 &  0.7880359 & -0.3268676 & -0.50105721 &  0.6866625 & -0.7697252 & -0.9697612 & -0.9783937 &  0.8910353\\\\\n",
       "\theight & -0.9623959 & -0.6016937 &  0.4070112 &  0.2001323 &  0.03190449 &  1.000000000 & -0.001060533 & -0.1831022 & -0.1166664 & -0.5567737 & -0.03702261 & -0.3844070 & -0.8861856 & -0.6666176 & -0.7008039 & -0.1521141\\\\\n",
       "\tcurb.weight & -0.7878813 & -0.3332803 &  0.8089973 &  0.9477148 &  0.97967614 & -0.001060533 &  1.000000000 &  0.9370601 &  0.8329240 & -0.3356956 & -0.52844147 &  0.7507827 & -0.7607143 & -0.9769348 & -0.9845111 &  0.9378974\\\\\n",
       "\tengine.size & -0.7250997 & -0.2947527 &  0.6198194 &  0.8003861 &  0.88972901 & -0.183102152 &  0.937060093 &  1.0000000 &  0.7917411 & -0.3130612 & -0.59239369 &  0.8600935 & -0.7230594 & -0.9799998 & -0.9845926 &  0.9692499\\\\\n",
       "\tbore & -0.7351381 & -0.3258869 &  0.5932891 &  0.7667053 &  0.78803589 & -0.116666431 &  0.832923963 &  0.7917411 &  1.0000000 & -0.4568715 & -0.59744651 &  0.7217694 & -0.7292413 & -0.9726722 & -0.9767799 &  0.7911733\\\\\n",
       "\tstroke & -0.5227262 & -0.4400930 & -0.3585146 & -0.3654053 & -0.32686755 & -0.556773725 & -0.335695569 & -0.3130612 & -0.4568715 &  1.0000000 & -0.37297343 & -0.3798637 & -0.5840485 & -0.5974195 & -0.6006380 & -0.3707494\\\\\n",
       "\tcompression.ratio & -0.7872628 & -0.7329407 & -0.3404945 & -0.4682270 & -0.50105721 & -0.037022608 & -0.528441472 & -0.5923937 & -0.5974465 & -0.3729734 &  1.00000000 & -0.7413654 & -0.9030081 & -0.1491995 & -0.2111702 & -0.5994605\\\\\n",
       "\thorsepower & -0.5972212 & -0.2134825 &  0.3243598 &  0.5664114 &  0.68666252 & -0.384406974 &  0.750782682 &  0.8600935 &  0.7217694 & -0.3798637 & -0.74136538 &  1.0000000 & -0.5472502 & -0.9932742 & -0.9908340 &  0.8563929\\\\\n",
       "\tpeak.rpm &  0.2510151 & -0.3600521 & -0.8490555 & -0.7969983 & -0.76972524 & -0.886185589 & -0.760714324 & -0.7230594 & -0.7292413 & -0.5840485 & -0.90300810 & -0.5472502 &  1.0000000 & -0.4168905 & -0.3655019 & -0.7036855\\\\\n",
       "\tcity.mpg & -0.3135942 & -0.6981467 & -0.9168350 & -0.9586124 & -0.96976118 & -0.666617568 & -0.976934833 & -0.9799998 & -0.9726722 & -0.5974195 & -0.14919947 & -0.9932742 & -0.4168905 &  1.0000000 &  0.9923187 & -0.9835010\\\\\n",
       "\thighway.mpg & -0.2545211 & -0.6885216 & -0.9331380 & -0.9694410 & -0.97839372 & -0.700803912 & -0.984511146 & -0.9845926 & -0.9767799 & -0.6006380 & -0.21117021 & -0.9908340 & -0.3655019 &  0.9923187 &  1.0000000 & -0.9881468\\\\\n",
       "\tprice & -0.7266452 & -0.2694219 &  0.6326141 &  0.8179177 &  0.89103532 & -0.152114104 &  0.937897434 &  0.9692499 &  0.7911733 & -0.3707494 & -0.59946052 &  0.8563929 & -0.7036855 & -0.9835010 & -0.9881468 &  1.0000000\\\\\n",
       "\\end{tabular}\n",
       "\n",
       "\\item[\\$uppCI] A matrix: 16 × 16 of type dbl\n",
       "\\begin{tabular}{r|llllllllllllllll}\n",
       "  & symboling & normalized.losses & wheel.base & length & width & height & curb.weight & engine.size & bore & stroke & compression.ratio & horsepower & peak.rpm & city.mpg & highway.mpg & price\\\\\n",
       "\\hline\n",
       "\tsymboling &  1.00000000 & 0.5798993 & -0.3802102 & -0.151981853 & -0.02101922 & -0.7114986 &  0.02136896 &  0.1672893 &  0.1463178 & 0.4676894 &  0.02299693 &  0.3785584 &  0.872555296 &  0.6426444 &  0.6788356 &  0.1641123\\\\\n",
       "\tnormalized.losses &  0.57989935 & 1.0000000 &  0.5407176 &  0.599079878 &  0.61100189 &  0.3725618 &  0.62955489 &  0.6546706 &  0.6345358 & 0.5475295 &  0.15097706 &  0.7015646 &  0.610831477 &  0.2198672 &  0.2374341 &  0.6701151\\\\\n",
       "\twheel.base & -0.38021020 & 0.5407176 &  1.0000000 &  0.992432494 &  0.98154412 &  0.9085610 &  0.97627935 &  0.9480250 &  0.9436006 & 0.6119370 &  0.62461720 &  0.8903691 & -0.164070032 & -0.4475319 & -0.5334407 &  0.9501143\\\\\n",
       "\tlength & -0.15198185 & 0.5990799 &  0.9924325 &  1.000000000 &  0.99503249 &  0.8591430 &  0.99391533 &  0.9751061 &  0.9704215 & 0.6069526 &  0.52222581 &  0.9389868 & -0.003136994 & -0.6865037 & -0.7597954 &  0.9774844\\\\\n",
       "\twidth & -0.02101922 & 0.6110019 &  0.9815441 &  0.995032490 &  1.00000000 &  0.8072583 &  0.99766862 &  0.9868206 &  0.9734063 & 0.6338797 &  0.49031554 &  0.9586367 &  0.067436723 & -0.7620466 & -0.8247000 &  0.9869846\\\\\n",
       "\theight & -0.71149862 & 0.3725618 &  0.9085610 &  0.859142988 &  0.80725833 &  1.0000000 &  0.79546198 &  0.7172712 &  0.7487009 & 0.4293073 &  0.78186578 &  0.5927998 & -0.306500933 &  0.2752744 &  0.2149104 &  0.7324017\\\\\n",
       "\tcurb.weight &  0.02136896 & 0.6295549 &  0.9762794 &  0.993915330 &  0.99766862 &  0.7954620 &  1.00000000 &  0.9926398 &  0.9794884 & 0.6279104 &  0.46149729 &  0.9681521 &  0.089047546 & -0.8138399 & -0.8715067 &  0.9927405\\\\\n",
       "\tengine.size &  0.16728932 & 0.6546706 &  0.9480250 &  0.975106142 &  0.98682056 &  0.7172712 &  0.99263982 &  1.0000000 &  0.9739184 & 0.6429913 &  0.38494030 &  0.9830444 &  0.171455131 & -0.8367885 & -0.8721444 &  0.9964561\\\\\n",
       "\tbore &  0.14631783 & 0.6345358 &  0.9436006 &  0.970421478 &  0.97340627 &  0.7487009 &  0.97948841 &  0.9739184 &  1.0000000 & 0.5326532 &  0.37825828 &  0.9639230 &  0.158733657 & -0.7827484 & -0.8126931 &  0.9738400\\\\\n",
       "\tstroke &  0.46768944 & 0.5475295 &  0.6119370 &  0.606952639 &  0.63387971 &  0.4293073 &  0.62791042 &  0.6429913 &  0.5326532 & 1.0000000 &  0.60138869 &  0.5962396 &  0.395756347 &  0.3782943 &  0.3739847 &  0.6030336\\\\\n",
       "\tcompression.ratio &  0.02299693 & 0.1509771 &  0.6246172 &  0.522225815 &  0.49031554 &  0.7818658 &  0.46149729 &  0.3849403 &  0.3782583 & 0.6013887 &  1.00000000 &  0.1328974 & -0.380880741 &  0.7337812 &  0.7027922 &  0.3755662\\\\\n",
       "\thorsepower &  0.37855842 & 0.7015646 &  0.8903691 &  0.938986836 &  0.95863674 &  0.5927998 &  0.96815206 &  0.9830444 &  0.9639230 & 0.5962396 &  0.13289739 &  1.0000000 &  0.440414532 & -0.9423464 & -0.9221505 &  0.9825655\\\\\n",
       "\tpeak.rpm &  0.87255530 & 0.6108315 & -0.1640700 & -0.003136994 &  0.06743672 & -0.3065009 &  0.08904755 &  0.1714551 &  0.1587337 & 0.3957563 & -0.38088074 &  0.4404145 &  1.000000000 &  0.5671219 &  0.6068822 &  0.2094810\\\\\n",
       "\tcity.mpg &  0.64264443 & 0.2198672 & -0.4475319 & -0.686503651 & -0.76204657 &  0.2752744 & -0.81383993 & -0.8367885 & -0.7827484 & 0.3782943 &  0.73378125 & -0.9423464 &  0.567121909 &  1.0000000 &  0.9991238 & -0.8636328\\\\\n",
       "\thighway.mpg &  0.67883559 & 0.2374341 & -0.5334407 & -0.759795410 & -0.82469997 &  0.2149104 & -0.87150671 & -0.8721444 & -0.8126931 & 0.3739847 &  0.70279220 & -0.9221505 &  0.606882187 &  0.9991238 &  1.0000000 & -0.9003357\\\\\n",
       "\tprice &  0.16411226 & 0.6701151 &  0.9501143 &  0.977484417 &  0.98698461 &  0.7324017 &  0.99274051 &  0.9964561 &  0.9738400 & 0.6030336 &  0.37556624 &  0.9825655 &  0.209481009 & -0.8636328 & -0.9003357 &  1.0000000\\\\\n",
       "\\end{tabular}\n",
       "\n",
       "\\end{description}\n"
      ],
      "text/markdown": [
       "$p\n",
       ":   \n",
       "A matrix: 16 × 16 of type dbl\n",
       "\n",
       "| <!--/--> | symboling | normalized.losses | wheel.base | length | width | height | curb.weight | engine.size | bore | stroke | compression.ratio | horsepower | peak.rpm | city.mpg | highway.mpg | price |\n",
       "|---|---|---|---|---|---|---|---|---|---|---|---|---|---|---|---|---|\n",
       "| symboling | 0.000000e+00 | 0.6629573 | 1.125129e-03 | 1.354757e-02 | 4.289848e-02 | 3.345242e-06 | 6.023753e-02 | 1.732169e-01 | 1.503671e-01 | 0.8933278 | 0.061009426 | 5.941446e-01 | 0.005022399 | 4.225178e-01 | 3.007858e-01 | 1.695813e-01 |\n",
       "| normalized.losses | 6.629573e-01 | 0.0000000 | 8.210142e-01 | 5.868397e-01 | 5.404505e-01 | 5.765977e-01 | 4.702376e-01 | 3.802644e-01 | 4.518826e-01 | 0.7934985 | 0.155213788 | 2.337218e-01 | 0.541107347 | 2.432864e-01 | 2.712277e-01 | 3.285646e-01 |\n",
       "| wheel.base | 1.125129e-03 | 0.8210142 | 0.000000e+00 | 6.888030e-11 | 3.018502e-08 | 7.961199e-04 | 1.621080e-07 | 2.631739e-05 | 4.382202e-05 | 0.5368498 | 0.488653821 | 2.218386e-03 | 0.012075108 | 4.587976e-04 | 1.246735e-04 | 2.033547e-05 |\n",
       "| length | 1.354757e-02 | 0.5868397 | 6.888030e-11 | 0.000000e+00 | 3.757232e-12 | 8.484373e-03 | 1.529234e-11 | 2.234837e-07 | 6.986947e-07 | 0.5561096 | 0.895327881 | 7.124825e-05 | 0.049596596 | 6.202671e-06 | 8.656410e-07 | 1.145052e-07 |\n",
       "| width | 4.289848e-02 | 0.5404505 | 3.018502e-08 | 3.757232e-12 | 0.000000e+00 | 3.921857e-02 | 1.958481e-14 | 3.085172e-09 | 3.463101e-07 | 0.4542870 | 0.979120636 | 6.179296e-06 | 0.085639740 | 8.078058e-07 | 8.693305e-08 | 2.832919e-09 |\n",
       "| height | 3.345242e-06 | 0.5765977 | 7.961199e-04 | 8.484373e-03 | 3.921857e-02 | 0.000000e+00 | 5.129423e-02 | 1.922810e-01 | 1.223913e-01 | 0.7561217 | 0.068020761 | 6.115899e-01 | 0.002726488 | 3.400015e-01 | 2.358341e-01 | 1.564161e-01 |\n",
       "| curb.weight | 6.023753e-02 | 0.4702376 | 1.621080e-07 | 1.529234e-11 | 1.958481e-14 | 5.129423e-02 | 0.000000e+00 | 5.687967e-11 | 6.137168e-08 | 0.4763474 | 0.870434111 | 1.134860e-06 | 0.100410815 | 1.344951e-07 | 9.238610e-09 | 5.172711e-11 |\n",
       "| engine.size | 1.732169e-01 | 0.3802644 | 2.631739e-05 | 2.234837e-07 | 3.085172e-09 | 1.922810e-01 | 5.687967e-11 | 0.000000e+00 | 3.044663e-07 | 0.4212768 | 0.613196935 | 1.703900e-08 | 0.178081144 | 5.180932e-08 | 8.914214e-09 | 3.608301e-13 |\n",
       "| bore | 1.503671e-01 | 0.4518826 | 4.382202e-05 | 6.986947e-07 | 3.463101e-07 | 1.223913e-01 | 6.137168e-08 | 3.044663e-07 | 0.000000e+00 | 0.8535115 | 0.593258126 | 2.557561e-06 | 0.163570373 | 4.146422e-07 | 1.406351e-07 | 3.105784e-07 |\n",
       "| stroke | 8.933278e-01 | 0.7934985 | 5.368498e-01 | 5.561096e-01 | 4.542870e-01 | 7.561217e-01 | 4.763474e-01 | 4.212768e-01 | 8.535115e-01 | 0.0000000 | 0.577791089 | 5.980096e-01 | 0.646369704 | 5.933644e-01 | 5.807299e-01 | 5.713622e-01 |\n",
       "| compression.ratio | 6.100943e-02 | 0.1552138 | 4.886538e-01 | 8.953279e-01 | 9.791206e-01 | 6.802076e-02 | 8.704341e-01 | 6.131969e-01 | 5.932581e-01 | 0.5777911 | 0.000000000 | 1.371064e-01 | 0.001115622 | 1.533496e-01 | 2.303334e-01 | 5.853459e-01 |\n",
       "| horsepower | 5.941446e-01 | 0.2337218 | 2.218386e-03 | 7.124825e-05 | 6.179296e-06 | 6.115899e-01 | 1.134860e-06 | 1.703900e-08 | 2.557561e-06 | 0.5980096 | 0.137106430 | 0.000000e+00 | 0.794627572 | 3.054625e-11 | 2.573813e-10 | 2.056487e-08 |\n",
       "| peak.rpm | 5.022399e-03 | 0.5411073 | 1.207511e-02 | 4.959660e-02 | 8.563974e-02 | 2.726488e-03 | 1.004108e-01 | 1.780811e-01 | 1.635704e-01 | 0.6463697 | 0.001115622 | 7.946276e-01 | 0.000000000 | 7.143256e-01 | 5.563829e-01 | 2.278832e-01 |\n",
       "| city.mpg | 4.225178e-01 | 0.2432864 | 4.587976e-04 | 6.202671e-06 | 8.078058e-07 | 3.400015e-01 | 1.344951e-07 | 5.180932e-08 | 4.146422e-07 | 0.5933644 | 0.153349554 | 3.054625e-11 | 0.714325629 | 0.000000e+00 | 2.118603e-17 | 1.416888e-08 |\n",
       "| highway.mpg | 3.007858e-01 | 0.2712277 | 1.246735e-04 | 8.656410e-07 | 8.693305e-08 | 2.358341e-01 | 9.238610e-09 | 8.914214e-09 | 1.406351e-07 | 0.5807299 | 0.230333400 | 2.573813e-10 | 0.556382928 | 2.118603e-17 | 0.000000e+00 | 1.496919e-09 |\n",
       "| price | 1.695813e-01 | 0.3285646 | 2.033547e-05 | 1.145052e-07 | 2.832919e-09 | 1.564161e-01 | 5.172711e-11 | 3.608301e-13 | 3.105784e-07 | 0.5713622 | 0.585345886 | 2.056487e-08 | 0.227883205 | 1.416888e-08 | 1.496919e-09 | 0.000000e+00 |\n",
       "\n",
       "\n",
       "$lowCI\n",
       ":   \n",
       "A matrix: 16 × 16 of type dbl\n",
       "\n",
       "| <!--/--> | symboling | normalized.losses | wheel.base | length | width | height | curb.weight | engine.size | bore | stroke | compression.ratio | horsepower | peak.rpm | city.mpg | highway.mpg | price |\n",
       "|---|---|---|---|---|---|---|---|---|---|---|---|---|---|---|---|---|\n",
       "| symboling |  1.0000000 | -0.4010347 | -0.9028633 | -0.8455585 | -0.80343042 | -0.962395947 | -0.787881269 | -0.7250997 | -0.7351381 | -0.5227262 | -0.78726278 | -0.5972212 |  0.2510151 | -0.3135942 | -0.2545211 | -0.7266452 |\n",
       "| normalized.losses | -0.4010347 |  1.0000000 | -0.4478625 | -0.3760763 | -0.35981543 | -0.601693744 | -0.333280322 | -0.2947527 | -0.3258869 | -0.4400930 | -0.73294075 | -0.2134825 | -0.3600521 | -0.6981467 | -0.6885216 | -0.2694219 |\n",
       "| wheel.base | -0.9028633 | -0.4478625 |  1.0000000 |  0.9353380 |  0.84854476 |  0.407011247 |  0.808997308 |  0.6198194 |  0.5932891 | -0.3585146 | -0.34049454 |  0.3243598 | -0.8490555 | -0.9168350 | -0.9331380 |  0.6326141 |\n",
       "| length | -0.8455585 | -0.3760763 |  0.9353380 |  1.0000000 |  0.95713209 |  0.200132333 |  0.947714774 |  0.8003861 |  0.7667053 | -0.3654053 | -0.46822700 |  0.5664114 | -0.7969983 | -0.9586124 | -0.9694410 |  0.8179177 |\n",
       "| width | -0.8034304 | -0.3598154 |  0.8485448 |  0.9571321 |  1.00000000 |  0.031904485 |  0.979676141 |  0.8897290 |  0.7880359 | -0.3268676 | -0.50105721 |  0.6866625 | -0.7697252 | -0.9697612 | -0.9783937 |  0.8910353 |\n",
       "| height | -0.9623959 | -0.6016937 |  0.4070112 |  0.2001323 |  0.03190449 |  1.000000000 | -0.001060533 | -0.1831022 | -0.1166664 | -0.5567737 | -0.03702261 | -0.3844070 | -0.8861856 | -0.6666176 | -0.7008039 | -0.1521141 |\n",
       "| curb.weight | -0.7878813 | -0.3332803 |  0.8089973 |  0.9477148 |  0.97967614 | -0.001060533 |  1.000000000 |  0.9370601 |  0.8329240 | -0.3356956 | -0.52844147 |  0.7507827 | -0.7607143 | -0.9769348 | -0.9845111 |  0.9378974 |\n",
       "| engine.size | -0.7250997 | -0.2947527 |  0.6198194 |  0.8003861 |  0.88972901 | -0.183102152 |  0.937060093 |  1.0000000 |  0.7917411 | -0.3130612 | -0.59239369 |  0.8600935 | -0.7230594 | -0.9799998 | -0.9845926 |  0.9692499 |\n",
       "| bore | -0.7351381 | -0.3258869 |  0.5932891 |  0.7667053 |  0.78803589 | -0.116666431 |  0.832923963 |  0.7917411 |  1.0000000 | -0.4568715 | -0.59744651 |  0.7217694 | -0.7292413 | -0.9726722 | -0.9767799 |  0.7911733 |\n",
       "| stroke | -0.5227262 | -0.4400930 | -0.3585146 | -0.3654053 | -0.32686755 | -0.556773725 | -0.335695569 | -0.3130612 | -0.4568715 |  1.0000000 | -0.37297343 | -0.3798637 | -0.5840485 | -0.5974195 | -0.6006380 | -0.3707494 |\n",
       "| compression.ratio | -0.7872628 | -0.7329407 | -0.3404945 | -0.4682270 | -0.50105721 | -0.037022608 | -0.528441472 | -0.5923937 | -0.5974465 | -0.3729734 |  1.00000000 | -0.7413654 | -0.9030081 | -0.1491995 | -0.2111702 | -0.5994605 |\n",
       "| horsepower | -0.5972212 | -0.2134825 |  0.3243598 |  0.5664114 |  0.68666252 | -0.384406974 |  0.750782682 |  0.8600935 |  0.7217694 | -0.3798637 | -0.74136538 |  1.0000000 | -0.5472502 | -0.9932742 | -0.9908340 |  0.8563929 |\n",
       "| peak.rpm |  0.2510151 | -0.3600521 | -0.8490555 | -0.7969983 | -0.76972524 | -0.886185589 | -0.760714324 | -0.7230594 | -0.7292413 | -0.5840485 | -0.90300810 | -0.5472502 |  1.0000000 | -0.4168905 | -0.3655019 | -0.7036855 |\n",
       "| city.mpg | -0.3135942 | -0.6981467 | -0.9168350 | -0.9586124 | -0.96976118 | -0.666617568 | -0.976934833 | -0.9799998 | -0.9726722 | -0.5974195 | -0.14919947 | -0.9932742 | -0.4168905 |  1.0000000 |  0.9923187 | -0.9835010 |\n",
       "| highway.mpg | -0.2545211 | -0.6885216 | -0.9331380 | -0.9694410 | -0.97839372 | -0.700803912 | -0.984511146 | -0.9845926 | -0.9767799 | -0.6006380 | -0.21117021 | -0.9908340 | -0.3655019 |  0.9923187 |  1.0000000 | -0.9881468 |\n",
       "| price | -0.7266452 | -0.2694219 |  0.6326141 |  0.8179177 |  0.89103532 | -0.152114104 |  0.937897434 |  0.9692499 |  0.7911733 | -0.3707494 | -0.59946052 |  0.8563929 | -0.7036855 | -0.9835010 | -0.9881468 |  1.0000000 |\n",
       "\n",
       "\n",
       "$uppCI\n",
       ":   \n",
       "A matrix: 16 × 16 of type dbl\n",
       "\n",
       "| <!--/--> | symboling | normalized.losses | wheel.base | length | width | height | curb.weight | engine.size | bore | stroke | compression.ratio | horsepower | peak.rpm | city.mpg | highway.mpg | price |\n",
       "|---|---|---|---|---|---|---|---|---|---|---|---|---|---|---|---|---|\n",
       "| symboling |  1.00000000 | 0.5798993 | -0.3802102 | -0.151981853 | -0.02101922 | -0.7114986 |  0.02136896 |  0.1672893 |  0.1463178 | 0.4676894 |  0.02299693 |  0.3785584 |  0.872555296 |  0.6426444 |  0.6788356 |  0.1641123 |\n",
       "| normalized.losses |  0.57989935 | 1.0000000 |  0.5407176 |  0.599079878 |  0.61100189 |  0.3725618 |  0.62955489 |  0.6546706 |  0.6345358 | 0.5475295 |  0.15097706 |  0.7015646 |  0.610831477 |  0.2198672 |  0.2374341 |  0.6701151 |\n",
       "| wheel.base | -0.38021020 | 0.5407176 |  1.0000000 |  0.992432494 |  0.98154412 |  0.9085610 |  0.97627935 |  0.9480250 |  0.9436006 | 0.6119370 |  0.62461720 |  0.8903691 | -0.164070032 | -0.4475319 | -0.5334407 |  0.9501143 |\n",
       "| length | -0.15198185 | 0.5990799 |  0.9924325 |  1.000000000 |  0.99503249 |  0.8591430 |  0.99391533 |  0.9751061 |  0.9704215 | 0.6069526 |  0.52222581 |  0.9389868 | -0.003136994 | -0.6865037 | -0.7597954 |  0.9774844 |\n",
       "| width | -0.02101922 | 0.6110019 |  0.9815441 |  0.995032490 |  1.00000000 |  0.8072583 |  0.99766862 |  0.9868206 |  0.9734063 | 0.6338797 |  0.49031554 |  0.9586367 |  0.067436723 | -0.7620466 | -0.8247000 |  0.9869846 |\n",
       "| height | -0.71149862 | 0.3725618 |  0.9085610 |  0.859142988 |  0.80725833 |  1.0000000 |  0.79546198 |  0.7172712 |  0.7487009 | 0.4293073 |  0.78186578 |  0.5927998 | -0.306500933 |  0.2752744 |  0.2149104 |  0.7324017 |\n",
       "| curb.weight |  0.02136896 | 0.6295549 |  0.9762794 |  0.993915330 |  0.99766862 |  0.7954620 |  1.00000000 |  0.9926398 |  0.9794884 | 0.6279104 |  0.46149729 |  0.9681521 |  0.089047546 | -0.8138399 | -0.8715067 |  0.9927405 |\n",
       "| engine.size |  0.16728932 | 0.6546706 |  0.9480250 |  0.975106142 |  0.98682056 |  0.7172712 |  0.99263982 |  1.0000000 |  0.9739184 | 0.6429913 |  0.38494030 |  0.9830444 |  0.171455131 | -0.8367885 | -0.8721444 |  0.9964561 |\n",
       "| bore |  0.14631783 | 0.6345358 |  0.9436006 |  0.970421478 |  0.97340627 |  0.7487009 |  0.97948841 |  0.9739184 |  1.0000000 | 0.5326532 |  0.37825828 |  0.9639230 |  0.158733657 | -0.7827484 | -0.8126931 |  0.9738400 |\n",
       "| stroke |  0.46768944 | 0.5475295 |  0.6119370 |  0.606952639 |  0.63387971 |  0.4293073 |  0.62791042 |  0.6429913 |  0.5326532 | 1.0000000 |  0.60138869 |  0.5962396 |  0.395756347 |  0.3782943 |  0.3739847 |  0.6030336 |\n",
       "| compression.ratio |  0.02299693 | 0.1509771 |  0.6246172 |  0.522225815 |  0.49031554 |  0.7818658 |  0.46149729 |  0.3849403 |  0.3782583 | 0.6013887 |  1.00000000 |  0.1328974 | -0.380880741 |  0.7337812 |  0.7027922 |  0.3755662 |\n",
       "| horsepower |  0.37855842 | 0.7015646 |  0.8903691 |  0.938986836 |  0.95863674 |  0.5927998 |  0.96815206 |  0.9830444 |  0.9639230 | 0.5962396 |  0.13289739 |  1.0000000 |  0.440414532 | -0.9423464 | -0.9221505 |  0.9825655 |\n",
       "| peak.rpm |  0.87255530 | 0.6108315 | -0.1640700 | -0.003136994 |  0.06743672 | -0.3065009 |  0.08904755 |  0.1714551 |  0.1587337 | 0.3957563 | -0.38088074 |  0.4404145 |  1.000000000 |  0.5671219 |  0.6068822 |  0.2094810 |\n",
       "| city.mpg |  0.64264443 | 0.2198672 | -0.4475319 | -0.686503651 | -0.76204657 |  0.2752744 | -0.81383993 | -0.8367885 | -0.7827484 | 0.3782943 |  0.73378125 | -0.9423464 |  0.567121909 |  1.0000000 |  0.9991238 | -0.8636328 |\n",
       "| highway.mpg |  0.67883559 | 0.2374341 | -0.5334407 | -0.759795410 | -0.82469997 |  0.2149104 | -0.87150671 | -0.8721444 | -0.8126931 | 0.3739847 |  0.70279220 | -0.9221505 |  0.606882187 |  0.9991238 |  1.0000000 | -0.9003357 |\n",
       "| price |  0.16411226 | 0.6701151 |  0.9501143 |  0.977484417 |  0.98698461 |  0.7324017 |  0.99274051 |  0.9964561 |  0.9738400 | 0.6030336 |  0.37556624 |  0.9825655 |  0.209481009 | -0.8636328 | -0.9003357 |  1.0000000 |\n",
       "\n",
       "\n",
       "\n",
       "\n"
      ],
      "text/plain": [
       "$p\n",
       "                     symboling normalized.losses   wheel.base       length\n",
       "symboling         0.000000e+00         0.6629573 1.125129e-03 1.354757e-02\n",
       "normalized.losses 6.629573e-01         0.0000000 8.210142e-01 5.868397e-01\n",
       "wheel.base        1.125129e-03         0.8210142 0.000000e+00 6.888030e-11\n",
       "length            1.354757e-02         0.5868397 6.888030e-11 0.000000e+00\n",
       "width             4.289848e-02         0.5404505 3.018502e-08 3.757232e-12\n",
       "height            3.345242e-06         0.5765977 7.961199e-04 8.484373e-03\n",
       "curb.weight       6.023753e-02         0.4702376 1.621080e-07 1.529234e-11\n",
       "engine.size       1.732169e-01         0.3802644 2.631739e-05 2.234837e-07\n",
       "bore              1.503671e-01         0.4518826 4.382202e-05 6.986947e-07\n",
       "stroke            8.933278e-01         0.7934985 5.368498e-01 5.561096e-01\n",
       "compression.ratio 6.100943e-02         0.1552138 4.886538e-01 8.953279e-01\n",
       "horsepower        5.941446e-01         0.2337218 2.218386e-03 7.124825e-05\n",
       "peak.rpm          5.022399e-03         0.5411073 1.207511e-02 4.959660e-02\n",
       "city.mpg          4.225178e-01         0.2432864 4.587976e-04 6.202671e-06\n",
       "highway.mpg       3.007858e-01         0.2712277 1.246735e-04 8.656410e-07\n",
       "price             1.695813e-01         0.3285646 2.033547e-05 1.145052e-07\n",
       "                         width       height  curb.weight  engine.size\n",
       "symboling         4.289848e-02 3.345242e-06 6.023753e-02 1.732169e-01\n",
       "normalized.losses 5.404505e-01 5.765977e-01 4.702376e-01 3.802644e-01\n",
       "wheel.base        3.018502e-08 7.961199e-04 1.621080e-07 2.631739e-05\n",
       "length            3.757232e-12 8.484373e-03 1.529234e-11 2.234837e-07\n",
       "width             0.000000e+00 3.921857e-02 1.958481e-14 3.085172e-09\n",
       "height            3.921857e-02 0.000000e+00 5.129423e-02 1.922810e-01\n",
       "curb.weight       1.958481e-14 5.129423e-02 0.000000e+00 5.687967e-11\n",
       "engine.size       3.085172e-09 1.922810e-01 5.687967e-11 0.000000e+00\n",
       "bore              3.463101e-07 1.223913e-01 6.137168e-08 3.044663e-07\n",
       "stroke            4.542870e-01 7.561217e-01 4.763474e-01 4.212768e-01\n",
       "compression.ratio 9.791206e-01 6.802076e-02 8.704341e-01 6.131969e-01\n",
       "horsepower        6.179296e-06 6.115899e-01 1.134860e-06 1.703900e-08\n",
       "peak.rpm          8.563974e-02 2.726488e-03 1.004108e-01 1.780811e-01\n",
       "city.mpg          8.078058e-07 3.400015e-01 1.344951e-07 5.180932e-08\n",
       "highway.mpg       8.693305e-08 2.358341e-01 9.238610e-09 8.914214e-09\n",
       "price             2.832919e-09 1.564161e-01 5.172711e-11 3.608301e-13\n",
       "                          bore    stroke compression.ratio   horsepower\n",
       "symboling         1.503671e-01 0.8933278       0.061009426 5.941446e-01\n",
       "normalized.losses 4.518826e-01 0.7934985       0.155213788 2.337218e-01\n",
       "wheel.base        4.382202e-05 0.5368498       0.488653821 2.218386e-03\n",
       "length            6.986947e-07 0.5561096       0.895327881 7.124825e-05\n",
       "width             3.463101e-07 0.4542870       0.979120636 6.179296e-06\n",
       "height            1.223913e-01 0.7561217       0.068020761 6.115899e-01\n",
       "curb.weight       6.137168e-08 0.4763474       0.870434111 1.134860e-06\n",
       "engine.size       3.044663e-07 0.4212768       0.613196935 1.703900e-08\n",
       "bore              0.000000e+00 0.8535115       0.593258126 2.557561e-06\n",
       "stroke            8.535115e-01 0.0000000       0.577791089 5.980096e-01\n",
       "compression.ratio 5.932581e-01 0.5777911       0.000000000 1.371064e-01\n",
       "horsepower        2.557561e-06 0.5980096       0.137106430 0.000000e+00\n",
       "peak.rpm          1.635704e-01 0.6463697       0.001115622 7.946276e-01\n",
       "city.mpg          4.146422e-07 0.5933644       0.153349554 3.054625e-11\n",
       "highway.mpg       1.406351e-07 0.5807299       0.230333400 2.573813e-10\n",
       "price             3.105784e-07 0.5713622       0.585345886 2.056487e-08\n",
       "                     peak.rpm     city.mpg  highway.mpg        price\n",
       "symboling         0.005022399 4.225178e-01 3.007858e-01 1.695813e-01\n",
       "normalized.losses 0.541107347 2.432864e-01 2.712277e-01 3.285646e-01\n",
       "wheel.base        0.012075108 4.587976e-04 1.246735e-04 2.033547e-05\n",
       "length            0.049596596 6.202671e-06 8.656410e-07 1.145052e-07\n",
       "width             0.085639740 8.078058e-07 8.693305e-08 2.832919e-09\n",
       "height            0.002726488 3.400015e-01 2.358341e-01 1.564161e-01\n",
       "curb.weight       0.100410815 1.344951e-07 9.238610e-09 5.172711e-11\n",
       "engine.size       0.178081144 5.180932e-08 8.914214e-09 3.608301e-13\n",
       "bore              0.163570373 4.146422e-07 1.406351e-07 3.105784e-07\n",
       "stroke            0.646369704 5.933644e-01 5.807299e-01 5.713622e-01\n",
       "compression.ratio 0.001115622 1.533496e-01 2.303334e-01 5.853459e-01\n",
       "horsepower        0.794627572 3.054625e-11 2.573813e-10 2.056487e-08\n",
       "peak.rpm          0.000000000 7.143256e-01 5.563829e-01 2.278832e-01\n",
       "city.mpg          0.714325629 0.000000e+00 2.118603e-17 1.416888e-08\n",
       "highway.mpg       0.556382928 2.118603e-17 0.000000e+00 1.496919e-09\n",
       "price             0.227883205 1.416888e-08 1.496919e-09 0.000000e+00\n",
       "\n",
       "$lowCI\n",
       "                   symboling normalized.losses wheel.base     length\n",
       "symboling          1.0000000        -0.4010347 -0.9028633 -0.8455585\n",
       "normalized.losses -0.4010347         1.0000000 -0.4478625 -0.3760763\n",
       "wheel.base        -0.9028633        -0.4478625  1.0000000  0.9353380\n",
       "length            -0.8455585        -0.3760763  0.9353380  1.0000000\n",
       "width             -0.8034304        -0.3598154  0.8485448  0.9571321\n",
       "height            -0.9623959        -0.6016937  0.4070112  0.2001323\n",
       "curb.weight       -0.7878813        -0.3332803  0.8089973  0.9477148\n",
       "engine.size       -0.7250997        -0.2947527  0.6198194  0.8003861\n",
       "bore              -0.7351381        -0.3258869  0.5932891  0.7667053\n",
       "stroke            -0.5227262        -0.4400930 -0.3585146 -0.3654053\n",
       "compression.ratio -0.7872628        -0.7329407 -0.3404945 -0.4682270\n",
       "horsepower        -0.5972212        -0.2134825  0.3243598  0.5664114\n",
       "peak.rpm           0.2510151        -0.3600521 -0.8490555 -0.7969983\n",
       "city.mpg          -0.3135942        -0.6981467 -0.9168350 -0.9586124\n",
       "highway.mpg       -0.2545211        -0.6885216 -0.9331380 -0.9694410\n",
       "price             -0.7266452        -0.2694219  0.6326141  0.8179177\n",
       "                        width       height  curb.weight engine.size       bore\n",
       "symboling         -0.80343042 -0.962395947 -0.787881269  -0.7250997 -0.7351381\n",
       "normalized.losses -0.35981543 -0.601693744 -0.333280322  -0.2947527 -0.3258869\n",
       "wheel.base         0.84854476  0.407011247  0.808997308   0.6198194  0.5932891\n",
       "length             0.95713209  0.200132333  0.947714774   0.8003861  0.7667053\n",
       "width              1.00000000  0.031904485  0.979676141   0.8897290  0.7880359\n",
       "height             0.03190449  1.000000000 -0.001060533  -0.1831022 -0.1166664\n",
       "curb.weight        0.97967614 -0.001060533  1.000000000   0.9370601  0.8329240\n",
       "engine.size        0.88972901 -0.183102152  0.937060093   1.0000000  0.7917411\n",
       "bore               0.78803589 -0.116666431  0.832923963   0.7917411  1.0000000\n",
       "stroke            -0.32686755 -0.556773725 -0.335695569  -0.3130612 -0.4568715\n",
       "compression.ratio -0.50105721 -0.037022608 -0.528441472  -0.5923937 -0.5974465\n",
       "horsepower         0.68666252 -0.384406974  0.750782682   0.8600935  0.7217694\n",
       "peak.rpm          -0.76972524 -0.886185589 -0.760714324  -0.7230594 -0.7292413\n",
       "city.mpg          -0.96976118 -0.666617568 -0.976934833  -0.9799998 -0.9726722\n",
       "highway.mpg       -0.97839372 -0.700803912 -0.984511146  -0.9845926 -0.9767799\n",
       "price              0.89103532 -0.152114104  0.937897434   0.9692499  0.7911733\n",
       "                      stroke compression.ratio horsepower   peak.rpm   city.mpg\n",
       "symboling         -0.5227262       -0.78726278 -0.5972212  0.2510151 -0.3135942\n",
       "normalized.losses -0.4400930       -0.73294075 -0.2134825 -0.3600521 -0.6981467\n",
       "wheel.base        -0.3585146       -0.34049454  0.3243598 -0.8490555 -0.9168350\n",
       "length            -0.3654053       -0.46822700  0.5664114 -0.7969983 -0.9586124\n",
       "width             -0.3268676       -0.50105721  0.6866625 -0.7697252 -0.9697612\n",
       "height            -0.5567737       -0.03702261 -0.3844070 -0.8861856 -0.6666176\n",
       "curb.weight       -0.3356956       -0.52844147  0.7507827 -0.7607143 -0.9769348\n",
       "engine.size       -0.3130612       -0.59239369  0.8600935 -0.7230594 -0.9799998\n",
       "bore              -0.4568715       -0.59744651  0.7217694 -0.7292413 -0.9726722\n",
       "stroke             1.0000000       -0.37297343 -0.3798637 -0.5840485 -0.5974195\n",
       "compression.ratio -0.3729734        1.00000000 -0.7413654 -0.9030081 -0.1491995\n",
       "horsepower        -0.3798637       -0.74136538  1.0000000 -0.5472502 -0.9932742\n",
       "peak.rpm          -0.5840485       -0.90300810 -0.5472502  1.0000000 -0.4168905\n",
       "city.mpg          -0.5974195       -0.14919947 -0.9932742 -0.4168905  1.0000000\n",
       "highway.mpg       -0.6006380       -0.21117021 -0.9908340 -0.3655019  0.9923187\n",
       "price             -0.3707494       -0.59946052  0.8563929 -0.7036855 -0.9835010\n",
       "                  highway.mpg      price\n",
       "symboling          -0.2545211 -0.7266452\n",
       "normalized.losses  -0.6885216 -0.2694219\n",
       "wheel.base         -0.9331380  0.6326141\n",
       "length             -0.9694410  0.8179177\n",
       "width              -0.9783937  0.8910353\n",
       "height             -0.7008039 -0.1521141\n",
       "curb.weight        -0.9845111  0.9378974\n",
       "engine.size        -0.9845926  0.9692499\n",
       "bore               -0.9767799  0.7911733\n",
       "stroke             -0.6006380 -0.3707494\n",
       "compression.ratio  -0.2111702 -0.5994605\n",
       "horsepower         -0.9908340  0.8563929\n",
       "peak.rpm           -0.3655019 -0.7036855\n",
       "city.mpg            0.9923187 -0.9835010\n",
       "highway.mpg         1.0000000 -0.9881468\n",
       "price              -0.9881468  1.0000000\n",
       "\n",
       "$uppCI\n",
       "                    symboling normalized.losses wheel.base       length\n",
       "symboling          1.00000000         0.5798993 -0.3802102 -0.151981853\n",
       "normalized.losses  0.57989935         1.0000000  0.5407176  0.599079878\n",
       "wheel.base        -0.38021020         0.5407176  1.0000000  0.992432494\n",
       "length            -0.15198185         0.5990799  0.9924325  1.000000000\n",
       "width             -0.02101922         0.6110019  0.9815441  0.995032490\n",
       "height            -0.71149862         0.3725618  0.9085610  0.859142988\n",
       "curb.weight        0.02136896         0.6295549  0.9762794  0.993915330\n",
       "engine.size        0.16728932         0.6546706  0.9480250  0.975106142\n",
       "bore               0.14631783         0.6345358  0.9436006  0.970421478\n",
       "stroke             0.46768944         0.5475295  0.6119370  0.606952639\n",
       "compression.ratio  0.02299693         0.1509771  0.6246172  0.522225815\n",
       "horsepower         0.37855842         0.7015646  0.8903691  0.938986836\n",
       "peak.rpm           0.87255530         0.6108315 -0.1640700 -0.003136994\n",
       "city.mpg           0.64264443         0.2198672 -0.4475319 -0.686503651\n",
       "highway.mpg        0.67883559         0.2374341 -0.5334407 -0.759795410\n",
       "price              0.16411226         0.6701151  0.9501143  0.977484417\n",
       "                        width     height curb.weight engine.size       bore\n",
       "symboling         -0.02101922 -0.7114986  0.02136896   0.1672893  0.1463178\n",
       "normalized.losses  0.61100189  0.3725618  0.62955489   0.6546706  0.6345358\n",
       "wheel.base         0.98154412  0.9085610  0.97627935   0.9480250  0.9436006\n",
       "length             0.99503249  0.8591430  0.99391533   0.9751061  0.9704215\n",
       "width              1.00000000  0.8072583  0.99766862   0.9868206  0.9734063\n",
       "height             0.80725833  1.0000000  0.79546198   0.7172712  0.7487009\n",
       "curb.weight        0.99766862  0.7954620  1.00000000   0.9926398  0.9794884\n",
       "engine.size        0.98682056  0.7172712  0.99263982   1.0000000  0.9739184\n",
       "bore               0.97340627  0.7487009  0.97948841   0.9739184  1.0000000\n",
       "stroke             0.63387971  0.4293073  0.62791042   0.6429913  0.5326532\n",
       "compression.ratio  0.49031554  0.7818658  0.46149729   0.3849403  0.3782583\n",
       "horsepower         0.95863674  0.5927998  0.96815206   0.9830444  0.9639230\n",
       "peak.rpm           0.06743672 -0.3065009  0.08904755   0.1714551  0.1587337\n",
       "city.mpg          -0.76204657  0.2752744 -0.81383993  -0.8367885 -0.7827484\n",
       "highway.mpg       -0.82469997  0.2149104 -0.87150671  -0.8721444 -0.8126931\n",
       "price              0.98698461  0.7324017  0.99274051   0.9964561  0.9738400\n",
       "                     stroke compression.ratio horsepower     peak.rpm\n",
       "symboling         0.4676894        0.02299693  0.3785584  0.872555296\n",
       "normalized.losses 0.5475295        0.15097706  0.7015646  0.610831477\n",
       "wheel.base        0.6119370        0.62461720  0.8903691 -0.164070032\n",
       "length            0.6069526        0.52222581  0.9389868 -0.003136994\n",
       "width             0.6338797        0.49031554  0.9586367  0.067436723\n",
       "height            0.4293073        0.78186578  0.5927998 -0.306500933\n",
       "curb.weight       0.6279104        0.46149729  0.9681521  0.089047546\n",
       "engine.size       0.6429913        0.38494030  0.9830444  0.171455131\n",
       "bore              0.5326532        0.37825828  0.9639230  0.158733657\n",
       "stroke            1.0000000        0.60138869  0.5962396  0.395756347\n",
       "compression.ratio 0.6013887        1.00000000  0.1328974 -0.380880741\n",
       "horsepower        0.5962396        0.13289739  1.0000000  0.440414532\n",
       "peak.rpm          0.3957563       -0.38088074  0.4404145  1.000000000\n",
       "city.mpg          0.3782943        0.73378125 -0.9423464  0.567121909\n",
       "highway.mpg       0.3739847        0.70279220 -0.9221505  0.606882187\n",
       "price             0.6030336        0.37556624  0.9825655  0.209481009\n",
       "                    city.mpg highway.mpg      price\n",
       "symboling          0.6426444   0.6788356  0.1641123\n",
       "normalized.losses  0.2198672   0.2374341  0.6701151\n",
       "wheel.base        -0.4475319  -0.5334407  0.9501143\n",
       "length            -0.6865037  -0.7597954  0.9774844\n",
       "width             -0.7620466  -0.8247000  0.9869846\n",
       "height             0.2752744   0.2149104  0.7324017\n",
       "curb.weight       -0.8138399  -0.8715067  0.9927405\n",
       "engine.size       -0.8367885  -0.8721444  0.9964561\n",
       "bore              -0.7827484  -0.8126931  0.9738400\n",
       "stroke             0.3782943   0.3739847  0.6030336\n",
       "compression.ratio  0.7337812   0.7027922  0.3755662\n",
       "horsepower        -0.9423464  -0.9221505  0.9825655\n",
       "peak.rpm           0.5671219   0.6068822  0.2094810\n",
       "city.mpg           1.0000000   0.9991238 -0.8636328\n",
       "highway.mpg        0.9991238   1.0000000 -0.9003357\n",
       "price             -0.8636328  -0.9003357  1.0000000\n"
      ]
     },
     "metadata": {},
     "output_type": "display_data"
    }
   ],
   "source": [
    "head(cor_test)"
   ]
  },
  {
   "attachments": {},
   "cell_type": "markdown",
   "id": "66728783",
   "metadata": {},
   "source": [
    "### (c) Plot the all correlation information using the function corrplot. Explore some of its parameters"
   ]
  },
  {
   "cell_type": "code",
   "execution_count": 128,
   "id": "4f2b272a",
   "metadata": {
    "vscode": {
     "languageId": "r"
    }
   },
   "outputs": [
    {
     "data": {
      "image/png": "[encoded data removed]",
      "text/plain": [
       "Plot with title \"\""
      ]
     },
     "metadata": {
      "image/png": {
       "height": 420,
       "width": 420
      }
     },
     "output_type": "display_data"
    }
   ],
   "source": [
    "# (c) Graficar la matriz de correlación utilizando la función corrplot\n",
    "corrplot(cor_pearson, method = \"color\", type = \"upper\", tl.cex = 0.9, tl.col = \"black\")"
   ]
  },
  {
   "attachments": {},
   "cell_type": "markdown",
   "id": "c50199ac",
   "metadata": {},
   "source": [
    "## 5. Load the data set USJudgeRatings, from the datasets package, containing lawyers’ ratings of state judges in the US Superior Court regarding a set of attributes.\n"
   ]
  },
  {
   "cell_type": "code",
   "execution_count": 129,
   "id": "e528d918",
   "metadata": {
    "vscode": {
     "languageId": "r"
    }
   },
   "outputs": [],
   "source": [
    "# Cargar el paquete datasets\n",
    "library(datasets)\n",
    "\n",
    "# Cargar el conjunto de datos USJudgeRatings\n",
    "data(USJudgeRatings)"
   ]
  },
  {
   "attachments": {},
   "cell_type": "markdown",
   "id": "f7404d7f",
   "metadata": {},
   "source": [
    "### (a) Apply the function prcomp() to obtain the principal components. Inspect how each variable is obtained by the linear combination of each component."
   ]
  },
  {
   "cell_type": "code",
   "execution_count": 131,
   "id": "cfbdddf8",
   "metadata": {
    "vscode": {
     "languageId": "r"
    }
   },
   "outputs": [
    {
     "data": {
      "text/plain": [
       "      CONT             INTG            DMNR            DILG      \n",
       " Min.   : 5.700   Min.   :5.900   Min.   :4.300   Min.   :5.100  \n",
       " 1st Qu.: 6.850   1st Qu.:7.550   1st Qu.:6.900   1st Qu.:7.150  \n",
       " Median : 7.300   Median :8.100   Median :7.700   Median :7.800  \n",
       " Mean   : 7.437   Mean   :8.021   Mean   :7.516   Mean   :7.693  \n",
       " 3rd Qu.: 7.900   3rd Qu.:8.550   3rd Qu.:8.350   3rd Qu.:8.450  \n",
       " Max.   :10.600   Max.   :9.200   Max.   :9.000   Max.   :9.000  \n",
       "      CFMG            DECI            PREP            FAMI      \n",
       " Min.   :5.400   Min.   :5.700   Min.   :4.800   Min.   :5.100  \n",
       " 1st Qu.:7.000   1st Qu.:7.100   1st Qu.:6.900   1st Qu.:6.950  \n",
       " Median :7.600   Median :7.700   Median :7.700   Median :7.600  \n",
       " Mean   :7.479   Mean   :7.565   Mean   :7.467   Mean   :7.488  \n",
       " 3rd Qu.:8.050   3rd Qu.:8.150   3rd Qu.:8.200   3rd Qu.:8.250  \n",
       " Max.   :8.700   Max.   :8.800   Max.   :9.100   Max.   :9.100  \n",
       "      ORAL            WRIT            PHYS            RTEN      \n",
       " Min.   :4.700   Min.   :4.900   Min.   :4.700   Min.   :4.800  \n",
       " 1st Qu.:6.850   1st Qu.:6.900   1st Qu.:7.700   1st Qu.:7.150  \n",
       " Median :7.500   Median :7.600   Median :8.100   Median :7.800  \n",
       " Mean   :7.293   Mean   :7.384   Mean   :7.935   Mean   :7.602  \n",
       " 3rd Qu.:8.000   3rd Qu.:8.050   3rd Qu.:8.500   3rd Qu.:8.250  \n",
       " Max.   :8.900   Max.   :9.000   Max.   :9.100   Max.   :9.200  "
      ]
     },
     "metadata": {},
     "output_type": "display_data"
    }
   ],
   "source": [
    "summary(USJudgeRatings)"
   ]
  },
  {
   "cell_type": "code",
   "execution_count": 130,
   "id": "12188418",
   "metadata": {
    "vscode": {
     "languageId": "r"
    }
   },
   "outputs": [],
   "source": [
    "# Realizar el análisis de componentes principales\n",
    "pca <- prcomp(USJudgeRatings, scale. = TRUE)"
   ]
  },
  {
   "cell_type": "code",
   "execution_count": 132,
   "id": "84742931",
   "metadata": {
    "vscode": {
     "languageId": "r"
    }
   },
   "outputs": [
    {
     "data": {
      "text/plain": [
       "Importance of components:\n",
       "                          PC1     PC2     PC3     PC4     PC5     PC6     PC7\n",
       "Standard deviation     3.1833 1.05078 0.57698 0.50383 0.29061 0.19310 0.14030\n",
       "Proportion of Variance 0.8445 0.09201 0.02774 0.02115 0.00704 0.00311 0.00164\n",
       "Cumulative Proportion  0.8445 0.93647 0.96421 0.98537 0.99240 0.99551 0.99715\n",
       "                           PC8     PC9    PC10    PC11    PC12\n",
       "Standard deviation     0.12416 0.08851 0.07491 0.05708 0.04539\n",
       "Proportion of Variance 0.00128 0.00065 0.00047 0.00027 0.00017\n",
       "Cumulative Proportion  0.99844 0.99909 0.99956 0.99983 1.00000"
      ]
     },
     "metadata": {},
     "output_type": "display_data"
    }
   ],
   "source": [
    "summary(pca)"
   ]
  },
  {
   "cell_type": "code",
   "execution_count": 136,
   "id": "81afaab6",
   "metadata": {
    "vscode": {
     "languageId": "r"
    }
   },
   "outputs": [
    {
     "data": {
      "text/html": [
       "12"
      ],
      "text/latex": [
       "12"
      ],
      "text/markdown": [
       "12"
      ],
      "text/plain": [
       "[1] 12"
      ]
     },
     "metadata": {},
     "output_type": "display_data"
    }
   ],
   "source": [
    "length(USJudgeRatings)"
   ]
  },
  {
   "cell_type": "code",
   "execution_count": 135,
   "id": "aa63f066",
   "metadata": {
    "vscode": {
     "languageId": "r"
    }
   },
   "outputs": [
    {
     "data": {
      "text/html": [
       "5"
      ],
      "text/latex": [
       "5"
      ],
      "text/markdown": [
       "5"
      ],
      "text/plain": [
       "[1] 5"
      ]
     },
     "metadata": {},
     "output_type": "display_data"
    }
   ],
   "source": [
    "length(pca)"
   ]
  },
  {
   "attachments": {},
   "cell_type": "markdown",
   "id": "08f56d7f",
   "metadata": {},
   "source": [
    "Se observa que existe una reduccion de la dimensionalidad despues de aplicar PCA"
   ]
  },
  {
   "cell_type": "code",
   "execution_count": 137,
   "id": "f7ec11d7",
   "metadata": {
    "vscode": {
     "languageId": "r"
    }
   },
   "outputs": [
    {
     "data": {
      "text/html": [
       "<dl>\n",
       "\t<dt>$sdev</dt>\n",
       "\t\t<dd><style>\n",
       ".list-inline {list-style: none; margin:0; padding: 0}\n",
       ".list-inline>li {display: inline-block}\n",
       ".list-inline>li:not(:last-child)::after {content: \"\\00b7\"; padding: 0 .5ex}\n",
       "</style>\n",
       "<ol class=list-inline><li>3.18331646657345</li><li>1.05078398340642</li><li>0.576976256272017</li><li>0.503832314094371</li><li>0.290607615087922</li><li>0.193095982419044</li><li>0.140295448731005</li><li>0.124158318825053</li><li>0.0885069038207208</li><li>0.0749114592469205</li><li>0.0570804224329125</li><li>0.0453913429451875</li></ol>\n",
       "</dd>\n",
       "\t<dt>$rotation</dt>\n",
       "\t\t<dd><table class=\"dataframe\">\n",
       "<caption>A matrix: 12 × 12 of type dbl</caption>\n",
       "<thead>\n",
       "\t<tr><th></th><th scope=col>PC1</th><th scope=col>PC2</th><th scope=col>PC3</th><th scope=col>PC4</th><th scope=col>PC5</th><th scope=col>PC6</th><th scope=col>PC7</th><th scope=col>PC8</th><th scope=col>PC9</th><th scope=col>PC10</th><th scope=col>PC11</th><th scope=col>PC12</th></tr>\n",
       "</thead>\n",
       "<tbody>\n",
       "\t<tr><th scope=row>CONT</th><td> 0.003075143</td><td>-0.932890644</td><td> 0.334756548</td><td> 0.058576867</td><td> 0.093438368</td><td>-0.004064432</td><td> 0.005214784</td><td>-6.006597e-02</td><td> 0.02514533</td><td>-0.03038881</td><td> 0.0145329260</td><td>-0.007940919</td></tr>\n",
       "\t<tr><th scope=row>INTG</th><td>-0.288550775</td><td> 0.182040993</td><td> 0.549360126</td><td> 0.173977074</td><td>-0.014543880</td><td> 0.369937339</td><td>-0.449810741</td><td> 3.341645e-01</td><td> 0.27537794</td><td> 0.10897641</td><td>-0.1125535650</td><td> 0.009848658</td></tr>\n",
       "\t<tr><th scope=row>DMNR</th><td>-0.286884206</td><td> 0.197565743</td><td> 0.556490386</td><td>-0.124412022</td><td>-0.228832817</td><td>-0.394724667</td><td> 0.466747889</td><td>-2.470974e-01</td><td> 0.19910004</td><td>-0.07241282</td><td> 0.1343234234</td><td> 0.059121657</td></tr>\n",
       "\t<tr><th scope=row>DILG</th><td>-0.304354091</td><td>-0.036304667</td><td>-0.163629910</td><td> 0.321395544</td><td>-0.301936920</td><td> 0.598676072</td><td> 0.209710731</td><td>-3.548587e-01</td><td>-0.03977180</td><td>-0.38339165</td><td> 0.0709517642</td><td> 0.053790339</td></tr>\n",
       "\t<tr><th scope=row>CFMG</th><td>-0.302572733</td><td>-0.168393523</td><td>-0.207341904</td><td> 0.012949223</td><td>-0.448430522</td><td>-0.085728870</td><td> 0.246903359</td><td> 7.135261e-01</td><td>-0.14342471</td><td> 0.09850310</td><td> 0.1658680927</td><td> 0.025082947</td></tr>\n",
       "\t<tr><th scope=row>DECI</th><td>-0.301891969</td><td>-0.127877299</td><td>-0.297902771</td><td> 0.030491779</td><td>-0.424003128</td><td>-0.392609484</td><td>-0.536429933</td><td>-3.024227e-01</td><td> 0.25823773</td><td> 0.06743847</td><td>-0.1284999526</td><td> 0.044141604</td></tr>\n",
       "\t<tr><th scope=row>PREP</th><td>-0.309406446</td><td>-0.032230248</td><td>-0.151869345</td><td> 0.213656069</td><td> 0.202853400</td><td> 0.083216652</td><td> 0.335390036</td><td>-1.536754e-01</td><td> 0.10876864</td><td> 0.67986284</td><td>-0.3187612119</td><td>-0.273286884</td></tr>\n",
       "\t<tr><th scope=row>FAMI</th><td>-0.306679527</td><td> 0.001315183</td><td>-0.195290454</td><td> 0.200651140</td><td> 0.507470003</td><td>-0.101538704</td><td>-0.036378004</td><td> 2.038889e-02</td><td> 0.22306628</td><td> 0.04004599</td><td> 0.5733628652</td><td> 0.421739844</td></tr>\n",
       "\t<tr><th scope=row>ORAL</th><td>-0.312708348</td><td> 0.003625720</td><td>-0.002150634</td><td>-0.007441042</td><td> 0.246059421</td><td>-0.150272440</td><td> 0.057580177</td><td> 9.062990e-02</td><td>-0.29951714</td><td>-0.25599455</td><td>-0.6386061655</td><td> 0.494391025</td></tr>\n",
       "\t<tr><th scope=row>WRIT</th><td>-0.311061231</td><td> 0.031378756</td><td>-0.056045596</td><td> 0.137104995</td><td> 0.305562842</td><td>-0.238172386</td><td>-0.060899994</td><td> 1.261203e-01</td><td>-0.02497324</td><td>-0.47478254</td><td> 0.0004056397</td><td>-0.696107204</td></tr>\n",
       "\t<tr><th scope=row>PHYS</th><td>-0.280723624</td><td>-0.089037698</td><td>-0.154000444</td><td>-0.841266046</td><td> 0.118424976</td><td> 0.299281534</td><td> 0.024959951</td><td>-1.364511e-05</td><td> 0.26627286</td><td>-0.05900837</td><td>-0.0181381019</td><td>-0.053783960</td></tr>\n",
       "\t<tr><th scope=row>RTEN</th><td>-0.309790218</td><td> 0.039381306</td><td> 0.172869757</td><td>-0.184223629</td><td> 0.006717911</td><td> 0.036126847</td><td>-0.256194180</td><td>-2.213898e-01</td><td>-0.75645893</td><td> 0.24993250</td><td> 0.2855143026</td><td>-0.080267574</td></tr>\n",
       "</tbody>\n",
       "</table>\n",
       "</dd>\n",
       "\t<dt>$center</dt>\n",
       "\t\t<dd><style>\n",
       ".dl-inline {width: auto; margin:0; padding: 0}\n",
       ".dl-inline>dt, .dl-inline>dd {float: none; width: auto; display: inline-block}\n",
       ".dl-inline>dt::after {content: \":\\0020\"; padding-right: .5ex}\n",
       ".dl-inline>dt:not(:first-of-type) {padding-left: .5ex}\n",
       "</style><dl class=dl-inline><dt>CONT</dt><dd>7.43720930232558</dd><dt>INTG</dt><dd>8.02093023255814</dd><dt>DMNR</dt><dd>7.51627906976744</dd><dt>DILG</dt><dd>7.69302325581395</dd><dt>CFMG</dt><dd>7.47906976744186</dd><dt>DECI</dt><dd>7.56511627906977</dd><dt>PREP</dt><dd>7.46744186046512</dd><dt>FAMI</dt><dd>7.48837209302326</dd><dt>ORAL</dt><dd>7.29302325581395</dd><dt>WRIT</dt><dd>7.38372093023256</dd><dt>PHYS</dt><dd>7.93488372093023</dd><dt>RTEN</dt><dd>7.60232558139535</dd></dl>\n",
       "</dd>\n",
       "\t<dt>$scale</dt>\n",
       "\t\t<dd><style>\n",
       ".dl-inline {width: auto; margin:0; padding: 0}\n",
       ".dl-inline>dt, .dl-inline>dd {float: none; width: auto; display: inline-block}\n",
       ".dl-inline>dt::after {content: \":\\0020\"; padding-right: .5ex}\n",
       ".dl-inline>dt:not(:first-of-type) {padding-left: .5ex}\n",
       "</style><dl class=dl-inline><dt>CONT</dt><dd>0.940876808851837</dd><dt>INTG</dt><dd>0.770144741972598</dd><dt>DMNR</dt><dd>1.14370538842128</dd><dt>DILG</dt><dd>0.900897792637779</dd><dt>CFMG</dt><dd>0.860110219829242</dd><dt>DECI</dt><dd>0.802936195333291</dd><dt>PREP</dt><dd>0.95337019498313</dd><dt>FAMI</dt><dd>0.948986753464071</dd><dt>ORAL</dt><dd>1.01004369279307</dd><dt>WRIT</dt><dd>0.961132821840021</dd><dt>PHYS</dt><dd>0.939575314635043</dd><dt>RTEN</dt><dd>1.10097108047591</dd></dl>\n",
       "</dd>\n",
       "\t<dt>$x</dt>\n",
       "\t\t<dd><table class=\"dataframe\">\n",
       "<caption>A matrix: 43 × 12 of type dbl</caption>\n",
       "<thead>\n",
       "\t<tr><th></th><th scope=col>PC1</th><th scope=col>PC2</th><th scope=col>PC3</th><th scope=col>PC4</th><th scope=col>PC5</th><th scope=col>PC6</th><th scope=col>PC7</th><th scope=col>PC8</th><th scope=col>PC9</th><th scope=col>PC10</th><th scope=col>PC11</th><th scope=col>PC12</th></tr>\n",
       "</thead>\n",
       "<tbody>\n",
       "\t<tr><th scope=row>AARONSON,L.H.</th><td> 0.58575085</td><td> 1.813099496</td><td>-0.258493450</td><td>-0.885414654</td><td>-0.19810313</td><td>-0.0005757578</td><td>-0.091378585</td><td>-0.135269073</td><td>-0.128575861</td><td> 0.119341425</td><td>-0.010913499</td><td> 0.0598665378</td></tr>\n",
       "\t<tr><th scope=row>ALEXANDER,J.M.</th><td>-2.38001153</td><td> 0.867893241</td><td> 0.460995510</td><td>-0.059917965</td><td>-0.30448920</td><td> 0.2291020429</td><td>-0.146934313</td><td>-0.290680897</td><td> 0.026883362</td><td> 0.033482298</td><td> 0.136780444</td><td> 0.0064969215</td></tr>\n",
       "\t<tr><th scope=row>ARMENTANO,A.J.</th><td>-0.22513903</td><td> 0.298780266</td><td> 0.100848411</td><td> 0.022217708</td><td>-0.13017390</td><td>-0.0150672307</td><td> 0.039344729</td><td>-0.091744399</td><td>-0.067418254</td><td> 0.021651215</td><td> 0.068652395</td><td> 0.0016395476</td></tr>\n",
       "\t<tr><th scope=row>BERDON,R.I.</th><td>-3.61789929</td><td> 0.589367196</td><td>-0.420730823</td><td> 0.197307875</td><td> 0.08296828</td><td> 0.0823548542</td><td>-0.041250034</td><td>-0.088524595</td><td> 0.106836666</td><td> 0.062934470</td><td>-0.023813265</td><td>-0.0034183317</td></tr>\n",
       "\t<tr><th scope=row>BRACKEN,J.J.</th><td> 6.87113152</td><td>-0.135749491</td><td>-0.955449401</td><td> 1.069150774</td><td>-0.30075003</td><td> 0.3662956835</td><td>-0.115683915</td><td> 0.097222215</td><td> 0.034938985</td><td>-0.031586001</td><td>-0.087292928</td><td> 0.1160346423</td></tr>\n",
       "\t<tr><th scope=row>BURNS,E.B.</th><td>-2.44547915</td><td> 1.405785788</td><td> 0.086247837</td><td>-0.148878688</td><td>-0.22772257</td><td> 0.2398656404</td><td> 0.029021619</td><td>-0.118483627</td><td>-0.044602878</td><td>-0.009661878</td><td>-0.022036557</td><td> 0.0009017388</td></tr>\n",
       "\t<tr><th scope=row>CALLAHAN,R.J.</th><td>-3.89138356</td><td>-3.110894543</td><td> 1.314876543</td><td>-0.018764248</td><td> 0.21284769</td><td> 0.0419396303</td><td>-0.046420276</td><td>-0.153019044</td><td> 0.072959759</td><td>-0.094455550</td><td>-0.025127771</td><td> 0.0873311317</td></tr>\n",
       "\t<tr><th scope=row>COHEN,S.S.</th><td> 7.99841189</td><td> 0.267888584</td><td>-0.507336497</td><td>-1.227736837</td><td>-0.07258545</td><td>-0.2385888732</td><td>-0.181235370</td><td>-0.059937870</td><td> 0.134253736</td><td>-0.033146639</td><td> 0.091568221</td><td> 0.0218655616</td></tr>\n",
       "\t<tr><th scope=row>DALY,J.J.</th><td>-3.65964531</td><td> 0.144943790</td><td> 0.094195447</td><td> 0.028960746</td><td>-0.29583854</td><td>-0.0969819070</td><td> 0.011887854</td><td> 0.146590548</td><td> 0.006526473</td><td>-0.091369624</td><td> 0.011234683</td><td>-0.0375220282</td></tr>\n",
       "\t<tr><th scope=row>DANNEHY,J.F.</th><td>-1.04788778</td><td>-1.135606571</td><td>-0.814579222</td><td> 0.003854039</td><td> 0.37949109</td><td> 0.2345704654</td><td>-0.261943894</td><td> 0.074970279</td><td>-0.096004824</td><td>-0.020954205</td><td> 0.011273794</td><td> 0.0017827969</td></tr>\n",
       "\t<tr><th scope=row>DEAN,H.H.</th><td> 0.33709338</td><td> 0.464999441</td><td> 0.058900793</td><td>-0.751658216</td><td>-0.11242247</td><td> 0.0422892179</td><td>-0.160087605</td><td>-0.015906093</td><td> 0.034269335</td><td>-0.036975822</td><td> 0.045887691</td><td>-0.0365390911</td></tr>\n",
       "\t<tr><th scope=row>DEVITA,H.J.</th><td> 1.44067526</td><td> 1.218375607</td><td> 0.384466586</td><td> 0.452235980</td><td>-0.12518210</td><td>-0.3135682951</td><td>-0.013853808</td><td> 0.102990057</td><td>-0.168016090</td><td>-0.099286743</td><td>-0.062916215</td><td> 0.0392446477</td></tr>\n",
       "\t<tr><th scope=row>DRISCOLL,P.J.</th><td> 0.66896509</td><td> 1.282675686</td><td> 1.239794532</td><td>-0.665294900</td><td> 0.65132507</td><td> 0.0848006774</td><td> 0.073357378</td><td> 0.388568866</td><td> 0.057807983</td><td> 0.151281184</td><td> 0.046659654</td><td> 0.0182757879</td></tr>\n",
       "\t<tr><th scope=row>GRILLO,A.E.</th><td> 3.22591748</td><td> 0.559403536</td><td>-0.023478046</td><td> 0.915125061</td><td> 0.02878954</td><td>-0.3315085264</td><td>-0.340410028</td><td>-0.049774146</td><td>-0.051552641</td><td> 0.081441817</td><td> 0.018842793</td><td> 0.0303515066</td></tr>\n",
       "\t<tr><th scope=row>HADDEN,W.L.JR.</th><td>-1.35295403</td><td> 0.838829042</td><td>-0.532444779</td><td>-0.225256379</td><td>-0.16775924</td><td>-0.1884860450</td><td> 0.110350351</td><td> 0.011223545</td><td>-0.036420861</td><td> 0.013478349</td><td>-0.116027430</td><td>-0.0060235240</td></tr>\n",
       "\t<tr><th scope=row>HAMILL,E.C.</th><td> 0.44482896</td><td> 0.180327619</td><td> 0.106039921</td><td>-0.192093511</td><td>-0.04601720</td><td> 0.2939367115</td><td> 0.046408433</td><td>-0.046811333</td><td>-0.091929866</td><td>-0.033427068</td><td>-0.002414615</td><td>-0.0696354274</td></tr>\n",
       "\t<tr><th scope=row>HEALEY.A.H.</th><td> 2.89780301</td><td>-0.379397570</td><td> 0.524823931</td><td> 0.450381779</td><td> 0.28726579</td><td> 0.4210698555</td><td> 0.173786456</td><td>-0.161432845</td><td>-0.099503351</td><td> 0.002305740</td><td> 0.002481062</td><td>-0.0051253992</td></tr>\n",
       "\t<tr><th scope=row>HULL,T.C.</th><td> 0.71794078</td><td>-0.457944683</td><td>-0.410564947</td><td>-0.286548296</td><td> 0.10280455</td><td> 0.1213794801</td><td>-0.244626896</td><td> 0.122849723</td><td>-0.090044320</td><td>-0.170597167</td><td> 0.010455887</td><td>-0.0728601628</td></tr>\n",
       "\t<tr><th scope=row>LEVINE,I.</th><td>-0.64128997</td><td>-0.893845438</td><td> 0.192938545</td><td> 0.175918267</td><td> 0.22924190</td><td> 0.0418932411</td><td>-0.171897077</td><td> 0.074269669</td><td>-0.153332051</td><td> 0.101820814</td><td> 0.084569052</td><td>-0.0069822027</td></tr>\n",
       "\t<tr><th scope=row>LEVISTER,R.L.</th><td> 4.35602343</td><td>-2.415966019</td><td> 0.254950161</td><td>-0.243850553</td><td>-0.25796823</td><td> 0.2588890180</td><td> 0.129317484</td><td> 0.234380552</td><td> 0.057330645</td><td> 0.080808578</td><td> 0.007094446</td><td> 0.0152944106</td></tr>\n",
       "\t<tr><th scope=row>MARTIN,L.F.</th><td> 1.81857291</td><td> 0.792542516</td><td> 1.118234290</td><td>-0.240319482</td><td> 0.14586908</td><td> 0.2764326747</td><td> 0.050828262</td><td>-0.025893427</td><td>-0.077654607</td><td>-0.113323809</td><td>-0.049838188</td><td>-0.0014624317</td></tr>\n",
       "\t<tr><th scope=row>MCGRATH,J.F.</th><td> 3.11914633</td><td>-0.117576569</td><td> 0.287871221</td><td>-0.436184110</td><td>-0.25999353</td><td>-0.0289770461</td><td> 0.151232397</td><td>-0.079635008</td><td> 0.021153991</td><td>-0.059978289</td><td>-0.045941749</td><td> 0.0198343803</td></tr>\n",
       "\t<tr><th scope=row>MIGNONE,A.F.</th><td> 6.35459761</td><td> 1.435778312</td><td> 0.925405154</td><td> 1.694394050</td><td> 0.12124901</td><td>-0.0942965186</td><td> 0.050942546</td><td>-0.043601498</td><td> 0.171266489</td><td>-0.022350067</td><td> 0.063143059</td><td>-0.0662822794</td></tr>\n",
       "\t<tr><th scope=row>MISSAL,H.M.</th><td> 0.08218287</td><td> 1.465958762</td><td> 0.251313810</td><td>-0.053701172</td><td>-0.26869606</td><td> 0.0771725303</td><td> 0.169688886</td><td> 0.109551552</td><td> 0.025699414</td><td>-0.046278658</td><td> 0.039343363</td><td> 0.0149977234</td></tr>\n",
       "\t<tr><th scope=row>MULVEY,H.M.</th><td>-3.35155302</td><td>-0.130803077</td><td>-0.122554855</td><td> 0.134324822</td><td>-0.02396325</td><td>-0.0757784669</td><td> 0.039687957</td><td> 0.120576589</td><td>-0.062465366</td><td> 0.030410251</td><td>-0.011643122</td><td> 0.0243869469</td></tr>\n",
       "\t<tr><th scope=row>NARUK,H.J.</th><td>-4.54888016</td><td>-0.474152684</td><td>-0.225635443</td><td> 0.246582743</td><td> 0.19452459</td><td>-0.1627861912</td><td>-0.082996609</td><td> 0.029519767</td><td> 0.044385659</td><td>-0.027573997</td><td>-0.026900829</td><td>-0.0173532786</td></tr>\n",
       "\t<tr><th scope=row>O'BRIEN,F.J.</th><td>-1.50009420</td><td> 0.422965769</td><td> 0.218985306</td><td>-0.114576855</td><td>-0.18739782</td><td>-0.0628189053</td><td>-0.008748507</td><td> 0.082109673</td><td>-0.031862615</td><td> 0.053075756</td><td>-0.026791275</td><td> 0.0962722571</td></tr>\n",
       "\t<tr><th scope=row>O'SULLIVAN,T.J.</th><td>-3.46995962</td><td>-0.001169151</td><td> 0.301651397</td><td> 0.028787349</td><td>-0.31562249</td><td> 0.0419802134</td><td>-0.068746706</td><td>-0.005959595</td><td> 0.161031626</td><td>-0.009363562</td><td>-0.062069907</td><td> 0.0149897649</td></tr>\n",
       "\t<tr><th scope=row>PASKEY,L.</th><td>-1.89318889</td><td>-0.243290772</td><td>-0.593637247</td><td> 0.164971164</td><td> 0.34899216</td><td>-0.1540524249</td><td> 0.053576784</td><td>-0.019551194</td><td>-0.015813354</td><td>-0.002017242</td><td> 0.045030415</td><td> 0.0443615193</td></tr>\n",
       "\t<tr><th scope=row>RUBINOW,J.E.</th><td>-4.77881831</td><td> 0.442828269</td><td> 0.002947455</td><td> 0.397266645</td><td> 0.42862489</td><td> 0.0167613056</td><td>-0.052193111</td><td>-0.121580871</td><td> 0.014775106</td><td> 0.048561561</td><td>-0.080132548</td><td>-0.0510988286</td></tr>\n",
       "\t<tr><th scope=row>SADEN.G.A.</th><td>-1.09912555</td><td> 0.340140418</td><td>-1.846459807</td><td> 0.175663982</td><td> 0.33115081</td><td> 0.0949003323</td><td> 0.446311662</td><td>-0.028944605</td><td> 0.003826142</td><td>-0.084634783</td><td> 0.121227942</td><td> 0.0443504176</td></tr>\n",
       "\t<tr><th scope=row>SATANIELLO,A.G.</th><td>-0.54233983</td><td>-1.010549922</td><td> 0.327794933</td><td>-0.084030798</td><td>-0.30667686</td><td>-0.0925027367</td><td> 0.147747501</td><td>-0.128600108</td><td>-0.097592542</td><td> 0.022897290</td><td> 0.012261482</td><td>-0.0217814185</td></tr>\n",
       "\t<tr><th scope=row>SHEA,D.M.</th><td>-2.58305047</td><td> 0.394836299</td><td>-0.670906316</td><td> 0.111109337</td><td> 0.27936379</td><td> 0.1911020749</td><td>-0.089847604</td><td> 0.062737539</td><td> 0.089904153</td><td> 0.009075151</td><td>-0.007561938</td><td>-0.0545116136</td></tr>\n",
       "\t<tr><th scope=row>SHEA,J.F.JR.</th><td>-3.59661129</td><td> 0.160319030</td><td> 0.063074149</td><td> 0.066117058</td><td>-0.12859723</td><td>-0.0197253554</td><td>-0.048651991</td><td>-0.024812230</td><td> 0.059981352</td><td> 0.016986656</td><td>-0.012137907</td><td> 0.0396775902</td></tr>\n",
       "\t<tr><th scope=row>SIDOR,W.J.</th><td> 6.86267423</td><td>-0.326512345</td><td>-0.223539990</td><td>-0.193097037</td><td> 0.39272570</td><td>-0.2252404152</td><td> 0.078211936</td><td>-0.094658809</td><td>-0.092912759</td><td> 0.026791382</td><td>-0.097065377</td><td>-0.0754182646</td></tr>\n",
       "\t<tr><th scope=row>SPEZIALE,J.A.</th><td>-2.02563865</td><td>-1.179257159</td><td> 0.096799714</td><td> 0.538847164</td><td>-0.19675847</td><td>-0.2750388588</td><td> 0.155081021</td><td> 0.123100969</td><td>-0.107227085</td><td> 0.090216706</td><td> 0.062818575</td><td>-0.0119487538</td></tr>\n",
       "\t<tr><th scope=row>SPONZO,M.J.</th><td>-1.20653232</td><td> 0.525702950</td><td>-0.152517934</td><td> 0.111379839</td><td>-0.28432243</td><td>-0.0091172669</td><td> 0.076640409</td><td> 0.037530283</td><td>-0.037412524</td><td> 0.092612755</td><td>-0.043416800</td><td>-0.0591061425</td></tr>\n",
       "\t<tr><th scope=row>STAPLETON,J.F.</th><td>-0.71990427</td><td> 0.904025478</td><td>-0.385888468</td><td>-0.388914568</td><td> 0.05031146</td><td> 0.1162176328</td><td>-0.001223657</td><td> 0.099579966</td><td> 0.191780133</td><td> 0.025786502</td><td>-0.075154360</td><td>-0.0303893210</td></tr>\n",
       "\t<tr><th scope=row>TESTO,R.J.</th><td> 2.10627832</td><td>-0.938516933</td><td> 0.212140800</td><td>-0.785805182</td><td> 0.05509681</td><td>-0.2141084516</td><td> 0.092137225</td><td>-0.041876523</td><td>-0.001824720</td><td>-0.044400499</td><td>-0.032758980</td><td>-0.0213157355</td></tr>\n",
       "\t<tr><th scope=row>TIERNEY,W.L.JR.</th><td>-1.35185243</td><td>-1.087567805</td><td>-0.091369799</td><td> 0.243278899</td><td>-0.76332403</td><td>-0.1018517683</td><td>-0.064918966</td><td> 0.174549705</td><td> 0.017910087</td><td>-0.092546802</td><td> 0.061236762</td><td>-0.0627938594</td></tr>\n",
       "\t<tr><th scope=row>WALL,R.A.</th><td> 2.58852864</td><td>-1.904358121</td><td>-0.425457947</td><td>-0.115794124</td><td> 0.24666383</td><td> 0.0124709913</td><td>-0.057849128</td><td>-0.074091944</td><td> 0.034663571</td><td> 0.068939377</td><td>-0.023180225</td><td>-0.0123417004</td></tr>\n",
       "\t<tr><th scope=row>WRIGHT,D.B.</th><td>-1.46295418</td><td> 0.549611549</td><td> 0.299660488</td><td>-0.111793223</td><td> 0.59836658</td><td>-0.3820213787</td><td> 0.033419611</td><td>-0.022081206</td><td> 0.058440648</td><td>-0.156447730</td><td> 0.020268712</td><td> 0.0528375280</td></tr>\n",
       "\t<tr><th scope=row>ZARRILLI,K.J.</th><td> 0.91567027</td><td>-1.423919791</td><td>-0.263911960</td><td> 0.001755516</td><td>-0.19330840</td><td>-0.2023318536</td><td> 0.131917575</td><td>-0.169450551</td><td> 0.125541256</td><td> 0.126476855</td><td>-0.015694950</td><td>-0.0268835640</td></tr>\n",
       "</tbody>\n",
       "</table>\n",
       "</dd>\n",
       "</dl>\n"
      ],
      "text/latex": [
       "\\begin{description}\n",
       "\\item[\\$sdev] \\begin{enumerate*}\n",
       "\\item 3.18331646657345\n",
       "\\item 1.05078398340642\n",
       "\\item 0.576976256272017\n",
       "\\item 0.503832314094371\n",
       "\\item 0.290607615087922\n",
       "\\item 0.193095982419044\n",
       "\\item 0.140295448731005\n",
       "\\item 0.124158318825053\n",
       "\\item 0.0885069038207208\n",
       "\\item 0.0749114592469205\n",
       "\\item 0.0570804224329125\n",
       "\\item 0.0453913429451875\n",
       "\\end{enumerate*}\n",
       "\n",
       "\\item[\\$rotation] A matrix: 12 × 12 of type dbl\n",
       "\\begin{tabular}{r|llllllllllll}\n",
       "  & PC1 & PC2 & PC3 & PC4 & PC5 & PC6 & PC7 & PC8 & PC9 & PC10 & PC11 & PC12\\\\\n",
       "\\hline\n",
       "\tCONT &  0.003075143 & -0.932890644 &  0.334756548 &  0.058576867 &  0.093438368 & -0.004064432 &  0.005214784 & -6.006597e-02 &  0.02514533 & -0.03038881 &  0.0145329260 & -0.007940919\\\\\n",
       "\tINTG & -0.288550775 &  0.182040993 &  0.549360126 &  0.173977074 & -0.014543880 &  0.369937339 & -0.449810741 &  3.341645e-01 &  0.27537794 &  0.10897641 & -0.1125535650 &  0.009848658\\\\\n",
       "\tDMNR & -0.286884206 &  0.197565743 &  0.556490386 & -0.124412022 & -0.228832817 & -0.394724667 &  0.466747889 & -2.470974e-01 &  0.19910004 & -0.07241282 &  0.1343234234 &  0.059121657\\\\\n",
       "\tDILG & -0.304354091 & -0.036304667 & -0.163629910 &  0.321395544 & -0.301936920 &  0.598676072 &  0.209710731 & -3.548587e-01 & -0.03977180 & -0.38339165 &  0.0709517642 &  0.053790339\\\\\n",
       "\tCFMG & -0.302572733 & -0.168393523 & -0.207341904 &  0.012949223 & -0.448430522 & -0.085728870 &  0.246903359 &  7.135261e-01 & -0.14342471 &  0.09850310 &  0.1658680927 &  0.025082947\\\\\n",
       "\tDECI & -0.301891969 & -0.127877299 & -0.297902771 &  0.030491779 & -0.424003128 & -0.392609484 & -0.536429933 & -3.024227e-01 &  0.25823773 &  0.06743847 & -0.1284999526 &  0.044141604\\\\\n",
       "\tPREP & -0.309406446 & -0.032230248 & -0.151869345 &  0.213656069 &  0.202853400 &  0.083216652 &  0.335390036 & -1.536754e-01 &  0.10876864 &  0.67986284 & -0.3187612119 & -0.273286884\\\\\n",
       "\tFAMI & -0.306679527 &  0.001315183 & -0.195290454 &  0.200651140 &  0.507470003 & -0.101538704 & -0.036378004 &  2.038889e-02 &  0.22306628 &  0.04004599 &  0.5733628652 &  0.421739844\\\\\n",
       "\tORAL & -0.312708348 &  0.003625720 & -0.002150634 & -0.007441042 &  0.246059421 & -0.150272440 &  0.057580177 &  9.062990e-02 & -0.29951714 & -0.25599455 & -0.6386061655 &  0.494391025\\\\\n",
       "\tWRIT & -0.311061231 &  0.031378756 & -0.056045596 &  0.137104995 &  0.305562842 & -0.238172386 & -0.060899994 &  1.261203e-01 & -0.02497324 & -0.47478254 &  0.0004056397 & -0.696107204\\\\\n",
       "\tPHYS & -0.280723624 & -0.089037698 & -0.154000444 & -0.841266046 &  0.118424976 &  0.299281534 &  0.024959951 & -1.364511e-05 &  0.26627286 & -0.05900837 & -0.0181381019 & -0.053783960\\\\\n",
       "\tRTEN & -0.309790218 &  0.039381306 &  0.172869757 & -0.184223629 &  0.006717911 &  0.036126847 & -0.256194180 & -2.213898e-01 & -0.75645893 &  0.24993250 &  0.2855143026 & -0.080267574\\\\\n",
       "\\end{tabular}\n",
       "\n",
       "\\item[\\$center] \\begin{description*}\n",
       "\\item[CONT] 7.43720930232558\n",
       "\\item[INTG] 8.02093023255814\n",
       "\\item[DMNR] 7.51627906976744\n",
       "\\item[DILG] 7.69302325581395\n",
       "\\item[CFMG] 7.47906976744186\n",
       "\\item[DECI] 7.56511627906977\n",
       "\\item[PREP] 7.46744186046512\n",
       "\\item[FAMI] 7.48837209302326\n",
       "\\item[ORAL] 7.29302325581395\n",
       "\\item[WRIT] 7.38372093023256\n",
       "\\item[PHYS] 7.93488372093023\n",
       "\\item[RTEN] 7.60232558139535\n",
       "\\end{description*}\n",
       "\n",
       "\\item[\\$scale] \\begin{description*}\n",
       "\\item[CONT] 0.940876808851837\n",
       "\\item[INTG] 0.770144741972598\n",
       "\\item[DMNR] 1.14370538842128\n",
       "\\item[DILG] 0.900897792637779\n",
       "\\item[CFMG] 0.860110219829242\n",
       "\\item[DECI] 0.802936195333291\n",
       "\\item[PREP] 0.95337019498313\n",
       "\\item[FAMI] 0.948986753464071\n",
       "\\item[ORAL] 1.01004369279307\n",
       "\\item[WRIT] 0.961132821840021\n",
       "\\item[PHYS] 0.939575314635043\n",
       "\\item[RTEN] 1.10097108047591\n",
       "\\end{description*}\n",
       "\n",
       "\\item[\\$x] A matrix: 43 × 12 of type dbl\n",
       "\\begin{tabular}{r|llllllllllll}\n",
       "  & PC1 & PC2 & PC3 & PC4 & PC5 & PC6 & PC7 & PC8 & PC9 & PC10 & PC11 & PC12\\\\\n",
       "\\hline\n",
       "\tAARONSON,L.H. &  0.58575085 &  1.813099496 & -0.258493450 & -0.885414654 & -0.19810313 & -0.0005757578 & -0.091378585 & -0.135269073 & -0.128575861 &  0.119341425 & -0.010913499 &  0.0598665378\\\\\n",
       "\tALEXANDER,J.M. & -2.38001153 &  0.867893241 &  0.460995510 & -0.059917965 & -0.30448920 &  0.2291020429 & -0.146934313 & -0.290680897 &  0.026883362 &  0.033482298 &  0.136780444 &  0.0064969215\\\\\n",
       "\tARMENTANO,A.J. & -0.22513903 &  0.298780266 &  0.100848411 &  0.022217708 & -0.13017390 & -0.0150672307 &  0.039344729 & -0.091744399 & -0.067418254 &  0.021651215 &  0.068652395 &  0.0016395476\\\\\n",
       "\tBERDON,R.I. & -3.61789929 &  0.589367196 & -0.420730823 &  0.197307875 &  0.08296828 &  0.0823548542 & -0.041250034 & -0.088524595 &  0.106836666 &  0.062934470 & -0.023813265 & -0.0034183317\\\\\n",
       "\tBRACKEN,J.J. &  6.87113152 & -0.135749491 & -0.955449401 &  1.069150774 & -0.30075003 &  0.3662956835 & -0.115683915 &  0.097222215 &  0.034938985 & -0.031586001 & -0.087292928 &  0.1160346423\\\\\n",
       "\tBURNS,E.B. & -2.44547915 &  1.405785788 &  0.086247837 & -0.148878688 & -0.22772257 &  0.2398656404 &  0.029021619 & -0.118483627 & -0.044602878 & -0.009661878 & -0.022036557 &  0.0009017388\\\\\n",
       "\tCALLAHAN,R.J. & -3.89138356 & -3.110894543 &  1.314876543 & -0.018764248 &  0.21284769 &  0.0419396303 & -0.046420276 & -0.153019044 &  0.072959759 & -0.094455550 & -0.025127771 &  0.0873311317\\\\\n",
       "\tCOHEN,S.S. &  7.99841189 &  0.267888584 & -0.507336497 & -1.227736837 & -0.07258545 & -0.2385888732 & -0.181235370 & -0.059937870 &  0.134253736 & -0.033146639 &  0.091568221 &  0.0218655616\\\\\n",
       "\tDALY,J.J. & -3.65964531 &  0.144943790 &  0.094195447 &  0.028960746 & -0.29583854 & -0.0969819070 &  0.011887854 &  0.146590548 &  0.006526473 & -0.091369624 &  0.011234683 & -0.0375220282\\\\\n",
       "\tDANNEHY,J.F. & -1.04788778 & -1.135606571 & -0.814579222 &  0.003854039 &  0.37949109 &  0.2345704654 & -0.261943894 &  0.074970279 & -0.096004824 & -0.020954205 &  0.011273794 &  0.0017827969\\\\\n",
       "\tDEAN,H.H. &  0.33709338 &  0.464999441 &  0.058900793 & -0.751658216 & -0.11242247 &  0.0422892179 & -0.160087605 & -0.015906093 &  0.034269335 & -0.036975822 &  0.045887691 & -0.0365390911\\\\\n",
       "\tDEVITA,H.J. &  1.44067526 &  1.218375607 &  0.384466586 &  0.452235980 & -0.12518210 & -0.3135682951 & -0.013853808 &  0.102990057 & -0.168016090 & -0.099286743 & -0.062916215 &  0.0392446477\\\\\n",
       "\tDRISCOLL,P.J. &  0.66896509 &  1.282675686 &  1.239794532 & -0.665294900 &  0.65132507 &  0.0848006774 &  0.073357378 &  0.388568866 &  0.057807983 &  0.151281184 &  0.046659654 &  0.0182757879\\\\\n",
       "\tGRILLO,A.E. &  3.22591748 &  0.559403536 & -0.023478046 &  0.915125061 &  0.02878954 & -0.3315085264 & -0.340410028 & -0.049774146 & -0.051552641 &  0.081441817 &  0.018842793 &  0.0303515066\\\\\n",
       "\tHADDEN,W.L.JR. & -1.35295403 &  0.838829042 & -0.532444779 & -0.225256379 & -0.16775924 & -0.1884860450 &  0.110350351 &  0.011223545 & -0.036420861 &  0.013478349 & -0.116027430 & -0.0060235240\\\\\n",
       "\tHAMILL,E.C. &  0.44482896 &  0.180327619 &  0.106039921 & -0.192093511 & -0.04601720 &  0.2939367115 &  0.046408433 & -0.046811333 & -0.091929866 & -0.033427068 & -0.002414615 & -0.0696354274\\\\\n",
       "\tHEALEY.A.H. &  2.89780301 & -0.379397570 &  0.524823931 &  0.450381779 &  0.28726579 &  0.4210698555 &  0.173786456 & -0.161432845 & -0.099503351 &  0.002305740 &  0.002481062 & -0.0051253992\\\\\n",
       "\tHULL,T.C. &  0.71794078 & -0.457944683 & -0.410564947 & -0.286548296 &  0.10280455 &  0.1213794801 & -0.244626896 &  0.122849723 & -0.090044320 & -0.170597167 &  0.010455887 & -0.0728601628\\\\\n",
       "\tLEVINE,I. & -0.64128997 & -0.893845438 &  0.192938545 &  0.175918267 &  0.22924190 &  0.0418932411 & -0.171897077 &  0.074269669 & -0.153332051 &  0.101820814 &  0.084569052 & -0.0069822027\\\\\n",
       "\tLEVISTER,R.L. &  4.35602343 & -2.415966019 &  0.254950161 & -0.243850553 & -0.25796823 &  0.2588890180 &  0.129317484 &  0.234380552 &  0.057330645 &  0.080808578 &  0.007094446 &  0.0152944106\\\\\n",
       "\tMARTIN,L.F. &  1.81857291 &  0.792542516 &  1.118234290 & -0.240319482 &  0.14586908 &  0.2764326747 &  0.050828262 & -0.025893427 & -0.077654607 & -0.113323809 & -0.049838188 & -0.0014624317\\\\\n",
       "\tMCGRATH,J.F. &  3.11914633 & -0.117576569 &  0.287871221 & -0.436184110 & -0.25999353 & -0.0289770461 &  0.151232397 & -0.079635008 &  0.021153991 & -0.059978289 & -0.045941749 &  0.0198343803\\\\\n",
       "\tMIGNONE,A.F. &  6.35459761 &  1.435778312 &  0.925405154 &  1.694394050 &  0.12124901 & -0.0942965186 &  0.050942546 & -0.043601498 &  0.171266489 & -0.022350067 &  0.063143059 & -0.0662822794\\\\\n",
       "\tMISSAL,H.M. &  0.08218287 &  1.465958762 &  0.251313810 & -0.053701172 & -0.26869606 &  0.0771725303 &  0.169688886 &  0.109551552 &  0.025699414 & -0.046278658 &  0.039343363 &  0.0149977234\\\\\n",
       "\tMULVEY,H.M. & -3.35155302 & -0.130803077 & -0.122554855 &  0.134324822 & -0.02396325 & -0.0757784669 &  0.039687957 &  0.120576589 & -0.062465366 &  0.030410251 & -0.011643122 &  0.0243869469\\\\\n",
       "\tNARUK,H.J. & -4.54888016 & -0.474152684 & -0.225635443 &  0.246582743 &  0.19452459 & -0.1627861912 & -0.082996609 &  0.029519767 &  0.044385659 & -0.027573997 & -0.026900829 & -0.0173532786\\\\\n",
       "\tO'BRIEN,F.J. & -1.50009420 &  0.422965769 &  0.218985306 & -0.114576855 & -0.18739782 & -0.0628189053 & -0.008748507 &  0.082109673 & -0.031862615 &  0.053075756 & -0.026791275 &  0.0962722571\\\\\n",
       "\tO'SULLIVAN,T.J. & -3.46995962 & -0.001169151 &  0.301651397 &  0.028787349 & -0.31562249 &  0.0419802134 & -0.068746706 & -0.005959595 &  0.161031626 & -0.009363562 & -0.062069907 &  0.0149897649\\\\\n",
       "\tPASKEY,L. & -1.89318889 & -0.243290772 & -0.593637247 &  0.164971164 &  0.34899216 & -0.1540524249 &  0.053576784 & -0.019551194 & -0.015813354 & -0.002017242 &  0.045030415 &  0.0443615193\\\\\n",
       "\tRUBINOW,J.E. & -4.77881831 &  0.442828269 &  0.002947455 &  0.397266645 &  0.42862489 &  0.0167613056 & -0.052193111 & -0.121580871 &  0.014775106 &  0.048561561 & -0.080132548 & -0.0510988286\\\\\n",
       "\tSADEN.G.A. & -1.09912555 &  0.340140418 & -1.846459807 &  0.175663982 &  0.33115081 &  0.0949003323 &  0.446311662 & -0.028944605 &  0.003826142 & -0.084634783 &  0.121227942 &  0.0443504176\\\\\n",
       "\tSATANIELLO,A.G. & -0.54233983 & -1.010549922 &  0.327794933 & -0.084030798 & -0.30667686 & -0.0925027367 &  0.147747501 & -0.128600108 & -0.097592542 &  0.022897290 &  0.012261482 & -0.0217814185\\\\\n",
       "\tSHEA,D.M. & -2.58305047 &  0.394836299 & -0.670906316 &  0.111109337 &  0.27936379 &  0.1911020749 & -0.089847604 &  0.062737539 &  0.089904153 &  0.009075151 & -0.007561938 & -0.0545116136\\\\\n",
       "\tSHEA,J.F.JR. & -3.59661129 &  0.160319030 &  0.063074149 &  0.066117058 & -0.12859723 & -0.0197253554 & -0.048651991 & -0.024812230 &  0.059981352 &  0.016986656 & -0.012137907 &  0.0396775902\\\\\n",
       "\tSIDOR,W.J. &  6.86267423 & -0.326512345 & -0.223539990 & -0.193097037 &  0.39272570 & -0.2252404152 &  0.078211936 & -0.094658809 & -0.092912759 &  0.026791382 & -0.097065377 & -0.0754182646\\\\\n",
       "\tSPEZIALE,J.A. & -2.02563865 & -1.179257159 &  0.096799714 &  0.538847164 & -0.19675847 & -0.2750388588 &  0.155081021 &  0.123100969 & -0.107227085 &  0.090216706 &  0.062818575 & -0.0119487538\\\\\n",
       "\tSPONZO,M.J. & -1.20653232 &  0.525702950 & -0.152517934 &  0.111379839 & -0.28432243 & -0.0091172669 &  0.076640409 &  0.037530283 & -0.037412524 &  0.092612755 & -0.043416800 & -0.0591061425\\\\\n",
       "\tSTAPLETON,J.F. & -0.71990427 &  0.904025478 & -0.385888468 & -0.388914568 &  0.05031146 &  0.1162176328 & -0.001223657 &  0.099579966 &  0.191780133 &  0.025786502 & -0.075154360 & -0.0303893210\\\\\n",
       "\tTESTO,R.J. &  2.10627832 & -0.938516933 &  0.212140800 & -0.785805182 &  0.05509681 & -0.2141084516 &  0.092137225 & -0.041876523 & -0.001824720 & -0.044400499 & -0.032758980 & -0.0213157355\\\\\n",
       "\tTIERNEY,W.L.JR. & -1.35185243 & -1.087567805 & -0.091369799 &  0.243278899 & -0.76332403 & -0.1018517683 & -0.064918966 &  0.174549705 &  0.017910087 & -0.092546802 &  0.061236762 & -0.0627938594\\\\\n",
       "\tWALL,R.A. &  2.58852864 & -1.904358121 & -0.425457947 & -0.115794124 &  0.24666383 &  0.0124709913 & -0.057849128 & -0.074091944 &  0.034663571 &  0.068939377 & -0.023180225 & -0.0123417004\\\\\n",
       "\tWRIGHT,D.B. & -1.46295418 &  0.549611549 &  0.299660488 & -0.111793223 &  0.59836658 & -0.3820213787 &  0.033419611 & -0.022081206 &  0.058440648 & -0.156447730 &  0.020268712 &  0.0528375280\\\\\n",
       "\tZARRILLI,K.J. &  0.91567027 & -1.423919791 & -0.263911960 &  0.001755516 & -0.19330840 & -0.2023318536 &  0.131917575 & -0.169450551 &  0.125541256 &  0.126476855 & -0.015694950 & -0.0268835640\\\\\n",
       "\\end{tabular}\n",
       "\n",
       "\\end{description}\n"
      ],
      "text/markdown": [
       "$sdev\n",
       ":   1. 3.18331646657345\n",
       "2. 1.05078398340642\n",
       "3. 0.576976256272017\n",
       "4. 0.503832314094371\n",
       "5. 0.290607615087922\n",
       "6. 0.193095982419044\n",
       "7. 0.140295448731005\n",
       "8. 0.124158318825053\n",
       "9. 0.0885069038207208\n",
       "10. 0.0749114592469205\n",
       "11. 0.0570804224329125\n",
       "12. 0.0453913429451875\n",
       "\n",
       "\n",
       "\n",
       "$rotation\n",
       ":   \n",
       "A matrix: 12 × 12 of type dbl\n",
       "\n",
       "| <!--/--> | PC1 | PC2 | PC3 | PC4 | PC5 | PC6 | PC7 | PC8 | PC9 | PC10 | PC11 | PC12 |\n",
       "|---|---|---|---|---|---|---|---|---|---|---|---|---|\n",
       "| CONT |  0.003075143 | -0.932890644 |  0.334756548 |  0.058576867 |  0.093438368 | -0.004064432 |  0.005214784 | -6.006597e-02 |  0.02514533 | -0.03038881 |  0.0145329260 | -0.007940919 |\n",
       "| INTG | -0.288550775 |  0.182040993 |  0.549360126 |  0.173977074 | -0.014543880 |  0.369937339 | -0.449810741 |  3.341645e-01 |  0.27537794 |  0.10897641 | -0.1125535650 |  0.009848658 |\n",
       "| DMNR | -0.286884206 |  0.197565743 |  0.556490386 | -0.124412022 | -0.228832817 | -0.394724667 |  0.466747889 | -2.470974e-01 |  0.19910004 | -0.07241282 |  0.1343234234 |  0.059121657 |\n",
       "| DILG | -0.304354091 | -0.036304667 | -0.163629910 |  0.321395544 | -0.301936920 |  0.598676072 |  0.209710731 | -3.548587e-01 | -0.03977180 | -0.38339165 |  0.0709517642 |  0.053790339 |\n",
       "| CFMG | -0.302572733 | -0.168393523 | -0.207341904 |  0.012949223 | -0.448430522 | -0.085728870 |  0.246903359 |  7.135261e-01 | -0.14342471 |  0.09850310 |  0.1658680927 |  0.025082947 |\n",
       "| DECI | -0.301891969 | -0.127877299 | -0.297902771 |  0.030491779 | -0.424003128 | -0.392609484 | -0.536429933 | -3.024227e-01 |  0.25823773 |  0.06743847 | -0.1284999526 |  0.044141604 |\n",
       "| PREP | -0.309406446 | -0.032230248 | -0.151869345 |  0.213656069 |  0.202853400 |  0.083216652 |  0.335390036 | -1.536754e-01 |  0.10876864 |  0.67986284 | -0.3187612119 | -0.273286884 |\n",
       "| FAMI | -0.306679527 |  0.001315183 | -0.195290454 |  0.200651140 |  0.507470003 | -0.101538704 | -0.036378004 |  2.038889e-02 |  0.22306628 |  0.04004599 |  0.5733628652 |  0.421739844 |\n",
       "| ORAL | -0.312708348 |  0.003625720 | -0.002150634 | -0.007441042 |  0.246059421 | -0.150272440 |  0.057580177 |  9.062990e-02 | -0.29951714 | -0.25599455 | -0.6386061655 |  0.494391025 |\n",
       "| WRIT | -0.311061231 |  0.031378756 | -0.056045596 |  0.137104995 |  0.305562842 | -0.238172386 | -0.060899994 |  1.261203e-01 | -0.02497324 | -0.47478254 |  0.0004056397 | -0.696107204 |\n",
       "| PHYS | -0.280723624 | -0.089037698 | -0.154000444 | -0.841266046 |  0.118424976 |  0.299281534 |  0.024959951 | -1.364511e-05 |  0.26627286 | -0.05900837 | -0.0181381019 | -0.053783960 |\n",
       "| RTEN | -0.309790218 |  0.039381306 |  0.172869757 | -0.184223629 |  0.006717911 |  0.036126847 | -0.256194180 | -2.213898e-01 | -0.75645893 |  0.24993250 |  0.2855143026 | -0.080267574 |\n",
       "\n",
       "\n",
       "$center\n",
       ":   CONT\n",
       ":   7.43720930232558INTG\n",
       ":   8.02093023255814DMNR\n",
       ":   7.51627906976744DILG\n",
       ":   7.69302325581395CFMG\n",
       ":   7.47906976744186DECI\n",
       ":   7.56511627906977PREP\n",
       ":   7.46744186046512FAMI\n",
       ":   7.48837209302326ORAL\n",
       ":   7.29302325581395WRIT\n",
       ":   7.38372093023256PHYS\n",
       ":   7.93488372093023RTEN\n",
       ":   7.60232558139535\n",
       "\n",
       "\n",
       "$scale\n",
       ":   CONT\n",
       ":   0.940876808851837INTG\n",
       ":   0.770144741972598DMNR\n",
       ":   1.14370538842128DILG\n",
       ":   0.900897792637779CFMG\n",
       ":   0.860110219829242DECI\n",
       ":   0.802936195333291PREP\n",
       ":   0.95337019498313FAMI\n",
       ":   0.948986753464071ORAL\n",
       ":   1.01004369279307WRIT\n",
       ":   0.961132821840021PHYS\n",
       ":   0.939575314635043RTEN\n",
       ":   1.10097108047591\n",
       "\n",
       "\n",
       "$x\n",
       ":   \n",
       "A matrix: 43 × 12 of type dbl\n",
       "\n",
       "| <!--/--> | PC1 | PC2 | PC3 | PC4 | PC5 | PC6 | PC7 | PC8 | PC9 | PC10 | PC11 | PC12 |\n",
       "|---|---|---|---|---|---|---|---|---|---|---|---|---|\n",
       "| AARONSON,L.H. |  0.58575085 |  1.813099496 | -0.258493450 | -0.885414654 | -0.19810313 | -0.0005757578 | -0.091378585 | -0.135269073 | -0.128575861 |  0.119341425 | -0.010913499 |  0.0598665378 |\n",
       "| ALEXANDER,J.M. | -2.38001153 |  0.867893241 |  0.460995510 | -0.059917965 | -0.30448920 |  0.2291020429 | -0.146934313 | -0.290680897 |  0.026883362 |  0.033482298 |  0.136780444 |  0.0064969215 |\n",
       "| ARMENTANO,A.J. | -0.22513903 |  0.298780266 |  0.100848411 |  0.022217708 | -0.13017390 | -0.0150672307 |  0.039344729 | -0.091744399 | -0.067418254 |  0.021651215 |  0.068652395 |  0.0016395476 |\n",
       "| BERDON,R.I. | -3.61789929 |  0.589367196 | -0.420730823 |  0.197307875 |  0.08296828 |  0.0823548542 | -0.041250034 | -0.088524595 |  0.106836666 |  0.062934470 | -0.023813265 | -0.0034183317 |\n",
       "| BRACKEN,J.J. |  6.87113152 | -0.135749491 | -0.955449401 |  1.069150774 | -0.30075003 |  0.3662956835 | -0.115683915 |  0.097222215 |  0.034938985 | -0.031586001 | -0.087292928 |  0.1160346423 |\n",
       "| BURNS,E.B. | -2.44547915 |  1.405785788 |  0.086247837 | -0.148878688 | -0.22772257 |  0.2398656404 |  0.029021619 | -0.118483627 | -0.044602878 | -0.009661878 | -0.022036557 |  0.0009017388 |\n",
       "| CALLAHAN,R.J. | -3.89138356 | -3.110894543 |  1.314876543 | -0.018764248 |  0.21284769 |  0.0419396303 | -0.046420276 | -0.153019044 |  0.072959759 | -0.094455550 | -0.025127771 |  0.0873311317 |\n",
       "| COHEN,S.S. |  7.99841189 |  0.267888584 | -0.507336497 | -1.227736837 | -0.07258545 | -0.2385888732 | -0.181235370 | -0.059937870 |  0.134253736 | -0.033146639 |  0.091568221 |  0.0218655616 |\n",
       "| DALY,J.J. | -3.65964531 |  0.144943790 |  0.094195447 |  0.028960746 | -0.29583854 | -0.0969819070 |  0.011887854 |  0.146590548 |  0.006526473 | -0.091369624 |  0.011234683 | -0.0375220282 |\n",
       "| DANNEHY,J.F. | -1.04788778 | -1.135606571 | -0.814579222 |  0.003854039 |  0.37949109 |  0.2345704654 | -0.261943894 |  0.074970279 | -0.096004824 | -0.020954205 |  0.011273794 |  0.0017827969 |\n",
       "| DEAN,H.H. |  0.33709338 |  0.464999441 |  0.058900793 | -0.751658216 | -0.11242247 |  0.0422892179 | -0.160087605 | -0.015906093 |  0.034269335 | -0.036975822 |  0.045887691 | -0.0365390911 |\n",
       "| DEVITA,H.J. |  1.44067526 |  1.218375607 |  0.384466586 |  0.452235980 | -0.12518210 | -0.3135682951 | -0.013853808 |  0.102990057 | -0.168016090 | -0.099286743 | -0.062916215 |  0.0392446477 |\n",
       "| DRISCOLL,P.J. |  0.66896509 |  1.282675686 |  1.239794532 | -0.665294900 |  0.65132507 |  0.0848006774 |  0.073357378 |  0.388568866 |  0.057807983 |  0.151281184 |  0.046659654 |  0.0182757879 |\n",
       "| GRILLO,A.E. |  3.22591748 |  0.559403536 | -0.023478046 |  0.915125061 |  0.02878954 | -0.3315085264 | -0.340410028 | -0.049774146 | -0.051552641 |  0.081441817 |  0.018842793 |  0.0303515066 |\n",
       "| HADDEN,W.L.JR. | -1.35295403 |  0.838829042 | -0.532444779 | -0.225256379 | -0.16775924 | -0.1884860450 |  0.110350351 |  0.011223545 | -0.036420861 |  0.013478349 | -0.116027430 | -0.0060235240 |\n",
       "| HAMILL,E.C. |  0.44482896 |  0.180327619 |  0.106039921 | -0.192093511 | -0.04601720 |  0.2939367115 |  0.046408433 | -0.046811333 | -0.091929866 | -0.033427068 | -0.002414615 | -0.0696354274 |\n",
       "| HEALEY.A.H. |  2.89780301 | -0.379397570 |  0.524823931 |  0.450381779 |  0.28726579 |  0.4210698555 |  0.173786456 | -0.161432845 | -0.099503351 |  0.002305740 |  0.002481062 | -0.0051253992 |\n",
       "| HULL,T.C. |  0.71794078 | -0.457944683 | -0.410564947 | -0.286548296 |  0.10280455 |  0.1213794801 | -0.244626896 |  0.122849723 | -0.090044320 | -0.170597167 |  0.010455887 | -0.0728601628 |\n",
       "| LEVINE,I. | -0.64128997 | -0.893845438 |  0.192938545 |  0.175918267 |  0.22924190 |  0.0418932411 | -0.171897077 |  0.074269669 | -0.153332051 |  0.101820814 |  0.084569052 | -0.0069822027 |\n",
       "| LEVISTER,R.L. |  4.35602343 | -2.415966019 |  0.254950161 | -0.243850553 | -0.25796823 |  0.2588890180 |  0.129317484 |  0.234380552 |  0.057330645 |  0.080808578 |  0.007094446 |  0.0152944106 |\n",
       "| MARTIN,L.F. |  1.81857291 |  0.792542516 |  1.118234290 | -0.240319482 |  0.14586908 |  0.2764326747 |  0.050828262 | -0.025893427 | -0.077654607 | -0.113323809 | -0.049838188 | -0.0014624317 |\n",
       "| MCGRATH,J.F. |  3.11914633 | -0.117576569 |  0.287871221 | -0.436184110 | -0.25999353 | -0.0289770461 |  0.151232397 | -0.079635008 |  0.021153991 | -0.059978289 | -0.045941749 |  0.0198343803 |\n",
       "| MIGNONE,A.F. |  6.35459761 |  1.435778312 |  0.925405154 |  1.694394050 |  0.12124901 | -0.0942965186 |  0.050942546 | -0.043601498 |  0.171266489 | -0.022350067 |  0.063143059 | -0.0662822794 |\n",
       "| MISSAL,H.M. |  0.08218287 |  1.465958762 |  0.251313810 | -0.053701172 | -0.26869606 |  0.0771725303 |  0.169688886 |  0.109551552 |  0.025699414 | -0.046278658 |  0.039343363 |  0.0149977234 |\n",
       "| MULVEY,H.M. | -3.35155302 | -0.130803077 | -0.122554855 |  0.134324822 | -0.02396325 | -0.0757784669 |  0.039687957 |  0.120576589 | -0.062465366 |  0.030410251 | -0.011643122 |  0.0243869469 |\n",
       "| NARUK,H.J. | -4.54888016 | -0.474152684 | -0.225635443 |  0.246582743 |  0.19452459 | -0.1627861912 | -0.082996609 |  0.029519767 |  0.044385659 | -0.027573997 | -0.026900829 | -0.0173532786 |\n",
       "| O'BRIEN,F.J. | -1.50009420 |  0.422965769 |  0.218985306 | -0.114576855 | -0.18739782 | -0.0628189053 | -0.008748507 |  0.082109673 | -0.031862615 |  0.053075756 | -0.026791275 |  0.0962722571 |\n",
       "| O'SULLIVAN,T.J. | -3.46995962 | -0.001169151 |  0.301651397 |  0.028787349 | -0.31562249 |  0.0419802134 | -0.068746706 | -0.005959595 |  0.161031626 | -0.009363562 | -0.062069907 |  0.0149897649 |\n",
       "| PASKEY,L. | -1.89318889 | -0.243290772 | -0.593637247 |  0.164971164 |  0.34899216 | -0.1540524249 |  0.053576784 | -0.019551194 | -0.015813354 | -0.002017242 |  0.045030415 |  0.0443615193 |\n",
       "| RUBINOW,J.E. | -4.77881831 |  0.442828269 |  0.002947455 |  0.397266645 |  0.42862489 |  0.0167613056 | -0.052193111 | -0.121580871 |  0.014775106 |  0.048561561 | -0.080132548 | -0.0510988286 |\n",
       "| SADEN.G.A. | -1.09912555 |  0.340140418 | -1.846459807 |  0.175663982 |  0.33115081 |  0.0949003323 |  0.446311662 | -0.028944605 |  0.003826142 | -0.084634783 |  0.121227942 |  0.0443504176 |\n",
       "| SATANIELLO,A.G. | -0.54233983 | -1.010549922 |  0.327794933 | -0.084030798 | -0.30667686 | -0.0925027367 |  0.147747501 | -0.128600108 | -0.097592542 |  0.022897290 |  0.012261482 | -0.0217814185 |\n",
       "| SHEA,D.M. | -2.58305047 |  0.394836299 | -0.670906316 |  0.111109337 |  0.27936379 |  0.1911020749 | -0.089847604 |  0.062737539 |  0.089904153 |  0.009075151 | -0.007561938 | -0.0545116136 |\n",
       "| SHEA,J.F.JR. | -3.59661129 |  0.160319030 |  0.063074149 |  0.066117058 | -0.12859723 | -0.0197253554 | -0.048651991 | -0.024812230 |  0.059981352 |  0.016986656 | -0.012137907 |  0.0396775902 |\n",
       "| SIDOR,W.J. |  6.86267423 | -0.326512345 | -0.223539990 | -0.193097037 |  0.39272570 | -0.2252404152 |  0.078211936 | -0.094658809 | -0.092912759 |  0.026791382 | -0.097065377 | -0.0754182646 |\n",
       "| SPEZIALE,J.A. | -2.02563865 | -1.179257159 |  0.096799714 |  0.538847164 | -0.19675847 | -0.2750388588 |  0.155081021 |  0.123100969 | -0.107227085 |  0.090216706 |  0.062818575 | -0.0119487538 |\n",
       "| SPONZO,M.J. | -1.20653232 |  0.525702950 | -0.152517934 |  0.111379839 | -0.28432243 | -0.0091172669 |  0.076640409 |  0.037530283 | -0.037412524 |  0.092612755 | -0.043416800 | -0.0591061425 |\n",
       "| STAPLETON,J.F. | -0.71990427 |  0.904025478 | -0.385888468 | -0.388914568 |  0.05031146 |  0.1162176328 | -0.001223657 |  0.099579966 |  0.191780133 |  0.025786502 | -0.075154360 | -0.0303893210 |\n",
       "| TESTO,R.J. |  2.10627832 | -0.938516933 |  0.212140800 | -0.785805182 |  0.05509681 | -0.2141084516 |  0.092137225 | -0.041876523 | -0.001824720 | -0.044400499 | -0.032758980 | -0.0213157355 |\n",
       "| TIERNEY,W.L.JR. | -1.35185243 | -1.087567805 | -0.091369799 |  0.243278899 | -0.76332403 | -0.1018517683 | -0.064918966 |  0.174549705 |  0.017910087 | -0.092546802 |  0.061236762 | -0.0627938594 |\n",
       "| WALL,R.A. |  2.58852864 | -1.904358121 | -0.425457947 | -0.115794124 |  0.24666383 |  0.0124709913 | -0.057849128 | -0.074091944 |  0.034663571 |  0.068939377 | -0.023180225 | -0.0123417004 |\n",
       "| WRIGHT,D.B. | -1.46295418 |  0.549611549 |  0.299660488 | -0.111793223 |  0.59836658 | -0.3820213787 |  0.033419611 | -0.022081206 |  0.058440648 | -0.156447730 |  0.020268712 |  0.0528375280 |\n",
       "| ZARRILLI,K.J. |  0.91567027 | -1.423919791 | -0.263911960 |  0.001755516 | -0.19330840 | -0.2023318536 |  0.131917575 | -0.169450551 |  0.125541256 |  0.126476855 | -0.015694950 | -0.0268835640 |\n",
       "\n",
       "\n",
       "\n",
       "\n"
      ],
      "text/plain": [
       "$sdev\n",
       " [1] 3.18331647 1.05078398 0.57697626 0.50383231 0.29060762 0.19309598\n",
       " [7] 0.14029545 0.12415832 0.08850690 0.07491146 0.05708042 0.04539134\n",
       "\n",
       "$rotation\n",
       "              PC1          PC2          PC3          PC4          PC5\n",
       "CONT  0.003075143 -0.932890644  0.334756548  0.058576867  0.093438368\n",
       "INTG -0.288550775  0.182040993  0.549360126  0.173977074 -0.014543880\n",
       "DMNR -0.286884206  0.197565743  0.556490386 -0.124412022 -0.228832817\n",
       "DILG -0.304354091 -0.036304667 -0.163629910  0.321395544 -0.301936920\n",
       "CFMG -0.302572733 -0.168393523 -0.207341904  0.012949223 -0.448430522\n",
       "DECI -0.301891969 -0.127877299 -0.297902771  0.030491779 -0.424003128\n",
       "PREP -0.309406446 -0.032230248 -0.151869345  0.213656069  0.202853400\n",
       "FAMI -0.306679527  0.001315183 -0.195290454  0.200651140  0.507470003\n",
       "ORAL -0.312708348  0.003625720 -0.002150634 -0.007441042  0.246059421\n",
       "WRIT -0.311061231  0.031378756 -0.056045596  0.137104995  0.305562842\n",
       "PHYS -0.280723624 -0.089037698 -0.154000444 -0.841266046  0.118424976\n",
       "RTEN -0.309790218  0.039381306  0.172869757 -0.184223629  0.006717911\n",
       "              PC6          PC7           PC8         PC9        PC10\n",
       "CONT -0.004064432  0.005214784 -6.006597e-02  0.02514533 -0.03038881\n",
       "INTG  0.369937339 -0.449810741  3.341645e-01  0.27537794  0.10897641\n",
       "DMNR -0.394724667  0.466747889 -2.470974e-01  0.19910004 -0.07241282\n",
       "DILG  0.598676072  0.209710731 -3.548587e-01 -0.03977180 -0.38339165\n",
       "CFMG -0.085728870  0.246903359  7.135261e-01 -0.14342471  0.09850310\n",
       "DECI -0.392609484 -0.536429933 -3.024227e-01  0.25823773  0.06743847\n",
       "PREP  0.083216652  0.335390036 -1.536754e-01  0.10876864  0.67986284\n",
       "FAMI -0.101538704 -0.036378004  2.038889e-02  0.22306628  0.04004599\n",
       "ORAL -0.150272440  0.057580177  9.062990e-02 -0.29951714 -0.25599455\n",
       "WRIT -0.238172386 -0.060899994  1.261203e-01 -0.02497324 -0.47478254\n",
       "PHYS  0.299281534  0.024959951 -1.364511e-05  0.26627286 -0.05900837\n",
       "RTEN  0.036126847 -0.256194180 -2.213898e-01 -0.75645893  0.24993250\n",
       "              PC11         PC12\n",
       "CONT  0.0145329260 -0.007940919\n",
       "INTG -0.1125535650  0.009848658\n",
       "DMNR  0.1343234234  0.059121657\n",
       "DILG  0.0709517642  0.053790339\n",
       "CFMG  0.1658680927  0.025082947\n",
       "DECI -0.1284999526  0.044141604\n",
       "PREP -0.3187612119 -0.273286884\n",
       "FAMI  0.5733628652  0.421739844\n",
       "ORAL -0.6386061655  0.494391025\n",
       "WRIT  0.0004056397 -0.696107204\n",
       "PHYS -0.0181381019 -0.053783960\n",
       "RTEN  0.2855143026 -0.080267574\n",
       "\n",
       "$center\n",
       "    CONT     INTG     DMNR     DILG     CFMG     DECI     PREP     FAMI \n",
       "7.437209 8.020930 7.516279 7.693023 7.479070 7.565116 7.467442 7.488372 \n",
       "    ORAL     WRIT     PHYS     RTEN \n",
       "7.293023 7.383721 7.934884 7.602326 \n",
       "\n",
       "$scale\n",
       "     CONT      INTG      DMNR      DILG      CFMG      DECI      PREP      FAMI \n",
       "0.9408768 0.7701447 1.1437054 0.9008978 0.8601102 0.8029362 0.9533702 0.9489868 \n",
       "     ORAL      WRIT      PHYS      RTEN \n",
       "1.0100437 0.9611328 0.9395753 1.1009711 \n",
       "\n",
       "$x\n",
       "                        PC1          PC2          PC3          PC4         PC5\n",
       "AARONSON,L.H.    0.58575085  1.813099496 -0.258493450 -0.885414654 -0.19810313\n",
       "ALEXANDER,J.M.  -2.38001153  0.867893241  0.460995510 -0.059917965 -0.30448920\n",
       "ARMENTANO,A.J.  -0.22513903  0.298780266  0.100848411  0.022217708 -0.13017390\n",
       "BERDON,R.I.     -3.61789929  0.589367196 -0.420730823  0.197307875  0.08296828\n",
       "BRACKEN,J.J.     6.87113152 -0.135749491 -0.955449401  1.069150774 -0.30075003\n",
       "BURNS,E.B.      -2.44547915  1.405785788  0.086247837 -0.148878688 -0.22772257\n",
       "CALLAHAN,R.J.   -3.89138356 -3.110894543  1.314876543 -0.018764248  0.21284769\n",
       "COHEN,S.S.       7.99841189  0.267888584 -0.507336497 -1.227736837 -0.07258545\n",
       "DALY,J.J.       -3.65964531  0.144943790  0.094195447  0.028960746 -0.29583854\n",
       "DANNEHY,J.F.    -1.04788778 -1.135606571 -0.814579222  0.003854039  0.37949109\n",
       "DEAN,H.H.        0.33709338  0.464999441  0.058900793 -0.751658216 -0.11242247\n",
       "DEVITA,H.J.      1.44067526  1.218375607  0.384466586  0.452235980 -0.12518210\n",
       "DRISCOLL,P.J.    0.66896509  1.282675686  1.239794532 -0.665294900  0.65132507\n",
       "GRILLO,A.E.      3.22591748  0.559403536 -0.023478046  0.915125061  0.02878954\n",
       "HADDEN,W.L.JR.  -1.35295403  0.838829042 -0.532444779 -0.225256379 -0.16775924\n",
       "HAMILL,E.C.      0.44482896  0.180327619  0.106039921 -0.192093511 -0.04601720\n",
       "HEALEY.A.H.      2.89780301 -0.379397570  0.524823931  0.450381779  0.28726579\n",
       "HULL,T.C.        0.71794078 -0.457944683 -0.410564947 -0.286548296  0.10280455\n",
       "LEVINE,I.       -0.64128997 -0.893845438  0.192938545  0.175918267  0.22924190\n",
       "LEVISTER,R.L.    4.35602343 -2.415966019  0.254950161 -0.243850553 -0.25796823\n",
       "MARTIN,L.F.      1.81857291  0.792542516  1.118234290 -0.240319482  0.14586908\n",
       "MCGRATH,J.F.     3.11914633 -0.117576569  0.287871221 -0.436184110 -0.25999353\n",
       "MIGNONE,A.F.     6.35459761  1.435778312  0.925405154  1.694394050  0.12124901\n",
       "MISSAL,H.M.      0.08218287  1.465958762  0.251313810 -0.053701172 -0.26869606\n",
       "MULVEY,H.M.     -3.35155302 -0.130803077 -0.122554855  0.134324822 -0.02396325\n",
       "NARUK,H.J.      -4.54888016 -0.474152684 -0.225635443  0.246582743  0.19452459\n",
       "O'BRIEN,F.J.    -1.50009420  0.422965769  0.218985306 -0.114576855 -0.18739782\n",
       "O'SULLIVAN,T.J. -3.46995962 -0.001169151  0.301651397  0.028787349 -0.31562249\n",
       "PASKEY,L.       -1.89318889 -0.243290772 -0.593637247  0.164971164  0.34899216\n",
       "RUBINOW,J.E.    -4.77881831  0.442828269  0.002947455  0.397266645  0.42862489\n",
       "SADEN.G.A.      -1.09912555  0.340140418 -1.846459807  0.175663982  0.33115081\n",
       "SATANIELLO,A.G. -0.54233983 -1.010549922  0.327794933 -0.084030798 -0.30667686\n",
       "SHEA,D.M.       -2.58305047  0.394836299 -0.670906316  0.111109337  0.27936379\n",
       "SHEA,J.F.JR.    -3.59661129  0.160319030  0.063074149  0.066117058 -0.12859723\n",
       "SIDOR,W.J.       6.86267423 -0.326512345 -0.223539990 -0.193097037  0.39272570\n",
       "SPEZIALE,J.A.   -2.02563865 -1.179257159  0.096799714  0.538847164 -0.19675847\n",
       "SPONZO,M.J.     -1.20653232  0.525702950 -0.152517934  0.111379839 -0.28432243\n",
       "STAPLETON,J.F.  -0.71990427  0.904025478 -0.385888468 -0.388914568  0.05031146\n",
       "TESTO,R.J.       2.10627832 -0.938516933  0.212140800 -0.785805182  0.05509681\n",
       "TIERNEY,W.L.JR. -1.35185243 -1.087567805 -0.091369799  0.243278899 -0.76332403\n",
       "WALL,R.A.        2.58852864 -1.904358121 -0.425457947 -0.115794124  0.24666383\n",
       "WRIGHT,D.B.     -1.46295418  0.549611549  0.299660488 -0.111793223  0.59836658\n",
       "ZARRILLI,K.J.    0.91567027 -1.423919791 -0.263911960  0.001755516 -0.19330840\n",
       "                          PC6          PC7          PC8          PC9\n",
       "AARONSON,L.H.   -0.0005757578 -0.091378585 -0.135269073 -0.128575861\n",
       "ALEXANDER,J.M.   0.2291020429 -0.146934313 -0.290680897  0.026883362\n",
       "ARMENTANO,A.J.  -0.0150672307  0.039344729 -0.091744399 -0.067418254\n",
       "BERDON,R.I.      0.0823548542 -0.041250034 -0.088524595  0.106836666\n",
       "BRACKEN,J.J.     0.3662956835 -0.115683915  0.097222215  0.034938985\n",
       "BURNS,E.B.       0.2398656404  0.029021619 -0.118483627 -0.044602878\n",
       "CALLAHAN,R.J.    0.0419396303 -0.046420276 -0.153019044  0.072959759\n",
       "COHEN,S.S.      -0.2385888732 -0.181235370 -0.059937870  0.134253736\n",
       "DALY,J.J.       -0.0969819070  0.011887854  0.146590548  0.006526473\n",
       "DANNEHY,J.F.     0.2345704654 -0.261943894  0.074970279 -0.096004824\n",
       "DEAN,H.H.        0.0422892179 -0.160087605 -0.015906093  0.034269335\n",
       "DEVITA,H.J.     -0.3135682951 -0.013853808  0.102990057 -0.168016090\n",
       "DRISCOLL,P.J.    0.0848006774  0.073357378  0.388568866  0.057807983\n",
       "GRILLO,A.E.     -0.3315085264 -0.340410028 -0.049774146 -0.051552641\n",
       "HADDEN,W.L.JR.  -0.1884860450  0.110350351  0.011223545 -0.036420861\n",
       "HAMILL,E.C.      0.2939367115  0.046408433 -0.046811333 -0.091929866\n",
       "HEALEY.A.H.      0.4210698555  0.173786456 -0.161432845 -0.099503351\n",
       "HULL,T.C.        0.1213794801 -0.244626896  0.122849723 -0.090044320\n",
       "LEVINE,I.        0.0418932411 -0.171897077  0.074269669 -0.153332051\n",
       "LEVISTER,R.L.    0.2588890180  0.129317484  0.234380552  0.057330645\n",
       "MARTIN,L.F.      0.2764326747  0.050828262 -0.025893427 -0.077654607\n",
       "MCGRATH,J.F.    -0.0289770461  0.151232397 -0.079635008  0.021153991\n",
       "MIGNONE,A.F.    -0.0942965186  0.050942546 -0.043601498  0.171266489\n",
       "MISSAL,H.M.      0.0771725303  0.169688886  0.109551552  0.025699414\n",
       "MULVEY,H.M.     -0.0757784669  0.039687957  0.120576589 -0.062465366\n",
       "NARUK,H.J.      -0.1627861912 -0.082996609  0.029519767  0.044385659\n",
       "O'BRIEN,F.J.    -0.0628189053 -0.008748507  0.082109673 -0.031862615\n",
       "O'SULLIVAN,T.J.  0.0419802134 -0.068746706 -0.005959595  0.161031626\n",
       "PASKEY,L.       -0.1540524249  0.053576784 -0.019551194 -0.015813354\n",
       "RUBINOW,J.E.     0.0167613056 -0.052193111 -0.121580871  0.014775106\n",
       "SADEN.G.A.       0.0949003323  0.446311662 -0.028944605  0.003826142\n",
       "SATANIELLO,A.G. -0.0925027367  0.147747501 -0.128600108 -0.097592542\n",
       "SHEA,D.M.        0.1911020749 -0.089847604  0.062737539  0.089904153\n",
       "SHEA,J.F.JR.    -0.0197253554 -0.048651991 -0.024812230  0.059981352\n",
       "SIDOR,W.J.      -0.2252404152  0.078211936 -0.094658809 -0.092912759\n",
       "SPEZIALE,J.A.   -0.2750388588  0.155081021  0.123100969 -0.107227085\n",
       "SPONZO,M.J.     -0.0091172669  0.076640409  0.037530283 -0.037412524\n",
       "STAPLETON,J.F.   0.1162176328 -0.001223657  0.099579966  0.191780133\n",
       "TESTO,R.J.      -0.2141084516  0.092137225 -0.041876523 -0.001824720\n",
       "TIERNEY,W.L.JR. -0.1018517683 -0.064918966  0.174549705  0.017910087\n",
       "WALL,R.A.        0.0124709913 -0.057849128 -0.074091944  0.034663571\n",
       "WRIGHT,D.B.     -0.3820213787  0.033419611 -0.022081206  0.058440648\n",
       "ZARRILLI,K.J.   -0.2023318536  0.131917575 -0.169450551  0.125541256\n",
       "                        PC10         PC11          PC12\n",
       "AARONSON,L.H.    0.119341425 -0.010913499  0.0598665378\n",
       "ALEXANDER,J.M.   0.033482298  0.136780444  0.0064969215\n",
       "ARMENTANO,A.J.   0.021651215  0.068652395  0.0016395476\n",
       "BERDON,R.I.      0.062934470 -0.023813265 -0.0034183317\n",
       "BRACKEN,J.J.    -0.031586001 -0.087292928  0.1160346423\n",
       "BURNS,E.B.      -0.009661878 -0.022036557  0.0009017388\n",
       "CALLAHAN,R.J.   -0.094455550 -0.025127771  0.0873311317\n",
       "COHEN,S.S.      -0.033146639  0.091568221  0.0218655616\n",
       "DALY,J.J.       -0.091369624  0.011234683 -0.0375220282\n",
       "DANNEHY,J.F.    -0.020954205  0.011273794  0.0017827969\n",
       "DEAN,H.H.       -0.036975822  0.045887691 -0.0365390911\n",
       "DEVITA,H.J.     -0.099286743 -0.062916215  0.0392446477\n",
       "DRISCOLL,P.J.    0.151281184  0.046659654  0.0182757879\n",
       "GRILLO,A.E.      0.081441817  0.018842793  0.0303515066\n",
       "HADDEN,W.L.JR.   0.013478349 -0.116027430 -0.0060235240\n",
       "HAMILL,E.C.     -0.033427068 -0.002414615 -0.0696354274\n",
       "HEALEY.A.H.      0.002305740  0.002481062 -0.0051253992\n",
       "HULL,T.C.       -0.170597167  0.010455887 -0.0728601628\n",
       "LEVINE,I.        0.101820814  0.084569052 -0.0069822027\n",
       "LEVISTER,R.L.    0.080808578  0.007094446  0.0152944106\n",
       "MARTIN,L.F.     -0.113323809 -0.049838188 -0.0014624317\n",
       "MCGRATH,J.F.    -0.059978289 -0.045941749  0.0198343803\n",
       "MIGNONE,A.F.    -0.022350067  0.063143059 -0.0662822794\n",
       "MISSAL,H.M.     -0.046278658  0.039343363  0.0149977234\n",
       "MULVEY,H.M.      0.030410251 -0.011643122  0.0243869469\n",
       "NARUK,H.J.      -0.027573997 -0.026900829 -0.0173532786\n",
       "O'BRIEN,F.J.     0.053075756 -0.026791275  0.0962722571\n",
       "O'SULLIVAN,T.J. -0.009363562 -0.062069907  0.0149897649\n",
       "PASKEY,L.       -0.002017242  0.045030415  0.0443615193\n",
       "RUBINOW,J.E.     0.048561561 -0.080132548 -0.0510988286\n",
       "SADEN.G.A.      -0.084634783  0.121227942  0.0443504176\n",
       "SATANIELLO,A.G.  0.022897290  0.012261482 -0.0217814185\n",
       "SHEA,D.M.        0.009075151 -0.007561938 -0.0545116136\n",
       "SHEA,J.F.JR.     0.016986656 -0.012137907  0.0396775902\n",
       "SIDOR,W.J.       0.026791382 -0.097065377 -0.0754182646\n",
       "SPEZIALE,J.A.    0.090216706  0.062818575 -0.0119487538\n",
       "SPONZO,M.J.      0.092612755 -0.043416800 -0.0591061425\n",
       "STAPLETON,J.F.   0.025786502 -0.075154360 -0.0303893210\n",
       "TESTO,R.J.      -0.044400499 -0.032758980 -0.0213157355\n",
       "TIERNEY,W.L.JR. -0.092546802  0.061236762 -0.0627938594\n",
       "WALL,R.A.        0.068939377 -0.023180225 -0.0123417004\n",
       "WRIGHT,D.B.     -0.156447730  0.020268712  0.0528375280\n",
       "ZARRILLI,K.J.    0.126476855 -0.015694950 -0.0268835640\n"
      ]
     },
     "metadata": {},
     "output_type": "display_data"
    }
   ],
   "source": [
    "head(pca)"
   ]
  },
  {
   "cell_type": "code",
   "execution_count": 138,
   "id": "72e531b2",
   "metadata": {
    "vscode": {
     "languageId": "r"
    }
   },
   "outputs": [
    {
     "data": {
      "text/html": [
       "<table class=\"dataframe\">\n",
       "<caption>A data.frame: 6 × 12</caption>\n",
       "<thead>\n",
       "\t<tr><th></th><th scope=col>CONT</th><th scope=col>INTG</th><th scope=col>DMNR</th><th scope=col>DILG</th><th scope=col>CFMG</th><th scope=col>DECI</th><th scope=col>PREP</th><th scope=col>FAMI</th><th scope=col>ORAL</th><th scope=col>WRIT</th><th scope=col>PHYS</th><th scope=col>RTEN</th></tr>\n",
       "\t<tr><th></th><th scope=col>&lt;dbl&gt;</th><th scope=col>&lt;dbl&gt;</th><th scope=col>&lt;dbl&gt;</th><th scope=col>&lt;dbl&gt;</th><th scope=col>&lt;dbl&gt;</th><th scope=col>&lt;dbl&gt;</th><th scope=col>&lt;dbl&gt;</th><th scope=col>&lt;dbl&gt;</th><th scope=col>&lt;dbl&gt;</th><th scope=col>&lt;dbl&gt;</th><th scope=col>&lt;dbl&gt;</th><th scope=col>&lt;dbl&gt;</th></tr>\n",
       "</thead>\n",
       "<tbody>\n",
       "\t<tr><th scope=row>AARONSON,L.H.</th><td>5.7</td><td>7.9</td><td>7.7</td><td>7.3</td><td>7.1</td><td>7.4</td><td>7.1</td><td>7.1</td><td>7.1</td><td>7.0</td><td>8.3</td><td>7.8</td></tr>\n",
       "\t<tr><th scope=row>ALEXANDER,J.M.</th><td>6.8</td><td>8.9</td><td>8.8</td><td>8.5</td><td>7.8</td><td>8.1</td><td>8.0</td><td>8.0</td><td>7.8</td><td>7.9</td><td>8.5</td><td>8.7</td></tr>\n",
       "\t<tr><th scope=row>ARMENTANO,A.J.</th><td>7.2</td><td>8.1</td><td>7.8</td><td>7.8</td><td>7.5</td><td>7.6</td><td>7.5</td><td>7.5</td><td>7.3</td><td>7.4</td><td>7.9</td><td>7.8</td></tr>\n",
       "\t<tr><th scope=row>BERDON,R.I.</th><td>6.8</td><td>8.8</td><td>8.5</td><td>8.8</td><td>8.3</td><td>8.5</td><td>8.7</td><td>8.7</td><td>8.4</td><td>8.5</td><td>8.8</td><td>8.7</td></tr>\n",
       "\t<tr><th scope=row>BRACKEN,J.J.</th><td>7.3</td><td>6.4</td><td>4.3</td><td>6.5</td><td>6.0</td><td>6.2</td><td>5.7</td><td>5.7</td><td>5.1</td><td>5.3</td><td>5.5</td><td>4.8</td></tr>\n",
       "\t<tr><th scope=row>BURNS,E.B.</th><td>6.2</td><td>8.8</td><td>8.7</td><td>8.5</td><td>7.9</td><td>8.0</td><td>8.1</td><td>8.0</td><td>8.0</td><td>8.0</td><td>8.6</td><td>8.6</td></tr>\n",
       "</tbody>\n",
       "</table>\n"
      ],
      "text/latex": [
       "A data.frame: 6 × 12\n",
       "\\begin{tabular}{r|llllllllllll}\n",
       "  & CONT & INTG & DMNR & DILG & CFMG & DECI & PREP & FAMI & ORAL & WRIT & PHYS & RTEN\\\\\n",
       "  & <dbl> & <dbl> & <dbl> & <dbl> & <dbl> & <dbl> & <dbl> & <dbl> & <dbl> & <dbl> & <dbl> & <dbl>\\\\\n",
       "\\hline\n",
       "\tAARONSON,L.H. & 5.7 & 7.9 & 7.7 & 7.3 & 7.1 & 7.4 & 7.1 & 7.1 & 7.1 & 7.0 & 8.3 & 7.8\\\\\n",
       "\tALEXANDER,J.M. & 6.8 & 8.9 & 8.8 & 8.5 & 7.8 & 8.1 & 8.0 & 8.0 & 7.8 & 7.9 & 8.5 & 8.7\\\\\n",
       "\tARMENTANO,A.J. & 7.2 & 8.1 & 7.8 & 7.8 & 7.5 & 7.6 & 7.5 & 7.5 & 7.3 & 7.4 & 7.9 & 7.8\\\\\n",
       "\tBERDON,R.I. & 6.8 & 8.8 & 8.5 & 8.8 & 8.3 & 8.5 & 8.7 & 8.7 & 8.4 & 8.5 & 8.8 & 8.7\\\\\n",
       "\tBRACKEN,J.J. & 7.3 & 6.4 & 4.3 & 6.5 & 6.0 & 6.2 & 5.7 & 5.7 & 5.1 & 5.3 & 5.5 & 4.8\\\\\n",
       "\tBURNS,E.B. & 6.2 & 8.8 & 8.7 & 8.5 & 7.9 & 8.0 & 8.1 & 8.0 & 8.0 & 8.0 & 8.6 & 8.6\\\\\n",
       "\\end{tabular}\n"
      ],
      "text/markdown": [
       "\n",
       "A data.frame: 6 × 12\n",
       "\n",
       "| <!--/--> | CONT &lt;dbl&gt; | INTG &lt;dbl&gt; | DMNR &lt;dbl&gt; | DILG &lt;dbl&gt; | CFMG &lt;dbl&gt; | DECI &lt;dbl&gt; | PREP &lt;dbl&gt; | FAMI &lt;dbl&gt; | ORAL &lt;dbl&gt; | WRIT &lt;dbl&gt; | PHYS &lt;dbl&gt; | RTEN &lt;dbl&gt; |\n",
       "|---|---|---|---|---|---|---|---|---|---|---|---|---|\n",
       "| AARONSON,L.H. | 5.7 | 7.9 | 7.7 | 7.3 | 7.1 | 7.4 | 7.1 | 7.1 | 7.1 | 7.0 | 8.3 | 7.8 |\n",
       "| ALEXANDER,J.M. | 6.8 | 8.9 | 8.8 | 8.5 | 7.8 | 8.1 | 8.0 | 8.0 | 7.8 | 7.9 | 8.5 | 8.7 |\n",
       "| ARMENTANO,A.J. | 7.2 | 8.1 | 7.8 | 7.8 | 7.5 | 7.6 | 7.5 | 7.5 | 7.3 | 7.4 | 7.9 | 7.8 |\n",
       "| BERDON,R.I. | 6.8 | 8.8 | 8.5 | 8.8 | 8.3 | 8.5 | 8.7 | 8.7 | 8.4 | 8.5 | 8.8 | 8.7 |\n",
       "| BRACKEN,J.J. | 7.3 | 6.4 | 4.3 | 6.5 | 6.0 | 6.2 | 5.7 | 5.7 | 5.1 | 5.3 | 5.5 | 4.8 |\n",
       "| BURNS,E.B. | 6.2 | 8.8 | 8.7 | 8.5 | 7.9 | 8.0 | 8.1 | 8.0 | 8.0 | 8.0 | 8.6 | 8.6 |\n",
       "\n"
      ],
      "text/plain": [
       "               CONT INTG DMNR DILG CFMG DECI PREP FAMI ORAL WRIT PHYS RTEN\n",
       "AARONSON,L.H.  5.7  7.9  7.7  7.3  7.1  7.4  7.1  7.1  7.1  7.0  8.3  7.8 \n",
       "ALEXANDER,J.M. 6.8  8.9  8.8  8.5  7.8  8.1  8.0  8.0  7.8  7.9  8.5  8.7 \n",
       "ARMENTANO,A.J. 7.2  8.1  7.8  7.8  7.5  7.6  7.5  7.5  7.3  7.4  7.9  7.8 \n",
       "BERDON,R.I.    6.8  8.8  8.5  8.8  8.3  8.5  8.7  8.7  8.4  8.5  8.8  8.7 \n",
       "BRACKEN,J.J.   7.3  6.4  4.3  6.5  6.0  6.2  5.7  5.7  5.1  5.3  5.5  4.8 \n",
       "BURNS,E.B.     6.2  8.8  8.7  8.5  7.9  8.0  8.1  8.0  8.0  8.0  8.6  8.6 "
      ]
     },
     "metadata": {},
     "output_type": "display_data"
    }
   ],
   "source": [
    "head(USJudgeRatings)"
   ]
  },
  {
   "attachments": {},
   "cell_type": "markdown",
   "id": "a3ef8d3e",
   "metadata": {},
   "source": [
    "### (b) Load the package ggbiplot and plot the two first components with the function ggbiplot(). You can label each point with the lawyer’s name by setting the labels parameter"
   ]
  },
  {
   "cell_type": "code",
   "execution_count": 145,
   "id": "9452ee09",
   "metadata": {
    "vscode": {
     "languageId": "r"
    }
   },
   "outputs": [
    {
     "name": "stdout",
     "output_type": "stream",
     "text": [
      "package 'ggplot2' successfully unpacked and MD5 sums checked\n",
      "\n",
      "The downloaded binary packages are in\n",
      "\tC:\\Users\\aleja\\AppData\\Local\\Temp\\RtmpEJsNan\\downloaded_packages\n"
     ]
    }
   ],
   "source": [
    "install.packages(\"ggplot2\")"
   ]
  },
  {
   "cell_type": "code",
   "execution_count": 148,
   "id": "e0dc2ab9",
   "metadata": {
    "vscode": {
     "languageId": "r"
    }
   },
   "outputs": [],
   "source": [
    "# Cargar el paquete ggbiplot\n",
    "library(\"ggplot2\")"
   ]
  },
  {
   "cell_type": "code",
   "execution_count": 154,
   "id": "71f18906",
   "metadata": {
    "vscode": {
     "languageId": "r"
    }
   },
   "outputs": [],
   "source": [
    "library(devtools)"
   ]
  },
  {
   "cell_type": "code",
   "execution_count": 158,
   "id": "10434baf",
   "metadata": {
    "vscode": {
     "languageId": "r"
    }
   },
   "outputs": [
    {
     "name": "stdout",
     "output_type": "stream",
     "text": [
      "package 'installr' successfully unpacked and MD5 sums checked\n",
      "\n",
      "The downloaded binary packages are in\n",
      "\tC:\\Users\\aleja\\AppData\\Local\\Temp\\RtmpEJsNan\\downloaded_packages\n"
     ]
    }
   ],
   "source": [
    "install.packages(\"installr\")"
   ]
  },
  {
   "cell_type": "code",
   "execution_count": 160,
   "id": "99bc0109",
   "metadata": {
    "vscode": {
     "languageId": "r"
    }
   },
   "outputs": [
    {
     "ename": "ERROR",
     "evalue": "Error in winDialog(type = \"yesno\", message = question): winDialog() cannot be used non-interactively\n",
     "output_type": "error",
     "traceback": [
      "Error in winDialog(type = \"yesno\", message = question): winDialog() cannot be used non-interactively\nTraceback:\n",
      "1. install.Rtools()",
      "2. ask.user.yn.question(\"A newer R version is available, do you want to update R first?\", \n .     GUI = GUI)",
      "3. winDialog(type = \"yesno\", message = question)",
      "4. stop(\"winDialog() cannot be used non-interactively\")"
     ]
    }
   ],
   "source": [
    "library(installr)\n",
    "install.Rtools()"
   ]
  },
  {
   "cell_type": "code",
   "execution_count": 156,
   "id": "c0b63a32",
   "metadata": {
    "vscode": {
     "languageId": "r"
    }
   },
   "outputs": [
    {
     "name": "stderr",
     "output_type": "stream",
     "text": [
      "WARNING: Rtools is required to build R packages, but is not currently installed.\n",
      "\n",
      "Please download and install Rtools 4.0 from https://cran.r-project.org/bin/windows/Rtools/.\n",
      "\n",
      "Downloading GitHub repo vqv/ggbiplot@experimental\n",
      "\n"
     ]
    },
    {
     "name": "stdout",
     "output_type": "stream",
     "text": [
      "\n",
      "\u001b[36m--\u001b[39m \u001b[36mR CMD build\u001b[39m \u001b[36m-----------------------------------------------------------------\u001b[39m\n"
     ]
    },
    {
     "name": "stderr",
     "output_type": "stream",
     "text": [
      "WARNING: Rtools is required to build R packages, but is not currently installed.\n",
      "\n",
      "Please download and install Rtools 4.0 from https://cran.r-project.org/bin/windows/Rtools/.\n",
      "\n"
     ]
    },
    {
     "name": "stdout",
     "output_type": "stream",
     "text": [
      "* checking for file 'C:\\Users\\aleja\\AppData\\Local\\Temp\\RtmpEJsNan\\remotes4cc861ca65b2\\vqv-ggbiplot-81e70b5/DESCRIPTION' ... OK\r\n",
      "* preparing 'ggbiplot':\r\n",
      "* checking DESCRIPTION meta-information ... OK\r\n",
      "* checking for LF line-endings in source and make files and shell scripts\r\n",
      "* checking for empty or unneeded directories\r\n",
      "* looking to see if a 'data/datalist' file should be added\r\n",
      "* building 'ggbiplot_0.55.tar.gz'\r\n",
      "\r\n"
     ]
    },
    {
     "name": "stderr",
     "output_type": "stream",
     "text": [
      "Warning message in i.p(...):\n",
      "\"installation of package 'C:/Users/aleja/AppData/Local/Temp/RtmpEJsNan/file4cc87fac432e/ggbiplot_0.55.tar.gz' had non-zero exit status\"\n"
     ]
    }
   ],
   "source": [
    "install_github(\"vqv/ggbiplot\", ref = \"experimental\")"
   ]
  },
  {
   "cell_type": "code",
   "execution_count": 157,
   "id": "76adf8f8",
   "metadata": {
    "vscode": {
     "languageId": "r"
    }
   },
   "outputs": [
    {
     "ename": "ERROR",
     "evalue": "Error in library(ggbiplot): there is no package called 'ggbiplot'\n",
     "output_type": "error",
     "traceback": [
      "Error in library(ggbiplot): there is no package called 'ggbiplot'\nTraceback:\n",
      "1. library(ggbiplot)"
     ]
    }
   ],
   "source": [
    "# Cargar el paquete ggbiplot\n",
    "library(ggbiplot)"
   ]
  },
  {
   "cell_type": "code",
   "execution_count": 161,
   "id": "6771b9c4",
   "metadata": {
    "vscode": {
     "languageId": "r"
    }
   },
   "outputs": [
    {
     "ename": "ERROR",
     "evalue": "Error in ggbiplot(pca, choices = c(1, 2), labels = rownames(USJudgeRatings)): no se pudo encontrar la función \"ggbiplot\"\n",
     "output_type": "error",
     "traceback": [
      "Error in ggbiplot(pca, choices = c(1, 2), labels = rownames(USJudgeRatings)): no se pudo encontrar la función \"ggbiplot\"\nTraceback:\n"
     ]
    }
   ],
   "source": [
    "# Visualizar las dos primeras componentes con ggbiplot\n",
    "ggbiplot(pca, choices = c(1, 2), labels = rownames(USJudgeRatings))"
   ]
  },
  {
   "attachments": {},
   "cell_type": "markdown",
   "id": "e410e113",
   "metadata": {},
   "source": [
    "Esto deberia funcionar cuando no se trabaje en un ambiente "
   ]
  }
 ],
 "metadata": {
  "kernelspec": {
   "display_name": "R",
   "language": "R",
   "name": "ir"
  },
  "language_info": {
   "codemirror_mode": "r",
   "file_extension": ".r",
   "mimetype": "text/x-r-source",
   "name": "R",
   "pygments_lexer": "r",
   "version": "4.1.3"
  }
 },
 "nbformat": 4,
 "nbformat_minor": 5
}
