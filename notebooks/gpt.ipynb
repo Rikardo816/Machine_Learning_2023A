{
 "cells": [
  {
   "cell_type": "markdown",
   "source": [
    "# GPT: Generative Pre-trained Transformer\n",
    "## Exercise: Exploring Creative Writing with GPT\n",
    "Your task is to use OpenAI's GPT model to generate creative content. You'll explore various prompts and settings to see how GPT responds and creates different outputs.\n",
    "\n",
    "Load GPT-2 Model and Tokenizer. GPT-2 is freely available in Hugging Face's model hub and is still highly effective."
   ],
   "metadata": {
    "collapsed": false
   },
   "id": "1119ac2883851453"
  },
  {
   "cell_type": "code",
   "execution_count": null,
   "outputs": [],
   "source": [
    "from transformers import GPT2Tokenizer, GPT2LMHeadModel"
   ],
   "metadata": {
    "collapsed": false,
    "is_executing": true
   },
   "id": "8603cdb56575a448"
  }
 ],
 "metadata": {
  "kernelspec": {
   "display_name": "Python 3",
   "language": "python",
   "name": "python3"
  },
  "language_info": {
   "codemirror_mode": {
    "name": "ipython",
    "version": 2
   },
   "file_extension": ".py",
   "mimetype": "text/x-python",
   "name": "python",
   "nbconvert_exporter": "python",
   "pygments_lexer": "ipython2",
   "version": "2.7.6"
  }
 },
 "nbformat": 4,
 "nbformat_minor": 5
}
